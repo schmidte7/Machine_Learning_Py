{
  "cells": [
    {
      "cell_type": "markdown",
      "id": "acoustic-spouse",
      "metadata": {
        "id": "acoustic-spouse"
      },
      "source": [
        "# Linear Regression"
      ]
    },
    {
      "cell_type": "markdown",
      "id": "sitting-soviet",
      "metadata": {
        "id": "sitting-soviet"
      },
      "source": [
        "Training a linear regression model means finding the set of parameters $\\beta_1, \\dots, \\beta_p$ that minimize the $MSE$. In machine learning, the function that we want to minimize is usually called **cost** function.\n",
        "\n",
        "Consider these two approaches to train a Linear Regression model.\n",
        "\n",
        "1. **Analytical solution** --- This method gives a closed-form solution to compute the optimal weights ($\\beta$'s) for the regression line.\n",
        "2. **Gradient descent** --- This method is an iterative optimization techniques that starts with some initial guess of the weights vector $\\beta$ and it updates it in order to minimize the cost function."
      ]
    },
    {
      "cell_type": "code",
      "execution_count": 1,
      "id": "funky-asian",
      "metadata": {
        "id": "funky-asian"
      },
      "outputs": [],
      "source": [
        "import matplotlib.pyplot as plt"
      ]
    },
    {
      "cell_type": "markdown",
      "id": "34af8795",
      "metadata": {},
      "source": [
        "#### 1) Generate Synthetic Dataset"
      ]
    },
    {
      "cell_type": "markdown",
      "id": "waiting-mexican",
      "metadata": {
        "id": "waiting-mexican"
      },
      "source": [
        "Started by generating some synthetic data set. In this problem, assume that the regression model has only one predictor and writes\n",
        "\n",
        " $$f(X_1) = \\beta_0 + \\beta_1 X_1,$$\n",
        "\n",
        "where $\\beta_0 = 4$ and $\\beta_1 = 3$.\n",
        "\n",
        "Also, assume that\n",
        "- The predictor $X_1$ follows a uniform distribution between 0 and 2, i.e., $X_1 \\sim U[0, 2]$,\n",
        "- The response $Y = f(X_1)+ N(0, 1) = 4 + 3 X_1 + N(0, 1)$, where $N(0, 1)$ denotes a standard normal random variable."
      ]
    },
    {
      "cell_type": "code",
      "execution_count": 2,
      "id": "adult-ghana",
      "metadata": {
        "id": "adult-ghana"
      },
      "outputs": [],
      "source": [
        "# Libraries\n",
        "import numpy as np"
      ]
    },
    {
      "cell_type": "code",
      "execution_count": 3,
      "id": "backed-collar",
      "metadata": {
        "id": "backed-collar",
        "outputId": "a465cd74-7219-422e-811d-9d1ea45e9ba8"
      },
      "outputs": [
        {
          "data": {
            "text/plain": [
              "(100, 1)"
            ]
          },
          "execution_count": 3,
          "metadata": {},
          "output_type": "execute_result"
        }
      ],
      "source": [
        "n = 100 # Observations\n",
        "X1 = 2 * np.random.rand(n, 1) # Creates a column vector with n rows and 1 column, and generates values using rand(). When *2, makes it uniform.\n",
        "#X1 = np.random.uniform(low = 0, high = 2, size = (n,1)) ... This code does the same thing, loc = location of mean\n",
        "X1.shape # Dimensions of Panda/NumPy type objects"
      ]
    },
    {
      "cell_type": "code",
      "execution_count": 4,
      "id": "controversial-presentation",
      "metadata": {
        "id": "controversial-presentation",
        "outputId": "c26cbd22-920f-46d2-c809-6d1757c763c6"
      },
      "outputs": [
        {
          "data": {
            "text/plain": [
              "(100, 1)"
            ]
          },
          "execution_count": 4,
          "metadata": {},
          "output_type": "execute_result"
        }
      ],
      "source": [
        "Y = 4 + 3 * X1 + np.random.rand(n, 1)  # Creates a column vector with n rows and 1 column\n",
        "#Y = 4 + 3 * X1 + np.random.normal(loc = 0, scale = 1, size = (n, 1)) ... This code does the same thing, loc = location of mean\n",
        "Y.shape # Dimensions of Panda/NumPy type objects"
      ]
    },
    {
      "cell_type": "code",
      "execution_count": 5,
      "id": "automated-nomination",
      "metadata": {
        "id": "automated-nomination",
        "outputId": "e3fad04a-32e9-44a1-d64c-a8064f4d7877"
      },
      "outputs": [
        {
          "data": {
            "image/png": "[encoded data removed]",
            "text/plain": [
              "<Figure size 640x480 with 1 Axes>"
            ]
          },
          "metadata": {},
          "output_type": "display_data"
        }
      ],
      "source": [
        "plt.scatter(X1, Y, color = 'skyblue'); # 'k' = black\n",
        "#plt.plot (line plot)\n",
        "plt.title(\"Scatter Plot\", fontsize = 18, fontweight = \"bold\", fontname = \"Times New Roman\") # Plot title\n",
        "plt.xlabel(\"$X_1$\", fontsize = 16, fontname = \"Times New Roman\"); # x-axis label\n",
        "plt.ylabel(\"$Y$\", fontsize = 16, fontname = \"Times New Roman\"); # y-axis label\n",
        "plt.ylim(bottom = 4); # Minimum of y-axis"
      ]
    },
    {
      "cell_type": "markdown",
      "id": "individual-deployment",
      "metadata": {
        "id": "individual-deployment"
      },
      "source": [
        "#### 2) Train Linear Regression with Analytical Solution"
      ]
    },
    {
      "cell_type": "markdown",
      "id": "educated-message",
      "metadata": {
        "id": "educated-message"
      },
      "source": [
        "Denote by $X$ the matrix containing the predictor values. In this case, the first column of $X$ contains all 1's (for the intercept) and the second column contains the predictor $X_1$.\n",
        "\n",
        "The optimal vector $\\beta^* = (\\beta_0^*, \\beta_1^*)$ that minimizes the cost function $MSE(\\beta_0, \\beta_1)$, is given by\n",
        "\n",
        "$$\\beta^* = (X^T X)^{-1} X^T Y.$$"
      ]
    },
    {
      "cell_type": "code",
      "execution_count": 6,
      "id": "unique-worship",
      "metadata": {
        "id": "unique-worship",
        "outputId": "6b992ec0-25fe-453d-82cb-5e5365d9cca8"
      },
      "outputs": [
        {
          "data": {
            "text/plain": [
              "(100, 2)"
            ]
          },
          "execution_count": 6,
          "metadata": {},
          "output_type": "execute_result"
        }
      ],
      "source": [
        "ones = np.ones(shape = (n, 1)) # Creates a numpry array of shape (n, 1) where all elements are 1\n",
        "X = np.column_stack([ones, X1]) # Creates 2-D array, first column is all ones and the second are the random numbers generated before [X1 = 2 * np.random.rand(n, 1)]\n",
        "X.shape # Dimensions of Panda/NumPy type objects\n",
        "# np.column_stack(): used to stack or arrange 1-D input arrays as columns into a 2-D array\n",
        "#  Vector always has one column (n * 1) --> (rows * 1)"
      ]
    },
    {
      "cell_type": "code",
      "execution_count": 7,
      "id": "changing-vector",
      "metadata": {
        "id": "changing-vector",
        "outputId": "b40ee503-918c-4697-fcea-aca86fea4245"
      },
      "outputs": [
        {
          "data": {
            "text/plain": [
              "array([[4.58590649],\n",
              "       [2.8931343 ]])"
            ]
          },
          "execution_count": 7,
          "metadata": {},
          "output_type": "execute_result"
        }
      ],
      "source": [
        "# beta_opt = np.dot(np.linalg.inv(np.dot(np.transpose(X), X)), np.dot(np.transpose(X), Y)) ... more complex version\n",
        "beta_opt = np.linalg.inv(X.T @ X) @ (X.T @ Y) # Generated by using the formula from above\n",
        "\n",
        "# np.linalg.inv(): Computes the inverse of a matrix.\n",
        "#  @: Matrix multiplication operator\n",
        "#   .T means that the transpose operation is performed using the dot product\n",
        "\n",
        "beta_opt # Optimal values (weights) of the coefficients for the linear regression model"
      ]
    },
    {
      "cell_type": "code",
      "execution_count": 8,
      "id": "0374f2f3",
      "metadata": {
        "id": "0374f2f3",
        "outputId": "17e1c12e-9951-4378-e404-17e88aab4b00"
      },
      "outputs": [
        {
          "data": {
            "text/plain": [
              "array([4.58590649])"
            ]
          },
          "execution_count": 8,
          "metadata": {},
          "output_type": "execute_result"
        }
      ],
      "source": [
        "beta_opt[0] # Multiply value with the ones"
      ]
    },
    {
      "cell_type": "code",
      "execution_count": 9,
      "id": "0e4f8d62",
      "metadata": {
        "id": "0e4f8d62",
        "outputId": "8f047199-d277-4ca7-c279-cd64d7fb1806"
      },
      "outputs": [
        {
          "data": {
            "text/plain": [
              "array([2.8931343])"
            ]
          },
          "execution_count": 9,
          "metadata": {},
          "output_type": "execute_result"
        }
      ],
      "source": [
        "beta_opt[1] # Multiply value with the X1s"
      ]
    },
    {
      "cell_type": "code",
      "execution_count": 10,
      "id": "cognitive-picture",
      "metadata": {
        "id": "cognitive-picture"
      },
      "outputs": [],
      "source": [
        "# These are two ways to find y_hat!\n",
        "ones * beta_opt[0] + X1 * beta_opt[1] # Combine the columns together from X\n",
        "Y_hat = X @ beta_opt # Computed from the formula above, X has two columns"
      ]
    },
    {
      "cell_type": "markdown",
      "id": "sweet-regulation",
      "metadata": {
        "id": "sweet-regulation"
      },
      "source": [
        "#### 3) Plot the Predictions"
      ]
    },
    {
      "cell_type": "code",
      "execution_count": 11,
      "id": "herbal-romance",
      "metadata": {
        "id": "herbal-romance",
        "outputId": "098fd145-45db-41c1-8462-7087a601bd41"
      },
      "outputs": [
        {
          "data": {
            "image/png": "[encoded data removed]",
            "text/plain": [
              "<Figure size 640x480 with 1 Axes>"
            ]
          },
          "metadata": {},
          "output_type": "display_data"
        }
      ],
      "source": [
        "plt.plot(X1, Y, \"b.\"); # Generated random data (original)\n",
        "plt.plot(X1, Y_hat, \"skyblue\"); # Generated predictions (Y_hat values)"
      ]
    },
    {
      "cell_type": "markdown",
      "id": "chemical-denial",
      "metadata": {
        "id": "chemical-denial"
      },
      "source": [
        "#### 4) Compare Solutions with scikitlearn"
      ]
    },
    {
      "cell_type": "code",
      "execution_count": 12,
      "id": "dying-demographic",
      "metadata": {
        "id": "dying-demographic"
      },
      "outputs": [],
      "source": [
        "from sklearn.linear_model import LinearRegression # Just a class, fitting and prediction. First create an instance"
      ]
    },
    {
      "cell_type": "code",
      "execution_count": 13,
      "id": "54d284f8",
      "metadata": {
        "id": "54d284f8",
        "outputId": "ca9113d4-1ada-4781-d003-eef63798e868"
      },
      "outputs": [
        {
          "data": {
            "text/html": [
              "<style>#sk-container-id-1 {color: black;}#sk-container-id-1 pre{padding: 0;}#sk-container-id-1 div.sk-toggleable {background-color: white;}#sk-container-id-1 label.sk-toggleable__label {cursor: pointer;display: block;width: 100%;margin-bottom: 0;padding: 0.3em;box-sizing: border-box;text-align: center;}#sk-container-id-1 label.sk-toggleable__label-arrow:before {content: \"▸\";float: left;margin-right: 0.25em;color: #696969;}#sk-container-id-1 label.sk-toggleable__label-arrow:hover:before {color: black;}#sk-container-id-1 div.sk-estimator:hover label.sk-toggleable__label-arrow:before {color: black;}#sk-container-id-1 div.sk-toggleable__content {max-height: 0;max-width: 0;overflow: hidden;text-align: left;background-color: #f0f8ff;}#sk-container-id-1 div.sk-toggleable__content pre {margin: 0.2em;color: black;border-radius: 0.25em;background-color: #f0f8ff;}#sk-container-id-1 input.sk-toggleable__control:checked~div.sk-toggleable__content {max-height: 200px;max-width: 100%;overflow: auto;}#sk-container-id-1 input.sk-toggleable__control:checked~label.sk-toggleable__label-arrow:before {content: \"▾\";}#sk-container-id-1 div.sk-estimator input.sk-toggleable__control:checked~label.sk-toggleable__label {background-color: #d4ebff;}#sk-container-id-1 div.sk-label input.sk-toggleable__control:checked~label.sk-toggleable__label {background-color: #d4ebff;}#sk-container-id-1 input.sk-hidden--visually {border: 0;clip: rect(1px 1px 1px 1px);clip: rect(1px, 1px, 1px, 1px);height: 1px;margin: -1px;overflow: hidden;padding: 0;position: absolute;width: 1px;}#sk-container-id-1 div.sk-estimator {font-family: monospace;background-color: #f0f8ff;border: 1px dotted black;border-radius: 0.25em;box-sizing: border-box;margin-bottom: 0.5em;}#sk-container-id-1 div.sk-estimator:hover {background-color: #d4ebff;}#sk-container-id-1 div.sk-parallel-item::after {content: \"\";width: 100%;border-bottom: 1px solid gray;flex-grow: 1;}#sk-container-id-1 div.sk-label:hover label.sk-toggleable__label {background-color: #d4ebff;}#sk-container-id-1 div.sk-serial::before {content: \"\";position: absolute;border-left: 1px solid gray;box-sizing: border-box;top: 0;bottom: 0;left: 50%;z-index: 0;}#sk-container-id-1 div.sk-serial {display: flex;flex-direction: column;align-items: center;background-color: white;padding-right: 0.2em;padding-left: 0.2em;position: relative;}#sk-container-id-1 div.sk-item {position: relative;z-index: 1;}#sk-container-id-1 div.sk-parallel {display: flex;align-items: stretch;justify-content: center;background-color: white;position: relative;}#sk-container-id-1 div.sk-item::before, #sk-container-id-1 div.sk-parallel-item::before {content: \"\";position: absolute;border-left: 1px solid gray;box-sizing: border-box;top: 0;bottom: 0;left: 50%;z-index: -1;}#sk-container-id-1 div.sk-parallel-item {display: flex;flex-direction: column;z-index: 1;position: relative;background-color: white;}#sk-container-id-1 div.sk-parallel-item:first-child::after {align-self: flex-end;width: 50%;}#sk-container-id-1 div.sk-parallel-item:last-child::after {align-self: flex-start;width: 50%;}#sk-container-id-1 div.sk-parallel-item:only-child::after {width: 0;}#sk-container-id-1 div.sk-dashed-wrapped {border: 1px dashed gray;margin: 0 0.4em 0.5em 0.4em;box-sizing: border-box;padding-bottom: 0.4em;background-color: white;}#sk-container-id-1 div.sk-label label {font-family: monospace;font-weight: bold;display: inline-block;line-height: 1.2em;}#sk-container-id-1 div.sk-label-container {text-align: center;}#sk-container-id-1 div.sk-container {/* jupyter's `normalize.less` sets `[hidden] { display: none; }` but bootstrap.min.css set `[hidden] { display: none !important; }` so we also need the `!important` here to be able to override the default hidden behavior on the sphinx rendered scikit-learn.org. See: https://github.com/scikit-learn/scikit-learn/issues/21755 */display: inline-block !important;position: relative;}#sk-container-id-1 div.sk-text-repr-fallback {display: none;}</style><div id=\"sk-container-id-1\" class=\"sk-top-container\"><div class=\"sk-text-repr-fallback\"><pre>LinearRegression()</pre><b>In a Jupyter environment, please rerun this cell to show the HTML representation or trust the notebook. <br />On GitHub, the HTML representation is unable to render, please try loading this page with nbviewer.org.</b></div><div class=\"sk-container\" hidden><div class=\"sk-item\"><div class=\"sk-estimator sk-toggleable\"><input class=\"sk-toggleable__control sk-hidden--visually\" id=\"sk-estimator-id-1\" type=\"checkbox\" checked><label for=\"sk-estimator-id-1\" class=\"sk-toggleable__label sk-toggleable__label-arrow\">LinearRegression</label><div class=\"sk-toggleable__content\"><pre>LinearRegression()</pre></div></div></div></div></div>"
            ],
            "text/plain": [
              "LinearRegression()"
            ]
          },
          "execution_count": 13,
          "metadata": {},
          "output_type": "execute_result"
        }
      ],
      "source": [
        "# Need to fit to the data\n",
        "# Implicit intercept:\n",
        "lin_reg = LinearRegression() # Equivalent to: lin_reg = LinearRegression(fit_intercept = True)\n",
        "# Create an instance to fit on training, predict on new, and evaluate the performance of the model\n",
        "lin_reg.fit(X1, Y)\n",
        "# y-intercept will be determined by the line of best fit\n",
        "\n",
        "# Explicit intercept in X:\n",
        "lin_reg2 = LinearRegression(fit_intercept = False) # Sets y-intercept to 0\n",
        "lin_reg2.fit(X, Y)\n",
        "\n",
        "# No intercept (wrong!):\n",
        "lin_reg_wrong = LinearRegression(fit_intercept = False) # Sets y-intercept to 0\n",
        "lin_reg_wrong.fit(X1, Y)\n",
        "\n",
        "# Double intercept (wrong!):\n",
        "lin_reg_double = LinearRegression()\n",
        "lin_reg_double.fit(X, Y)"
      ]
    },
    {
      "cell_type": "code",
      "execution_count": 14,
      "id": "technical-offer",
      "metadata": {
        "id": "technical-offer",
        "outputId": "f2ad3a30-b71d-41e9-de6f-dd80c18c998e"
      },
      "outputs": [
        {
          "name": "stdout",
          "output_type": "stream",
          "text": [
            "[4.58590649]\n",
            "[[2.8931343]]\n"
          ]
        }
      ],
      "source": [
        "print(lin_reg.intercept_) # Shows the point where the estimated regression line crosses the 𝑦 axis\n",
        "print(lin_reg.coef_) # Contains the coefficients for the prediction of each of the targets"
      ]
    },
    {
      "cell_type": "code",
      "execution_count": 15,
      "id": "2a53f1fe",
      "metadata": {
        "id": "2a53f1fe",
        "outputId": "be8a7394-8479-4466-9843-bd28dcb87ea8"
      },
      "outputs": [
        {
          "name": "stdout",
          "output_type": "stream",
          "text": [
            "0.0\n",
            "[[4.58590649 2.8931343 ]]\n"
          ]
        }
      ],
      "source": [
        "print(lin_reg2.intercept_) # Shows the point where the estimated regression line crosses the 𝑦 axis\n",
        "print(lin_reg2.coef_) # Contains the coefficients for the prediction of each of the targets"
      ]
    },
    {
      "cell_type": "code",
      "execution_count": 16,
      "id": "4c56b9bc",
      "metadata": {
        "id": "4c56b9bc",
        "outputId": "c860669c-9207-420c-b798-1e70e7930063"
      },
      "outputs": [
        {
          "name": "stdout",
          "output_type": "stream",
          "text": [
            "0.0\n",
            "[[6.28800113]]\n"
          ]
        }
      ],
      "source": [
        "print(lin_reg_wrong.intercept_) # Shows the point where the estimated regression line crosses the 𝑦 axis\n",
        "print(lin_reg_wrong.coef_) # Contains the coefficients for the prediction of each of the targets"
      ]
    },
    {
      "cell_type": "code",
      "execution_count": 17,
      "id": "3c3535c2",
      "metadata": {
        "id": "3c3535c2",
        "outputId": "d73d7d18-e3ff-4aff-b574-ab15e52dc5f1"
      },
      "outputs": [
        {
          "name": "stdout",
          "output_type": "stream",
          "text": [
            "[4.58590649]\n",
            "[[0.        2.8931343]]\n"
          ]
        }
      ],
      "source": [
        "print(lin_reg_double.intercept_) # Shows the point where the estimated regression line crosses the 𝑦 axis\n",
        "print(lin_reg_double.coef_) # Contains the coefficients for the prediction of each of the targets"
      ]
    },
    {
      "cell_type": "code",
      "execution_count": 18,
      "id": "45823090",
      "metadata": {
        "id": "45823090",
        "outputId": "0c66f616-f21b-4d9f-aa21-ca8ab2153556"
      },
      "outputs": [
        {
          "data": {
            "text/plain": [
              "array([[ 9.76996262e-15],\n",
              "       [-4.44089210e-15]])"
            ]
          },
          "execution_count": 18,
          "metadata": {},
          "output_type": "execute_result"
        }
      ],
      "source": [
        "beta_opt - lin_reg2.coef_.T"
      ]
    },
    {
      "cell_type": "code",
      "execution_count": 19,
      "id": "ee19915f",
      "metadata": {
        "id": "ee19915f",
        "outputId": "6a35aa6c-3e58-4067-b7ec-e73a154d0bba"
      },
      "outputs": [
        {
          "data": {
            "image/png": "[encoded data removed]",
            "text/plain": [
              "<Figure size 640x480 with 1 Axes>"
            ]
          },
          "metadata": {},
          "output_type": "display_data"
        },
        {
          "data": {
            "image/png": "[encoded data removed]",
            "text/plain": [
              "<Figure size 640x480 with 1 Axes>"
            ]
          },
          "metadata": {},
          "output_type": "display_data"
        }
      ],
      "source": [
        "Y_hat1 = lin_reg.predict(X1) # Linear regression model,\n",
        "plt.plot(X1, Y, 'b.') # Plot the original/true values\n",
        "plt.plot(X1, Y_hat1, 'skyblue') # Plot the predicted values\n",
        "plt.show()\n",
        "\n",
        "Y_hat_wrong = lin_reg_wrong.predict(X1)\n",
        "plt.plot(X1, Y, 'b.')\n",
        "plt.plot(X1, Y_hat_wrong, 'skyblue')\n",
        "plt.show()"
      ]
    },
    {
      "cell_type": "code",
      "execution_count": 20,
      "id": "85ca9b3b",
      "metadata": {
        "id": "85ca9b3b",
        "outputId": "1f2f6462-a49c-4351-e0d9-65704308df6a"
      },
      "outputs": [
        {
          "data": {
            "text/plain": [
              "array([[-6.21724894e-15]])"
            ]
          },
          "execution_count": 20,
          "metadata": {},
          "output_type": "execute_result"
        }
      ],
      "source": [
        "beta_opt[0] - lin_reg.intercept_ # Close to 0\n",
        "beta_opt[1] - lin_reg.coef_ # Close to 0"
      ]
    },
    {
      "cell_type": "markdown",
      "id": "charged-recall",
      "metadata": {
        "id": "charged-recall"
      },
      "source": [
        "#### 5) Train Linear Regression with Batch Gradient Descent"
      ]
    },
    {
      "cell_type": "markdown",
      "id": "defined-manitoba",
      "metadata": {
        "id": "defined-manitoba"
      },
      "source": [
        "The general idea of gradient descent is to update the parameters iteratively to minimize the cost function.\n",
        "\n",
        "**Note**: When using gradient descent, it is always better have all features on the same scale. This can be done in the data transformation step using the `StandardScaler` class from `sklearn.preprocessing`.\n",
        "This ensures that the algorithm converges to the optimal solution much faster."
      ]
    },
    {
      "cell_type": "markdown",
      "id": "regulated-brisbane",
      "metadata": {
        "id": "regulated-brisbane"
      },
      "source": [
        "The cost function is\n",
        "\n",
        "$$MSE(\\beta_0, \\beta_1) = \\frac{1}{n}\\sum_{i = 1}^{n}(Y_i -\\beta_0 - \\beta_1 X_{i1})^2.$$\n",
        "\n",
        "The idea of gradient descent is to start with some initial guess of the vector $\\beta = (\\beta_0, \\beta_1)$, and iteratively update it in the direction that points \"most **downhill**\" (remember that you want to **minimize** the cost function).\n",
        "\n",
        "The **gradient vector** of the MSE is denoted as\n",
        "\n",
        "$$ \\nabla MSE(\\beta) = \\begin{bmatrix}\n",
        "           \\dfrac{\\partial MSE(\\beta)}{\\partial \\beta_0} \\\\\n",
        "           \\dfrac{\\partial MSE(\\beta)}{\\partial \\beta_1}\n",
        "         \\end{bmatrix},$$\n",
        "\n",
        "where each element is the partial derivative of the $MSE$ with respect to $\\beta_1$ and $\\beta_2$.\n",
        "\n",
        "Notice that the **gradient vector of any cost function** gives us the direction that points \"most **uphill**\".\n",
        "Since the **gradient** vector points toward the most **uphill** direction, then the **negative gradient** points toward the most **downhill** direction.\n",
        "\n",
        "In linear regression with the $MSE$ cost function, the **negative gradient** vector writes\n",
        "\n",
        "$$ -\\nabla MSE(\\beta) = -\\frac{2}{n} X^T (X\\beta - Y).$$\n",
        "\n",
        "Based on the negative gradient vector, at each iteration, it updates the previous parameter value $\\beta_{\\text{old}}$, as follows\n",
        "\n",
        "$$ \\beta_{\\text{new}} = \\beta_{\\text{old}} - \\alpha\\ \\nabla MSE(\\beta_{\\text{old}}),$$\n",
        "\n",
        "where $\\alpha$ is the learning rate, a **crucial** tuning parameter for the algorithm."
      ]
    },
    {
      "cell_type": "markdown",
      "id": "homeless-nation",
      "metadata": {
        "id": "homeless-nation"
      },
      "source": [
        "* We now implement the batch gradient descent algorithm. Fill in the `??`. Which value of `beta` do you obtain? What happens if you change `alpha`?"
      ]
    },
    {
      "cell_type": "code",
      "execution_count": 21,
      "id": "efficient-member",
      "metadata": {
        "id": "efficient-member",
        "outputId": "9065ac11-1dc5-4c74-de9e-eaa54a930342"
      },
      "outputs": [
        {
          "name": "stdout",
          "output_type": "stream",
          "text": [
            "Final: [[4.58590649]\n",
            " [2.8931343 ]]\n"
          ]
        }
      ],
      "source": [
        "alpha = 0.1 # Learning rate parameter\n",
        "n_iterations = 1000 # Number of iterations\n",
        "\n",
        "beta = np.random.rand(2, 1) # Randomly initialize a 2=x1 array of random numbers\n",
        "\n",
        "for i in range(n_iterations): # Loops through the 1000 iterations\n",
        "    gradient = 2 / n * X.T @ (X @ beta - Y) # Negative gradient vector formula from above\n",
        "    beta = beta - alpha * gradient # Beta_new formula from above\n",
        "    # The negative is represented in the beta MINUS alpha, which would be the same as doing (-2/n)... beta + alpha\n",
        "\n",
        "print(\"Final:\", beta)\n",
        "#-2.5e+117 = -2.5 * (10 ** (117)) = -2.5 * (1000000000000000)"
      ]
    },
    {
      "cell_type": "code",
      "execution_count": 22,
      "id": "1ab5e435",
      "metadata": {
        "id": "1ab5e435",
        "outputId": "40c846f6-d0a9-46a3-cb3c-847cf9d44015"
      },
      "outputs": [
        {
          "data": {
            "text/plain": [
              "array([[4.58590649],\n",
              "       [2.8931343 ]])"
            ]
          },
          "execution_count": 22,
          "metadata": {},
          "output_type": "execute_result"
        }
      ],
      "source": [
        "beta_opt"
      ]
    },
    {
      "cell_type": "code",
      "execution_count": 25,
      "id": "considerable-legislature",
      "metadata": {
        "id": "considerable-legislature"
      },
      "outputs": [],
      "source": [
        "def plot_batch_gradient_descent(X, Y, alpha = 0.1, n_iterations = 100, seed = 42):\n",
        "    '''\n",
        "    numpy.ndarray numpy.ndarray float float float -> list\n",
        "    produces a list with the updates of the parameter vector\n",
        "    as a side effect, it plots the first 100 updates of the regression function\n",
        "    '''\n",
        "\n",
        "    # Remember dimension info of X\n",
        "    nRows, nCols = X.shape # nRows is the count of how many there are\n",
        "\n",
        "    # Start with a random beta\n",
        "    np.random.seed(seed) # Same every time you call the function\n",
        "    beta = np.random.rand(nCols, 1) # Randomly initialize the parameter vector\n",
        "\n",
        "    # Initialize beta history with this beta\n",
        "    beta_path = [] # Empty list\n",
        "    beta_path.append(beta) # Append beta to the empty list\n",
        "\n",
        "    # Plot Y and second column of X\n",
        "    plt.plot(X[:,1], Y, \"b.\")\n",
        "\n",
        "    for i in range(n_iterations): # Loops through the # iterations\n",
        "        gradient = 2 / n * X.T @ (X @ beta - Y) # Negative gradient vector formula from above\n",
        "        beta = beta - alpha * gradient # Beta_new formula from above\n",
        "        beta_path.append(beta) # Append beta to the empty list\n",
        "\n",
        "        if (i < 100): # Choose # of i's that are plotted\n",
        "            plt.plot(X[:, 1], X @ beta, \"skyblue\") # Plot Y (X @ beta) and second column of X\n",
        "\n",
        "    return(np.array(beta_path))\n"
      ]
    },
    {
      "cell_type": "code",
      "execution_count": 26,
      "id": "substantial-interval",
      "metadata": {
        "id": "substantial-interval",
        "outputId": "91595c8d-5e41-462a-cd29-263e0dc01fb1"
      },
      "outputs": [
        {
          "data": {
            "text/plain": [
              "array([[4.53009628],\n",
              "       [2.94011498]])"
            ]
          },
          "execution_count": 26,
          "metadata": {},
          "output_type": "execute_result"
        },
        {
          "data": {
            "image/png": "[encoded data removed]",
            "text/plain": [
              "<Figure size 640x480 with 1 Axes>"
            ]
          },
          "metadata": {},
          "output_type": "display_data"
        }
      ],
      "source": [
        "path_batch = plot_batch_gradient_descent(X, Y, alpha = 0.1)\n",
        "path_batch[-1] # Displays the last value of the list of arrays"
      ]
    },
    {
      "cell_type": "markdown",
      "id": "existing-reduction",
      "metadata": {
        "id": "existing-reduction"
      },
      "source": [
        "#### 6) Train Linear Regression with Stochastic Gradient Descent"
      ]
    },
    {
      "cell_type": "markdown",
      "id": "brilliant-spring",
      "metadata": {
        "id": "brilliant-spring"
      },
      "source": [
        "The gradient descent scheme that above is known as **batch** gradient descent. This is because at every step it uses **all** the training data to update the gradient vector and the parameter vector $\\beta$.\n",
        "This makes it very slow when the training dataset contains many observations.\n",
        "\n",
        "At the other end of the spectrum, there is **stochastic** gradient descent. Here, at every step, it randomly choose one random observation (row) from the dataset to update the gradient vector and the parameter vector $\\beta$. In other words, the updates at every step depend only on a single observation.\n",
        "\n",
        "This makes the algorithm much faster to compute each iteration, compared to the batch version. On the other hand, since the updates depend on a single observation, this algorithm is more \"erratic\" than the batch version, and it will never settles at the minimum point, unless you \"stop it\".\n",
        "\n",
        "In the stochastic gradient descent, it is important to have a learning rate $\\alpha$ that slowly decays to zero, as the number of iterations increases. One common choice is to define the learning rate as follows\n",
        "\n",
        "$$\\alpha(t) = \\dfrac{\\eta_0}{t^{k}}$$\n",
        "\n",
        "where $t$ denotes the number of iterations, and $\\eta_0$ and $k$ are hyperparameters. The defaults values in `scikit-learn` are $\\eta_0 = 0.01$ and $k = 0.25$."
      ]
    },
    {
      "cell_type": "code",
      "execution_count": 27,
      "id": "careful-indie",
      "metadata": {
        "id": "careful-indie"
      },
      "outputs": [],
      "source": [
        "from sklearn.linear_model import SGDRegressor"
      ]
    },
    {
      "cell_type": "code",
      "execution_count": 28,
      "id": "dominican-mills",
      "metadata": {
        "id": "dominican-mills"
      },
      "outputs": [],
      "source": [
        "# A linear regression model using stochastic gradient descent (SGD) as the optimization algorithm.\n",
        "sgd_reg = SGDRegressor(max_iter = 1000, tol = 1e-5, eta0 = 0.1, penalty = None)\n",
        "# max_iter: The maximum number of iterations to run the SGD algorithm\n",
        "#  tol: Tolerance for the stopping criterion, which is used to determine when to stop iterating\n",
        "#   eta0: Initial learning rate for the SGD algorithm\n",
        "#     penalty: The regularization term to apply to the model"
      ]
    },
    {
      "cell_type": "code",
      "execution_count": 29,
      "id": "distinct-ethics",
      "metadata": {
        "id": "distinct-ethics",
        "outputId": "66a0db80-4cfd-4c16-a2f2-ec4ba24c262f"
      },
      "outputs": [
        {
          "data": {
            "text/plain": [
              "(100, 1)"
            ]
          },
          "execution_count": 29,
          "metadata": {},
          "output_type": "execute_result"
        }
      ],
      "source": [
        "sgd_reg.fit(X1, Y.ravel()) # Convert a multi-dimensional array into one-dimensional array\n",
        "Y.shape"
      ]
    },
    {
      "cell_type": "code",
      "execution_count": 30,
      "id": "coated-challenge",
      "metadata": {
        "id": "coated-challenge",
        "outputId": "746b3aa6-103b-4eb0-e7b5-2e6e992e062e"
      },
      "outputs": [
        {
          "name": "stdout",
          "output_type": "stream",
          "text": [
            "beta_0: 4.587166503778629\n",
            "beta_1: 2.8933927648470115\n"
          ]
        }
      ],
      "source": [
        "print(\"beta_0:\", sgd_reg.intercept_[0])\n",
        "print(\"beta_1:\", sgd_reg.coef_[0])"
      ]
    },
    {
      "cell_type": "markdown",
      "id": "italic-complexity",
      "metadata": {
        "id": "italic-complexity"
      },
      "source": [
        "#### 7) Plot the Downhill Path of Batch and Stochastic Gradient Descent"
      ]
    },
    {
      "cell_type": "code",
      "execution_count": 31,
      "id": "adult-miami",
      "metadata": {
        "id": "adult-miami"
      },
      "outputs": [],
      "source": [
        "def plot_stochastic_gradient_descent(X, Y, eta0 = 0.1, n_iterations = 100, seed = 42):\n",
        "    '''\n",
        "    numpy.ndarray numpy.ndarray float float float -> list\n",
        "    produces a list with the updates of the parameter vector\n",
        "    as a side effect, it plots the first 10 updates of the regression function\n",
        "    '''\n",
        "\n",
        "     # Plot the data points\n",
        "    plt.plot(X[:,1], Y, \"b.\")\n",
        "\n",
        "    # Remember dimension info of X\n",
        "    nRows, nCols = X.shape\n",
        "\n",
        "    # Start with a random beta\n",
        "    np.random.seed(seed)\n",
        "    beta = np.random.rand(nCols, 1) # Intialize parameter\n",
        "\n",
        "    # Initialize beta history with this beta\n",
        "    beta_path = []\n",
        "    beta_path.append(beta)\n",
        "\n",
        "    # In each iteration, loop once for each row\n",
        "    for i in range(n_iterations):\n",
        "        for j in range(nRows):\n",
        "\n",
        "            # Extract a random row of X and the corresopnding entry of Y\n",
        "            random_row = np.random.randint(nRows)\n",
        "            Xj = X[random_row:random_row+1]\n",
        "            Yj = Y[random_row:random_row+1]\n",
        "            # Note: X[random_row:random_row+1] is different from X[random_row] (check Xj.shape)!\n",
        "\n",
        "            # Update the learning rate\n",
        "            alpha = eta0 / (j + i * nRows + 1)**0.25 # Update learning rate\n",
        "\n",
        "            # Update beta (as in batch gradient descent)\n",
        "            gradient = 2 * Xj.T @ (Xj @ beta - Yj) # Compute gradient\n",
        "            beta = beta - alpha * gradient # Update beta\n",
        "            beta_path.append(beta)\n",
        "\n",
        "            # Plot regression if we are in the first 10 iterations\n",
        "            if (i == 0 and j < 10):\n",
        "                plt.plot(X[:, 1], X @ beta, \"skyblue\")\n",
        "\n",
        "    return(np.array(beta_path))"
      ]
    },
    {
      "cell_type": "code",
      "execution_count": 32,
      "id": "exterior-healing",
      "metadata": {
        "id": "exterior-healing",
        "outputId": "b121ed2a-7b17-4cec-f626-868c004e351e"
      },
      "outputs": [
        {
          "data": {
            "text/plain": [
              "array([[[0.37454012],\n",
              "        [0.95071431]],\n",
              "\n",
              "       [[1.54143323],\n",
              "        [2.20841555]],\n",
              "\n",
              "       [[2.16861754],\n",
              "        [2.81179697]],\n",
              "\n",
              "       ...,\n",
              "\n",
              "       [[4.60540473],\n",
              "        [2.88403556]],\n",
              "\n",
              "       [[4.60434702],\n",
              "        [2.88324976]],\n",
              "\n",
              "       [[4.59908985],\n",
              "        [2.87623677]]])"
            ]
          },
          "execution_count": 32,
          "metadata": {},
          "output_type": "execute_result"
        },
        {
          "data": {
            "image/png": "[encoded data removed]",
            "text/plain": [
              "<Figure size 640x480 with 1 Axes>"
            ]
          },
          "metadata": {},
          "output_type": "display_data"
        }
      ],
      "source": [
        "path_stoch = plot_stochastic_gradient_descent(X, Y);\n",
        "path_stoch"
      ]
    },
    {
      "cell_type": "code",
      "execution_count": 33,
      "id": "sophisticated-silicon",
      "metadata": {
        "id": "sophisticated-silicon",
        "outputId": "981d3096-3512-4f72-b162-33f1fb0597fb"
      },
      "outputs": [
        {
          "data": {
            "image/png": "[encoded data removed]",
            "text/plain": [
              "<Figure size 700x400 with 1 Axes>"
            ]
          },
          "metadata": {},
          "output_type": "display_data"
        }
      ],
      "source": [
        "begin = 0 # Starting points of plotted data\n",
        "end = 500 # Ending points of plotted data\n",
        "plt.figure(figsize = (7,4)) # Figure dimensions\n",
        "plt.plot(path_stoch[begin:end, 0], path_stoch[begin:end, 1], \"g-s\", linewidth = 1, label = \"Stochastic\") # 1 corresponds to the x-axis values and 0 is for the y-axis\n",
        "plt.plot(path_batch[begin:end, 0], path_batch[begin:end, 1], \"b-o\", linewidth = 1, label = \"Batch\") # 1 corresponds to the x-axis values and 0 is for the y-axis\n",
        "plt.legend(loc = \"upper left\", fontsize = 16) # Legend label\n",
        "plt.xlabel(\"$\\\\beta_0$\", fontsize = 20) # x-axis label\n",
        "plt.ylabel(\"$\\\\beta_1$\", fontsize = 20); # y-axis label"
      ]
    }
  ],
  "metadata": {
    "colab": {
      "provenance": []
    },
    "kernelspec": {
      "display_name": "Python 3 (ipykernel)",
      "language": "python",
      "name": "python3"
    },
    "language_info": {
      "codemirror_mode": {
        "name": "ipython",
        "version": 3
      },
      "file_extension": ".py",
      "mimetype": "text/x-python",
      "name": "python",
      "nbconvert_exporter": "python",
      "pygments_lexer": "ipython3",
      "version": "3.11.6"
    }
  },
  "nbformat": 4,
  "nbformat_minor": 5
}
