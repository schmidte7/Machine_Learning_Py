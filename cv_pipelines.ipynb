{
  "cells": [
    {
      "cell_type": "markdown",
      "metadata": {
        "id": "QEVXHQGwwOpm"
      },
      "source": [
        "# Model Assessment"
      ]
    },
    {
      "cell_type": "markdown",
      "metadata": {
        "id": "5108E3fewOpp"
      },
      "source": [
        "**Objective**\n",
        "\n",
        "To access how the $k$-NN model is performing by reviewing the expected prediction error. In addition, scikit-learn's Pipelines will be introduced, which are a very useful tools to avoid validation overfitting during cross-validation.\n"
      ]
    },
    {
      "cell_type": "markdown",
      "metadata": {
        "id": "gI4vbgwKwOpq"
      },
      "source": [
        "#### 1) Introduction and Setup"
      ]
    },
    {
      "cell_type": "code",
      "execution_count": 1,
      "metadata": {
        "ExecuteTime": {
          "end_time": "2021-03-11T17:40:07.020276Z",
          "start_time": "2021-03-11T17:40:05.837658Z"
        },
        "id": "PI6v1VrUwOpr"
      },
      "outputs": [],
      "source": [
        "import matplotlib.pyplot as plt\n",
        "%matplotlib inline\n",
        "import numpy as np\n",
        "import pandas as pd"
      ]
    },
    {
      "cell_type": "code",
      "execution_count": 2,
      "metadata": {
        "ExecuteTime": {
          "end_time": "2021-03-11T17:40:07.132428Z",
          "start_time": "2021-03-11T17:40:07.023280Z"
        },
        "id": "Fij8G-olwOpt"
      },
      "outputs": [],
      "source": [
        "housing = pd.read_csv(\"housing_clean.csv\") # Read in the data, csv"
      ]
    },
    {
      "cell_type": "code",
      "execution_count": 3,
      "metadata": {
        "ExecuteTime": {
          "end_time": "2021-03-11T17:40:07.182414Z",
          "start_time": "2021-03-11T17:40:07.141866Z"
        },
        "id": "M54pOSBWwOpu",
        "outputId": "5c8a4562-3301-45e1-8191-a9873ef3cbb8"
      },
      "outputs": [
        {
          "data": {
            "text/html": [
              "<div>\n",
              "<style scoped>\n",
              "    .dataframe tbody tr th:only-of-type {\n",
              "        vertical-align: middle;\n",
              "    }\n",
              "\n",
              "    .dataframe tbody tr th {\n",
              "        vertical-align: top;\n",
              "    }\n",
              "\n",
              "    .dataframe thead th {\n",
              "        text-align: right;\n",
              "    }\n",
              "</style>\n",
              "<table border=\"1\" class=\"dataframe\">\n",
              "  <thead>\n",
              "    <tr style=\"text-align: right;\">\n",
              "      <th></th>\n",
              "      <th>longitude</th>\n",
              "      <th>latitude</th>\n",
              "      <th>housing_median_age</th>\n",
              "      <th>median_income</th>\n",
              "      <th>median_house_value</th>\n",
              "      <th>rooms_per_bedroom</th>\n",
              "      <th>rooms_per_household</th>\n",
              "      <th>people_per_household</th>\n",
              "      <th>ocean_proximity_enc</th>\n",
              "    </tr>\n",
              "  </thead>\n",
              "  <tbody>\n",
              "    <tr>\n",
              "      <th>0</th>\n",
              "      <td>-122.23</td>\n",
              "      <td>37.88</td>\n",
              "      <td>41.0</td>\n",
              "      <td>8.3252</td>\n",
              "      <td>452600.0</td>\n",
              "      <td>6.821705</td>\n",
              "      <td>6.984127</td>\n",
              "      <td>2.555556</td>\n",
              "      <td>3.0</td>\n",
              "    </tr>\n",
              "    <tr>\n",
              "      <th>1</th>\n",
              "      <td>-122.22</td>\n",
              "      <td>37.86</td>\n",
              "      <td>21.0</td>\n",
              "      <td>8.3014</td>\n",
              "      <td>358500.0</td>\n",
              "      <td>6.418626</td>\n",
              "      <td>6.238137</td>\n",
              "      <td>2.109842</td>\n",
              "      <td>3.0</td>\n",
              "    </tr>\n",
              "    <tr>\n",
              "      <th>2</th>\n",
              "      <td>-122.24</td>\n",
              "      <td>37.85</td>\n",
              "      <td>52.0</td>\n",
              "      <td>7.2574</td>\n",
              "      <td>352100.0</td>\n",
              "      <td>7.721053</td>\n",
              "      <td>8.288136</td>\n",
              "      <td>2.802260</td>\n",
              "      <td>3.0</td>\n",
              "    </tr>\n",
              "    <tr>\n",
              "      <th>3</th>\n",
              "      <td>-122.25</td>\n",
              "      <td>37.85</td>\n",
              "      <td>52.0</td>\n",
              "      <td>5.6431</td>\n",
              "      <td>341300.0</td>\n",
              "      <td>5.421277</td>\n",
              "      <td>5.817352</td>\n",
              "      <td>2.547945</td>\n",
              "      <td>3.0</td>\n",
              "    </tr>\n",
              "    <tr>\n",
              "      <th>4</th>\n",
              "      <td>-122.25</td>\n",
              "      <td>37.85</td>\n",
              "      <td>52.0</td>\n",
              "      <td>3.8462</td>\n",
              "      <td>342200.0</td>\n",
              "      <td>5.810714</td>\n",
              "      <td>6.281853</td>\n",
              "      <td>2.181467</td>\n",
              "      <td>3.0</td>\n",
              "    </tr>\n",
              "  </tbody>\n",
              "</table>\n",
              "</div>"
            ],
            "text/plain": [
              "   longitude  latitude  housing_median_age  median_income  median_house_value  \\\n",
              "0    -122.23     37.88                41.0         8.3252            452600.0   \n",
              "1    -122.22     37.86                21.0         8.3014            358500.0   \n",
              "2    -122.24     37.85                52.0         7.2574            352100.0   \n",
              "3    -122.25     37.85                52.0         5.6431            341300.0   \n",
              "4    -122.25     37.85                52.0         3.8462            342200.0   \n",
              "\n",
              "   rooms_per_bedroom  rooms_per_household  people_per_household  \\\n",
              "0           6.821705             6.984127              2.555556   \n",
              "1           6.418626             6.238137              2.109842   \n",
              "2           7.721053             8.288136              2.802260   \n",
              "3           5.421277             5.817352              2.547945   \n",
              "4           5.810714             6.281853              2.181467   \n",
              "\n",
              "   ocean_proximity_enc  \n",
              "0                  3.0  \n",
              "1                  3.0  \n",
              "2                  3.0  \n",
              "3                  3.0  \n",
              "4                  3.0  "
            ]
          },
          "execution_count": 3,
          "metadata": {},
          "output_type": "execute_result"
        }
      ],
      "source": [
        "housing.head(5) # Display the first # of rows of the DataFrame"
      ]
    },
    {
      "cell_type": "code",
      "execution_count": 4,
      "metadata": {
        "id": "qqSGpI94wOpv",
        "outputId": "dd4a8bde-3a2e-4c84-df62-511ab45f783e"
      },
      "outputs": [
        {
          "name": "stdout",
          "output_type": "stream",
          "text": [
            "<class 'pandas.core.frame.DataFrame'>\n",
            "RangeIndex: 20433 entries, 0 to 20432\n",
            "Data columns (total 9 columns):\n",
            " #   Column                Non-Null Count  Dtype  \n",
            "---  ------                --------------  -----  \n",
            " 0   longitude             20433 non-null  float64\n",
            " 1   latitude              20433 non-null  float64\n",
            " 2   housing_median_age    20433 non-null  float64\n",
            " 3   median_income         20433 non-null  float64\n",
            " 4   median_house_value    20433 non-null  float64\n",
            " 5   rooms_per_bedroom     20433 non-null  float64\n",
            " 6   rooms_per_household   20433 non-null  float64\n",
            " 7   people_per_household  20433 non-null  float64\n",
            " 8   ocean_proximity_enc   20433 non-null  float64\n",
            "dtypes: float64(9)\n",
            "memory usage: 1.4 MB\n"
          ]
        }
      ],
      "source": [
        "housing.info() # Prints concise summary of a DataFrame"
      ]
    },
    {
      "cell_type": "code",
      "execution_count": 5,
      "metadata": {
        "id": "B_9QPRYxwOpv",
        "outputId": "0a6ebc7d-b697-463f-aab6-ba4d77ee9eb6"
      },
      "outputs": [
        {
          "data": {
            "text/html": [
              "<div>\n",
              "<style scoped>\n",
              "    .dataframe tbody tr th:only-of-type {\n",
              "        vertical-align: middle;\n",
              "    }\n",
              "\n",
              "    .dataframe tbody tr th {\n",
              "        vertical-align: top;\n",
              "    }\n",
              "\n",
              "    .dataframe thead th {\n",
              "        text-align: right;\n",
              "    }\n",
              "</style>\n",
              "<table border=\"1\" class=\"dataframe\">\n",
              "  <thead>\n",
              "    <tr style=\"text-align: right;\">\n",
              "      <th></th>\n",
              "      <th>longitude</th>\n",
              "      <th>latitude</th>\n",
              "      <th>housing_median_age</th>\n",
              "      <th>median_income</th>\n",
              "      <th>median_house_value</th>\n",
              "      <th>rooms_per_bedroom</th>\n",
              "      <th>rooms_per_household</th>\n",
              "      <th>people_per_household</th>\n",
              "      <th>ocean_proximity_enc</th>\n",
              "    </tr>\n",
              "  </thead>\n",
              "  <tbody>\n",
              "    <tr>\n",
              "      <th>count</th>\n",
              "      <td>20433.000000</td>\n",
              "      <td>20433.000000</td>\n",
              "      <td>20433.000000</td>\n",
              "      <td>20433.000000</td>\n",
              "      <td>20433.000000</td>\n",
              "      <td>20433.000000</td>\n",
              "      <td>20433.000000</td>\n",
              "      <td>20433.000000</td>\n",
              "      <td>20433.000000</td>\n",
              "    </tr>\n",
              "    <tr>\n",
              "      <th>mean</th>\n",
              "      <td>-119.570689</td>\n",
              "      <td>35.633221</td>\n",
              "      <td>28.633094</td>\n",
              "      <td>3.871162</td>\n",
              "      <td>206864.413155</td>\n",
              "      <td>4.984829</td>\n",
              "      <td>5.431344</td>\n",
              "      <td>3.071533</td>\n",
              "      <td>1.166153</td>\n",
              "    </tr>\n",
              "    <tr>\n",
              "      <th>std</th>\n",
              "      <td>2.003578</td>\n",
              "      <td>2.136348</td>\n",
              "      <td>12.591805</td>\n",
              "      <td>1.899291</td>\n",
              "      <td>115435.667099</td>\n",
              "      <td>1.171676</td>\n",
              "      <td>2.482946</td>\n",
              "      <td>10.438269</td>\n",
              "      <td>1.420135</td>\n",
              "    </tr>\n",
              "    <tr>\n",
              "      <th>min</th>\n",
              "      <td>-124.350000</td>\n",
              "      <td>32.540000</td>\n",
              "      <td>1.000000</td>\n",
              "      <td>0.499900</td>\n",
              "      <td>14999.000000</td>\n",
              "      <td>1.000000</td>\n",
              "      <td>0.846154</td>\n",
              "      <td>0.692308</td>\n",
              "      <td>0.000000</td>\n",
              "    </tr>\n",
              "    <tr>\n",
              "      <th>25%</th>\n",
              "      <td>-121.800000</td>\n",
              "      <td>33.930000</td>\n",
              "      <td>18.000000</td>\n",
              "      <td>2.563700</td>\n",
              "      <td>119500.000000</td>\n",
              "      <td>4.169782</td>\n",
              "      <td>4.441441</td>\n",
              "      <td>2.429032</td>\n",
              "      <td>0.000000</td>\n",
              "    </tr>\n",
              "    <tr>\n",
              "      <th>50%</th>\n",
              "      <td>-118.490000</td>\n",
              "      <td>34.260000</td>\n",
              "      <td>29.000000</td>\n",
              "      <td>3.536500</td>\n",
              "      <td>179700.000000</td>\n",
              "      <td>4.922170</td>\n",
              "      <td>5.230769</td>\n",
              "      <td>2.817582</td>\n",
              "      <td>1.000000</td>\n",
              "    </tr>\n",
              "    <tr>\n",
              "      <th>75%</th>\n",
              "      <td>-118.010000</td>\n",
              "      <td>37.720000</td>\n",
              "      <td>37.000000</td>\n",
              "      <td>4.744000</td>\n",
              "      <td>264700.000000</td>\n",
              "      <td>5.700364</td>\n",
              "      <td>6.052381</td>\n",
              "      <td>3.281513</td>\n",
              "      <td>1.000000</td>\n",
              "    </tr>\n",
              "    <tr>\n",
              "      <th>max</th>\n",
              "      <td>-114.310000</td>\n",
              "      <td>41.950000</td>\n",
              "      <td>52.000000</td>\n",
              "      <td>15.000100</td>\n",
              "      <td>500001.000000</td>\n",
              "      <td>10.000000</td>\n",
              "      <td>141.909091</td>\n",
              "      <td>1243.333333</td>\n",
              "      <td>4.000000</td>\n",
              "    </tr>\n",
              "  </tbody>\n",
              "</table>\n",
              "</div>"
            ],
            "text/plain": [
              "          longitude      latitude  housing_median_age  median_income  \\\n",
              "count  20433.000000  20433.000000        20433.000000   20433.000000   \n",
              "mean    -119.570689     35.633221           28.633094       3.871162   \n",
              "std        2.003578      2.136348           12.591805       1.899291   \n",
              "min     -124.350000     32.540000            1.000000       0.499900   \n",
              "25%     -121.800000     33.930000           18.000000       2.563700   \n",
              "50%     -118.490000     34.260000           29.000000       3.536500   \n",
              "75%     -118.010000     37.720000           37.000000       4.744000   \n",
              "max     -114.310000     41.950000           52.000000      15.000100   \n",
              "\n",
              "       median_house_value  rooms_per_bedroom  rooms_per_household  \\\n",
              "count        20433.000000       20433.000000         20433.000000   \n",
              "mean        206864.413155           4.984829             5.431344   \n",
              "std         115435.667099           1.171676             2.482946   \n",
              "min          14999.000000           1.000000             0.846154   \n",
              "25%         119500.000000           4.169782             4.441441   \n",
              "50%         179700.000000           4.922170             5.230769   \n",
              "75%         264700.000000           5.700364             6.052381   \n",
              "max         500001.000000          10.000000           141.909091   \n",
              "\n",
              "       people_per_household  ocean_proximity_enc  \n",
              "count          20433.000000         20433.000000  \n",
              "mean               3.071533             1.166153  \n",
              "std               10.438269             1.420135  \n",
              "min                0.692308             0.000000  \n",
              "25%                2.429032             0.000000  \n",
              "50%                2.817582             1.000000  \n",
              "75%                3.281513             1.000000  \n",
              "max             1243.333333             4.000000  "
            ]
          },
          "execution_count": 5,
          "metadata": {},
          "output_type": "execute_result"
        }
      ],
      "source": [
        "housing.describe() # Computes summary statistics for DataFrame"
      ]
    },
    {
      "cell_type": "code",
      "execution_count": 6,
      "metadata": {
        "id": "zEQMkVImwOpv",
        "outputId": "d01bbe12-d686-4409-ad1b-45653a4d3f3a"
      },
      "outputs": [
        {
          "data": {
            "text/plain": [
              "(20433, 9)"
            ]
          },
          "execution_count": 6,
          "metadata": {},
          "output_type": "execute_result"
        }
      ],
      "source": [
        "housing.shape # Dimensions of Panda/NumPy type objects"
      ]
    },
    {
      "cell_type": "code",
      "execution_count": 7,
      "metadata": {
        "ExecuteTime": {
          "end_time": "2021-03-11T17:40:07.198142Z",
          "start_time": "2021-03-11T17:40:07.184411Z"
        },
        "id": "KMbDiDXxwOpw",
        "outputId": "832f6449-feb5-4e94-842a-bb5162f9935a"
      },
      "outputs": [
        {
          "data": {
            "text/plain": [
              "(20433, 1)"
            ]
          },
          "execution_count": 7,
          "metadata": {},
          "output_type": "execute_result"
        }
      ],
      "source": [
        "X = housing.drop([\"median_house_value\"], axis = 1).copy() # Remove the response from the other predictor variables\n",
        "y = housing[[\"median_house_value\"]].copy()  # Only keep the response variable\n",
        "# copy(): Ensures that the new DataFrame is a separate copy of the original DataFrame and any changes made to it will not affect the original DataFrame.\n",
        "\n",
        "X.shape # Dimensions of Panda/NumPy type objects\n",
        "y.shape # Dimensions of Panda/NumPy type objects"
      ]
    },
    {
      "cell_type": "markdown",
      "metadata": {
        "id": "3c1l-UYSwOpy"
      },
      "source": [
        "#### 2.0) Fitting KNN and Expected Error"
      ]
    },
    {
      "cell_type": "code",
      "execution_count": 8,
      "metadata": {
        "ExecuteTime": {
          "end_time": "2021-03-11T17:40:09.034119Z",
          "start_time": "2021-03-11T17:40:07.202128Z"
        },
        "id": "zCHThnTOwOpy"
      },
      "outputs": [],
      "source": [
        "from sklearn.neighbors import KNeighborsRegressor"
      ]
    },
    {
      "cell_type": "code",
      "execution_count": 9,
      "metadata": {
        "ExecuteTime": {
          "end_time": "2021-03-11T17:40:09.192001Z",
          "start_time": "2021-03-11T17:40:09.036197Z"
        },
        "id": "zK-okH5gwOpz",
        "outputId": "8e1cfe98-083e-4e81-bd93-8f16e09e520b"
      },
      "outputs": [
        {
          "data": {
            "text/html": [
              "<style>#sk-container-id-1 {color: black;}#sk-container-id-1 pre{padding: 0;}#sk-container-id-1 div.sk-toggleable {background-color: white;}#sk-container-id-1 label.sk-toggleable__label {cursor: pointer;display: block;width: 100%;margin-bottom: 0;padding: 0.3em;box-sizing: border-box;text-align: center;}#sk-container-id-1 label.sk-toggleable__label-arrow:before {content: \"▸\";float: left;margin-right: 0.25em;color: #696969;}#sk-container-id-1 label.sk-toggleable__label-arrow:hover:before {color: black;}#sk-container-id-1 div.sk-estimator:hover label.sk-toggleable__label-arrow:before {color: black;}#sk-container-id-1 div.sk-toggleable__content {max-height: 0;max-width: 0;overflow: hidden;text-align: left;background-color: #f0f8ff;}#sk-container-id-1 div.sk-toggleable__content pre {margin: 0.2em;color: black;border-radius: 0.25em;background-color: #f0f8ff;}#sk-container-id-1 input.sk-toggleable__control:checked~div.sk-toggleable__content {max-height: 200px;max-width: 100%;overflow: auto;}#sk-container-id-1 input.sk-toggleable__control:checked~label.sk-toggleable__label-arrow:before {content: \"▾\";}#sk-container-id-1 div.sk-estimator input.sk-toggleable__control:checked~label.sk-toggleable__label {background-color: #d4ebff;}#sk-container-id-1 div.sk-label input.sk-toggleable__control:checked~label.sk-toggleable__label {background-color: #d4ebff;}#sk-container-id-1 input.sk-hidden--visually {border: 0;clip: rect(1px 1px 1px 1px);clip: rect(1px, 1px, 1px, 1px);height: 1px;margin: -1px;overflow: hidden;padding: 0;position: absolute;width: 1px;}#sk-container-id-1 div.sk-estimator {font-family: monospace;background-color: #f0f8ff;border: 1px dotted black;border-radius: 0.25em;box-sizing: border-box;margin-bottom: 0.5em;}#sk-container-id-1 div.sk-estimator:hover {background-color: #d4ebff;}#sk-container-id-1 div.sk-parallel-item::after {content: \"\";width: 100%;border-bottom: 1px solid gray;flex-grow: 1;}#sk-container-id-1 div.sk-label:hover label.sk-toggleable__label {background-color: #d4ebff;}#sk-container-id-1 div.sk-serial::before {content: \"\";position: absolute;border-left: 1px solid gray;box-sizing: border-box;top: 0;bottom: 0;left: 50%;z-index: 0;}#sk-container-id-1 div.sk-serial {display: flex;flex-direction: column;align-items: center;background-color: white;padding-right: 0.2em;padding-left: 0.2em;position: relative;}#sk-container-id-1 div.sk-item {position: relative;z-index: 1;}#sk-container-id-1 div.sk-parallel {display: flex;align-items: stretch;justify-content: center;background-color: white;position: relative;}#sk-container-id-1 div.sk-item::before, #sk-container-id-1 div.sk-parallel-item::before {content: \"\";position: absolute;border-left: 1px solid gray;box-sizing: border-box;top: 0;bottom: 0;left: 50%;z-index: -1;}#sk-container-id-1 div.sk-parallel-item {display: flex;flex-direction: column;z-index: 1;position: relative;background-color: white;}#sk-container-id-1 div.sk-parallel-item:first-child::after {align-self: flex-end;width: 50%;}#sk-container-id-1 div.sk-parallel-item:last-child::after {align-self: flex-start;width: 50%;}#sk-container-id-1 div.sk-parallel-item:only-child::after {width: 0;}#sk-container-id-1 div.sk-dashed-wrapped {border: 1px dashed gray;margin: 0 0.4em 0.5em 0.4em;box-sizing: border-box;padding-bottom: 0.4em;background-color: white;}#sk-container-id-1 div.sk-label label {font-family: monospace;font-weight: bold;display: inline-block;line-height: 1.2em;}#sk-container-id-1 div.sk-label-container {text-align: center;}#sk-container-id-1 div.sk-container {/* jupyter's `normalize.less` sets `[hidden] { display: none; }` but bootstrap.min.css set `[hidden] { display: none !important; }` so we also need the `!important` here to be able to override the default hidden behavior on the sphinx rendered scikit-learn.org. See: https://github.com/scikit-learn/scikit-learn/issues/21755 */display: inline-block !important;position: relative;}#sk-container-id-1 div.sk-text-repr-fallback {display: none;}</style><div id=\"sk-container-id-1\" class=\"sk-top-container\"><div class=\"sk-text-repr-fallback\"><pre>KNeighborsRegressor(n_neighbors=1)</pre><b>In a Jupyter environment, please rerun this cell to show the HTML representation or trust the notebook. <br />On GitHub, the HTML representation is unable to render, please try loading this page with nbviewer.org.</b></div><div class=\"sk-container\" hidden><div class=\"sk-item\"><div class=\"sk-estimator sk-toggleable\"><input class=\"sk-toggleable__control sk-hidden--visually\" id=\"sk-estimator-id-1\" type=\"checkbox\" checked><label for=\"sk-estimator-id-1\" class=\"sk-toggleable__label sk-toggleable__label-arrow\">KNeighborsRegressor</label><div class=\"sk-toggleable__content\"><pre>KNeighborsRegressor(n_neighbors=1)</pre></div></div></div></div></div>"
            ],
            "text/plain": [
              "KNeighborsRegressor(n_neighbors=1)"
            ]
          },
          "execution_count": 9,
          "metadata": {},
          "output_type": "execute_result"
        }
      ],
      "source": [
        "# Pretend the data is standardized, we will do this step below\n",
        "knn1 = KNeighborsRegressor(n_neighbors = 1) # Create an instance and set the parameter to 1 in this supervised ML algorithm for regression tasks\n",
        "knn1.fit(X, y)\n",
        "# X_train: Organized in a matrix where each row represents a sample and each column a feature\n",
        "#  y_train: 1-dimensional array or list\n",
        "#   fit: Learns to find the relationship betwen the two of the training data by computing the distance between each training sample and query points during prediction"
      ]
    },
    {
      "cell_type": "code",
      "execution_count": 10,
      "metadata": {
        "ExecuteTime": {
          "end_time": "2021-03-11T17:40:09.208151Z",
          "start_time": "2021-03-11T17:40:09.196240Z"
        },
        "id": "A7aKHc17wOpz"
      },
      "outputs": [],
      "source": [
        "from sklearn.metrics import mean_squared_error"
      ]
    },
    {
      "cell_type": "code",
      "execution_count": 11,
      "metadata": {
        "ExecuteTime": {
          "end_time": "2021-03-11T17:40:09.390467Z",
          "start_time": "2021-03-11T17:40:09.212215Z"
        },
        "id": "LEocwzjewOpz",
        "outputId": "8c5c0cde-9043-4df9-a8e8-ce682cb91646"
      },
      "outputs": [
        {
          "data": {
            "text/plain": [
              "0.0"
            ]
          },
          "execution_count": 11,
          "metadata": {},
          "output_type": "execute_result"
        }
      ],
      "source": [
        "y_hat = knn1.predict(X) # Makes predictions on the test set\n",
        "np.sqrt(mean_squared_error(y, y_hat))"
      ]
    },
    {
      "cell_type": "markdown",
      "metadata": {
        "id": "ewTgir-lwOp0"
      },
      "source": [
        "#### 2.1) Train-test Split"
      ]
    },
    {
      "cell_type": "code",
      "execution_count": 12,
      "metadata": {
        "ExecuteTime": {
          "end_time": "2021-03-11T17:40:09.408531Z",
          "start_time": "2021-03-11T17:40:09.393695Z"
        },
        "id": "mB4LFPA9wOp0"
      },
      "outputs": [],
      "source": [
        "from sklearn.model_selection import train_test_split"
      ]
    },
    {
      "cell_type": "code",
      "execution_count": 13,
      "metadata": {
        "ExecuteTime": {
          "end_time": "2021-03-11T17:40:09.441855Z",
          "start_time": "2021-03-11T17:40:09.411962Z"
        },
        "id": "CavBQro6wOp0"
      },
      "outputs": [],
      "source": [
        "X_train, X_test, y_train, y_test = train_test_split(X, y, test_size = .2, random_state = 42)\n",
        "# X and y are the input features (predictors) and target (response) variable separately\n",
        "#  test_size parameter is the porprotion of the data allocated in the test set\n",
        "#   random_state parameter initializes the random number generator to produce the same results each run"
      ]
    },
    {
      "cell_type": "code",
      "execution_count": 14,
      "metadata": {
        "ExecuteTime": {
          "end_time": "2021-03-11T17:40:09.558366Z",
          "start_time": "2021-03-11T17:40:09.443853Z"
        },
        "id": "G-V7CDymwOp0",
        "outputId": "5e3c340a-e812-448c-b6e1-4866261deb45"
      },
      "outputs": [
        {
          "data": {
            "text/html": [
              "<style>#sk-container-id-2 {color: black;}#sk-container-id-2 pre{padding: 0;}#sk-container-id-2 div.sk-toggleable {background-color: white;}#sk-container-id-2 label.sk-toggleable__label {cursor: pointer;display: block;width: 100%;margin-bottom: 0;padding: 0.3em;box-sizing: border-box;text-align: center;}#sk-container-id-2 label.sk-toggleable__label-arrow:before {content: \"▸\";float: left;margin-right: 0.25em;color: #696969;}#sk-container-id-2 label.sk-toggleable__label-arrow:hover:before {color: black;}#sk-container-id-2 div.sk-estimator:hover label.sk-toggleable__label-arrow:before {color: black;}#sk-container-id-2 div.sk-toggleable__content {max-height: 0;max-width: 0;overflow: hidden;text-align: left;background-color: #f0f8ff;}#sk-container-id-2 div.sk-toggleable__content pre {margin: 0.2em;color: black;border-radius: 0.25em;background-color: #f0f8ff;}#sk-container-id-2 input.sk-toggleable__control:checked~div.sk-toggleable__content {max-height: 200px;max-width: 100%;overflow: auto;}#sk-container-id-2 input.sk-toggleable__control:checked~label.sk-toggleable__label-arrow:before {content: \"▾\";}#sk-container-id-2 div.sk-estimator input.sk-toggleable__control:checked~label.sk-toggleable__label {background-color: #d4ebff;}#sk-container-id-2 div.sk-label input.sk-toggleable__control:checked~label.sk-toggleable__label {background-color: #d4ebff;}#sk-container-id-2 input.sk-hidden--visually {border: 0;clip: rect(1px 1px 1px 1px);clip: rect(1px, 1px, 1px, 1px);height: 1px;margin: -1px;overflow: hidden;padding: 0;position: absolute;width: 1px;}#sk-container-id-2 div.sk-estimator {font-family: monospace;background-color: #f0f8ff;border: 1px dotted black;border-radius: 0.25em;box-sizing: border-box;margin-bottom: 0.5em;}#sk-container-id-2 div.sk-estimator:hover {background-color: #d4ebff;}#sk-container-id-2 div.sk-parallel-item::after {content: \"\";width: 100%;border-bottom: 1px solid gray;flex-grow: 1;}#sk-container-id-2 div.sk-label:hover label.sk-toggleable__label {background-color: #d4ebff;}#sk-container-id-2 div.sk-serial::before {content: \"\";position: absolute;border-left: 1px solid gray;box-sizing: border-box;top: 0;bottom: 0;left: 50%;z-index: 0;}#sk-container-id-2 div.sk-serial {display: flex;flex-direction: column;align-items: center;background-color: white;padding-right: 0.2em;padding-left: 0.2em;position: relative;}#sk-container-id-2 div.sk-item {position: relative;z-index: 1;}#sk-container-id-2 div.sk-parallel {display: flex;align-items: stretch;justify-content: center;background-color: white;position: relative;}#sk-container-id-2 div.sk-item::before, #sk-container-id-2 div.sk-parallel-item::before {content: \"\";position: absolute;border-left: 1px solid gray;box-sizing: border-box;top: 0;bottom: 0;left: 50%;z-index: -1;}#sk-container-id-2 div.sk-parallel-item {display: flex;flex-direction: column;z-index: 1;position: relative;background-color: white;}#sk-container-id-2 div.sk-parallel-item:first-child::after {align-self: flex-end;width: 50%;}#sk-container-id-2 div.sk-parallel-item:last-child::after {align-self: flex-start;width: 50%;}#sk-container-id-2 div.sk-parallel-item:only-child::after {width: 0;}#sk-container-id-2 div.sk-dashed-wrapped {border: 1px dashed gray;margin: 0 0.4em 0.5em 0.4em;box-sizing: border-box;padding-bottom: 0.4em;background-color: white;}#sk-container-id-2 div.sk-label label {font-family: monospace;font-weight: bold;display: inline-block;line-height: 1.2em;}#sk-container-id-2 div.sk-label-container {text-align: center;}#sk-container-id-2 div.sk-container {/* jupyter's `normalize.less` sets `[hidden] { display: none; }` but bootstrap.min.css set `[hidden] { display: none !important; }` so we also need the `!important` here to be able to override the default hidden behavior on the sphinx rendered scikit-learn.org. See: https://github.com/scikit-learn/scikit-learn/issues/21755 */display: inline-block !important;position: relative;}#sk-container-id-2 div.sk-text-repr-fallback {display: none;}</style><div id=\"sk-container-id-2\" class=\"sk-top-container\"><div class=\"sk-text-repr-fallback\"><pre>KNeighborsRegressor(n_neighbors=1)</pre><b>In a Jupyter environment, please rerun this cell to show the HTML representation or trust the notebook. <br />On GitHub, the HTML representation is unable to render, please try loading this page with nbviewer.org.</b></div><div class=\"sk-container\" hidden><div class=\"sk-item\"><div class=\"sk-estimator sk-toggleable\"><input class=\"sk-toggleable__control sk-hidden--visually\" id=\"sk-estimator-id-2\" type=\"checkbox\" checked><label for=\"sk-estimator-id-2\" class=\"sk-toggleable__label sk-toggleable__label-arrow\">KNeighborsRegressor</label><div class=\"sk-toggleable__content\"><pre>KNeighborsRegressor(n_neighbors=1)</pre></div></div></div></div></div>"
            ],
            "text/plain": [
              "KNeighborsRegressor(n_neighbors=1)"
            ]
          },
          "execution_count": 14,
          "metadata": {},
          "output_type": "execute_result"
        }
      ],
      "source": [
        "knn2 = KNeighborsRegressor(n_neighbors = 1) # Create an instance and set the parameter to 1 in this supervised ML algorithm for regression tasks\n",
        "knn2.fit(X_train, y_train)\n",
        "# X_train: Organized in a matrix where each row represents a sample and each column a feature\n",
        "#  y_train: 1-dimensional array or list\n",
        "#   fit: Learns to find the relationship betwen the two of the training data by computing the distance between each training sample and query points during prediction"
      ]
    },
    {
      "cell_type": "code",
      "execution_count": 15,
      "metadata": {
        "id": "ax-rw30nwOp0"
      },
      "outputs": [],
      "source": [
        "y_hat2 = knn2.predict(X_train) # Makes predictions on the test set"
      ]
    },
    {
      "cell_type": "code",
      "execution_count": 16,
      "metadata": {
        "id": "0oUi3GrpwOp0",
        "outputId": "aec2c057-9f50-482b-b8d2-ccbc5048e3e7"
      },
      "outputs": [
        {
          "data": {
            "text/plain": [
              "0.0"
            ]
          },
          "execution_count": 16,
          "metadata": {},
          "output_type": "execute_result"
        }
      ],
      "source": [
        "mean_squared_error(y_train, y_hat2, squared = False)\n",
        "# squared = False: Specifies that the function should return the RMSE instead of the mean squared error"
      ]
    },
    {
      "cell_type": "code",
      "execution_count": 17,
      "metadata": {
        "id": "0gDXNY0cwOp0",
        "outputId": "0a8a6afa-a981-4d1f-de91-9071d1467f07"
      },
      "outputs": [
        {
          "data": {
            "text/plain": [
              "76810.40920964915"
            ]
          },
          "execution_count": 17,
          "metadata": {},
          "output_type": "execute_result"
        }
      ],
      "source": [
        "y_hat2 = knn2.predict(X_test) # Makes predictions on the test set\n",
        "mean_squared_error(y_test, y_hat2, squared = False)\n",
        "# squared = False: Specifies that the function should return the RMSE instead of the mean squared error\n",
        "\n",
        "# np.sqrt(mean_squared_error(y_test, y_hat2, squared = True)) ... Same result for RMSE"
      ]
    },
    {
      "cell_type": "code",
      "execution_count": 18,
      "metadata": {
        "id": "TV-U_2pVwOp1",
        "outputId": "b7ec9409-6e32-43d3-ceb5-f9210749e3e8"
      },
      "outputs": [
        {
          "name": "stderr",
          "output_type": "stream",
          "text": [
            "C:\\Users\\emssc\\AppData\\Local\\Packages\\PythonSoftwareFoundation.Python.3.11_qbz5n2kfra8p0\\LocalCache\\local-packages\\Python311\\site-packages\\numpy\\core\\fromnumeric.py:3785: FutureWarning: The behavior of DataFrame.var with axis=None is deprecated, in a future version this will reduce over both axes and return a scalar. To retain the old behavior, pass axis=0 (or do not pass axis)\n",
            "  return var(axis=axis, dtype=dtype, out=out, ddof=ddof, **kwargs)\n"
          ]
        },
        {
          "data": {
            "text/plain": [
              "median_house_value    0.568573\n",
              "dtype: float64"
            ]
          },
          "execution_count": 18,
          "metadata": {},
          "output_type": "execute_result"
        }
      ],
      "source": [
        "# R^2: 1 - E[(Y - Y_hat)^2]/E[(Y - E[Y])^2]\n",
        "# (proportion of variability of Y explained by fitted model)\n",
        "1 - mean_squared_error(y_test, y_hat2) / np.var(y_test)"
      ]
    },
    {
      "cell_type": "markdown",
      "metadata": {},
      "source": [
        "If there is too much variance, then the model is too flexible. This coincides with the Bias-Variance trade-off."
      ]
    },
    {
      "cell_type": "markdown",
      "metadata": {
        "id": "hkKVWF8ZwOp1"
      },
      "source": [
        "#### 2.2) Cross-validation"
      ]
    },
    {
      "cell_type": "markdown",
      "metadata": {
        "id": "Znzvfz2bwOp1"
      },
      "source": [
        "When fitting a model, there is an interest in the expected generalization error (the expected error on unseen data).\n",
        "In order to estimate this expected error, a more stable way to estimate it than with a train-test split is to use cross-validation."
      ]
    },
    {
      "cell_type": "markdown",
      "metadata": {
        "id": "7C8BRbF-wOp1"
      },
      "source": [
        "_Remark:_ during fitting sklearn maximizes \"scores\" instead of minimizing losses, that is why we specify `scoring=\"neg_mean_squared_error\"` below, as we maximize the negative MSE instead of minimizing the MSE."
      ]
    },
    {
      "cell_type": "code",
      "execution_count": 19,
      "metadata": {
        "ExecuteTime": {
          "end_time": "2021-03-11T17:40:09.972225Z",
          "start_time": "2021-03-11T17:40:09.959527Z"
        },
        "id": "rc9SWdmvwOp1"
      },
      "outputs": [],
      "source": [
        "from sklearn.model_selection import cross_val_score"
      ]
    },
    {
      "cell_type": "code",
      "execution_count": 20,
      "metadata": {
        "ExecuteTime": {
          "end_time": "2021-03-11T17:40:12.261659Z",
          "start_time": "2021-03-11T17:40:09.978240Z"
        },
        "id": "KNjjSlsuwOp1"
      },
      "outputs": [],
      "source": [
        "knn = KNeighborsRegressor(n_neighbors = 1) # Create an instance and set the parameter to 1 in this supervised ML algorithm for regression tasks\n",
        "CVscores = cross_val_score(knn, X, y, scoring= \"neg_mean_squared_error\", cv = 10)\n",
        "# This does not shuffle rows before splitting into 10 folds, the data could be in a certain order\n",
        "#  scoring: Used for cross-validation. \"neg_mean_squared_error\" is the negative mean squared error.\n",
        "#   cv: The dataset is split into 10 equal parts, and the model is trained and evaluated 10 times, each time using a different fold as the test set."
      ]
    },
    {
      "cell_type": "code",
      "execution_count": 21,
      "metadata": {
        "ExecuteTime": {
          "end_time": "2021-03-11T17:40:12.276853Z",
          "start_time": "2021-03-11T17:40:12.261659Z"
        },
        "id": "wc5i-oORwOp1",
        "outputId": "019c4d72-cd48-49ab-d4f8-672d6c5efd3a"
      },
      "outputs": [
        {
          "data": {
            "text/plain": [
              "array([104480.66974676,  66369.5243191 ,  93458.07390098,  77588.22076765,\n",
              "        90390.84227067,  78780.06342346,  69545.55210605, 106472.22899056,\n",
              "       103528.41733778,  67949.94753683])"
            ]
          },
          "execution_count": 21,
          "metadata": {},
          "output_type": "execute_result"
        }
      ],
      "source": [
        "np.sqrt(-CVscores) # Why negative? Since it was the neg_mean_squared_error"
      ]
    },
    {
      "cell_type": "code",
      "execution_count": 22,
      "metadata": {
        "id": "gpuTPJw_wOqB",
        "outputId": "7b99df59-017f-4194-ebd1-afa0da9f70bf"
      },
      "outputs": [
        {
          "data": {
            "text/plain": [
              "87155.33166612717"
            ]
          },
          "execution_count": 22,
          "metadata": {},
          "output_type": "execute_result"
        }
      ],
      "source": [
        "np.sqrt(np.mean(-CVscores))"
      ]
    },
    {
      "cell_type": "markdown",
      "metadata": {
        "id": "BV5TFQnIwOqB"
      },
      "source": [
        "**Note**: Within `cross_val_score`, specify the number of folds with the argument `cv=10`. By default, `sklearn`` splits the data equally into the specified number of folds without shuffling it first. This behaviour might be useful when some time dependence between observations needs to be kept for specific models. However, if it is assumed that the observations are independent, it might be a better idea to shuffle observations (rows) before splitting to avoid imbalances within folds."
      ]
    },
    {
      "cell_type": "code",
      "execution_count": 23,
      "metadata": {
        "id": "P5h8abaYwOqB"
      },
      "outputs": [],
      "source": [
        "from sklearn.model_selection import KFold"
      ]
    },
    {
      "cell_type": "code",
      "execution_count": 24,
      "metadata": {
        "id": "sxU15uqIwOqB"
      },
      "outputs": [],
      "source": [
        "knn = KNeighborsRegressor(n_neighbors = 1) # Create an instance and set the parameter to 1 in this supervised ML algorithm for regression tasks\n",
        "folds = KFold(n_splits = 10 , shuffle = True, random_state = 42) # The data will be randomly shuffled before the cross-validation splits are created.\n",
        "# This helps to prevent bias due to any inherent order in the data.\n",
        "\n",
        "CVscores = cross_val_score(knn, X, y, scoring = \"neg_mean_squared_error\", cv = folds)\n",
        "# This does not shuffle rows before splitting into 10 folds, the data could be in a certain order\n",
        "#  scoring: Used for cross-validation. \"neg_mean_squared_error\" is the negative mean squared error.\n",
        "#   cv: The dataset is split into 'folds' equal parts, and the model is trained and evaluated 10 times, each time using a different fold as the test set."
      ]
    },
    {
      "cell_type": "code",
      "execution_count": 25,
      "metadata": {
        "id": "yZeBQT0vwOqC",
        "outputId": "571f40fd-8aaa-4d52-f035-4ad454777e1c"
      },
      "outputs": [
        {
          "data": {
            "text/plain": [
              "array([77219.32432724, 76196.79177344, 74202.33914488, 73441.5470462 ,\n",
              "       77917.47154991, 70738.42642103, 75205.83759632, 73298.9625377 ,\n",
              "       73225.61514461, 73195.09210937])"
            ]
          },
          "execution_count": 25,
          "metadata": {},
          "output_type": "execute_result"
        }
      ],
      "source": [
        "np.sqrt(-CVscores)"
      ]
    },
    {
      "cell_type": "code",
      "execution_count": 26,
      "metadata": {
        "id": "1gIhVHU6wOqC",
        "outputId": "db0d1003-228c-486d-81d3-7b359b485582"
      },
      "outputs": [
        {
          "data": {
            "text/plain": [
              "74492.71681067816"
            ]
          },
          "execution_count": 26,
          "metadata": {},
          "output_type": "execute_result"
        }
      ],
      "source": [
        "np.sqrt(np.mean(-CVscores)) # Prior value: 87155.33166612717"
      ]
    },
    {
      "cell_type": "code",
      "execution_count": 27,
      "metadata": {
        "id": "_FMLBMjHwOqC",
        "outputId": "438a5524-1469-4b92-e3fb-f84675dd0280"
      },
      "outputs": [
        {
          "data": {
            "text/html": [
              "<div>\n",
              "<style scoped>\n",
              "    .dataframe tbody tr th:only-of-type {\n",
              "        vertical-align: middle;\n",
              "    }\n",
              "\n",
              "    .dataframe tbody tr th {\n",
              "        vertical-align: top;\n",
              "    }\n",
              "\n",
              "    .dataframe thead th {\n",
              "        text-align: right;\n",
              "    }\n",
              "</style>\n",
              "<table border=\"1\" class=\"dataframe\">\n",
              "  <thead>\n",
              "    <tr style=\"text-align: right;\">\n",
              "      <th></th>\n",
              "      <th>longitude</th>\n",
              "      <th>latitude</th>\n",
              "      <th>housing_median_age</th>\n",
              "      <th>median_income</th>\n",
              "      <th>median_house_value</th>\n",
              "      <th>rooms_per_bedroom</th>\n",
              "      <th>rooms_per_household</th>\n",
              "      <th>people_per_household</th>\n",
              "      <th>ocean_proximity_enc</th>\n",
              "    </tr>\n",
              "  </thead>\n",
              "  <tbody>\n",
              "    <tr>\n",
              "      <th>count</th>\n",
              "      <td>20433.000000</td>\n",
              "      <td>20433.000000</td>\n",
              "      <td>20433.000000</td>\n",
              "      <td>20433.000000</td>\n",
              "      <td>20433.000000</td>\n",
              "      <td>20433.000000</td>\n",
              "      <td>20433.000000</td>\n",
              "      <td>20433.000000</td>\n",
              "      <td>20433.000000</td>\n",
              "    </tr>\n",
              "    <tr>\n",
              "      <th>mean</th>\n",
              "      <td>-119.570689</td>\n",
              "      <td>35.633221</td>\n",
              "      <td>28.633094</td>\n",
              "      <td>3.871162</td>\n",
              "      <td>206864.413155</td>\n",
              "      <td>4.984829</td>\n",
              "      <td>5.431344</td>\n",
              "      <td>3.071533</td>\n",
              "      <td>1.166153</td>\n",
              "    </tr>\n",
              "    <tr>\n",
              "      <th>std</th>\n",
              "      <td>2.003578</td>\n",
              "      <td>2.136348</td>\n",
              "      <td>12.591805</td>\n",
              "      <td>1.899291</td>\n",
              "      <td>115435.667099</td>\n",
              "      <td>1.171676</td>\n",
              "      <td>2.482946</td>\n",
              "      <td>10.438269</td>\n",
              "      <td>1.420135</td>\n",
              "    </tr>\n",
              "    <tr>\n",
              "      <th>min</th>\n",
              "      <td>-124.350000</td>\n",
              "      <td>32.540000</td>\n",
              "      <td>1.000000</td>\n",
              "      <td>0.499900</td>\n",
              "      <td>14999.000000</td>\n",
              "      <td>1.000000</td>\n",
              "      <td>0.846154</td>\n",
              "      <td>0.692308</td>\n",
              "      <td>0.000000</td>\n",
              "    </tr>\n",
              "    <tr>\n",
              "      <th>25%</th>\n",
              "      <td>-121.800000</td>\n",
              "      <td>33.930000</td>\n",
              "      <td>18.000000</td>\n",
              "      <td>2.563700</td>\n",
              "      <td>119500.000000</td>\n",
              "      <td>4.169782</td>\n",
              "      <td>4.441441</td>\n",
              "      <td>2.429032</td>\n",
              "      <td>0.000000</td>\n",
              "    </tr>\n",
              "    <tr>\n",
              "      <th>50%</th>\n",
              "      <td>-118.490000</td>\n",
              "      <td>34.260000</td>\n",
              "      <td>29.000000</td>\n",
              "      <td>3.536500</td>\n",
              "      <td>179700.000000</td>\n",
              "      <td>4.922170</td>\n",
              "      <td>5.230769</td>\n",
              "      <td>2.817582</td>\n",
              "      <td>1.000000</td>\n",
              "    </tr>\n",
              "    <tr>\n",
              "      <th>75%</th>\n",
              "      <td>-118.010000</td>\n",
              "      <td>37.720000</td>\n",
              "      <td>37.000000</td>\n",
              "      <td>4.744000</td>\n",
              "      <td>264700.000000</td>\n",
              "      <td>5.700364</td>\n",
              "      <td>6.052381</td>\n",
              "      <td>3.281513</td>\n",
              "      <td>1.000000</td>\n",
              "    </tr>\n",
              "    <tr>\n",
              "      <th>max</th>\n",
              "      <td>-114.310000</td>\n",
              "      <td>41.950000</td>\n",
              "      <td>52.000000</td>\n",
              "      <td>15.000100</td>\n",
              "      <td>500001.000000</td>\n",
              "      <td>10.000000</td>\n",
              "      <td>141.909091</td>\n",
              "      <td>1243.333333</td>\n",
              "      <td>4.000000</td>\n",
              "    </tr>\n",
              "  </tbody>\n",
              "</table>\n",
              "</div>"
            ],
            "text/plain": [
              "          longitude      latitude  housing_median_age  median_income  \\\n",
              "count  20433.000000  20433.000000        20433.000000   20433.000000   \n",
              "mean    -119.570689     35.633221           28.633094       3.871162   \n",
              "std        2.003578      2.136348           12.591805       1.899291   \n",
              "min     -124.350000     32.540000            1.000000       0.499900   \n",
              "25%     -121.800000     33.930000           18.000000       2.563700   \n",
              "50%     -118.490000     34.260000           29.000000       3.536500   \n",
              "75%     -118.010000     37.720000           37.000000       4.744000   \n",
              "max     -114.310000     41.950000           52.000000      15.000100   \n",
              "\n",
              "       median_house_value  rooms_per_bedroom  rooms_per_household  \\\n",
              "count        20433.000000       20433.000000         20433.000000   \n",
              "mean        206864.413155           4.984829             5.431344   \n",
              "std         115435.667099           1.171676             2.482946   \n",
              "min          14999.000000           1.000000             0.846154   \n",
              "25%         119500.000000           4.169782             4.441441   \n",
              "50%         179700.000000           4.922170             5.230769   \n",
              "75%         264700.000000           5.700364             6.052381   \n",
              "max         500001.000000          10.000000           141.909091   \n",
              "\n",
              "       people_per_household  ocean_proximity_enc  \n",
              "count          20433.000000         20433.000000  \n",
              "mean               3.071533             1.166153  \n",
              "std               10.438269             1.420135  \n",
              "min                0.692308             0.000000  \n",
              "25%                2.429032             0.000000  \n",
              "50%                2.817582             1.000000  \n",
              "75%                3.281513             1.000000  \n",
              "max             1243.333333             4.000000  "
            ]
          },
          "execution_count": 27,
          "metadata": {},
          "output_type": "execute_result"
        }
      ],
      "source": [
        "housing.describe() # Computes summary statistics for DataFrame"
      ]
    },
    {
      "cell_type": "code",
      "execution_count": 28,
      "metadata": {
        "id": "Q6mvr4uKwOqC",
        "outputId": "13c978cf-88d8-473e-8779-d3bc70966382",
        "scrolled": true
      },
      "outputs": [
        {
          "data": {
            "text/html": [
              "<div>\n",
              "<style scoped>\n",
              "    .dataframe tbody tr th:only-of-type {\n",
              "        vertical-align: middle;\n",
              "    }\n",
              "\n",
              "    .dataframe tbody tr th {\n",
              "        vertical-align: top;\n",
              "    }\n",
              "\n",
              "    .dataframe thead th {\n",
              "        text-align: right;\n",
              "    }\n",
              "</style>\n",
              "<table border=\"1\" class=\"dataframe\">\n",
              "  <thead>\n",
              "    <tr style=\"text-align: right;\">\n",
              "      <th></th>\n",
              "      <th>longitude</th>\n",
              "      <th>latitude</th>\n",
              "      <th>housing_median_age</th>\n",
              "      <th>median_income</th>\n",
              "      <th>median_house_value</th>\n",
              "      <th>rooms_per_bedroom</th>\n",
              "      <th>rooms_per_household</th>\n",
              "      <th>people_per_household</th>\n",
              "      <th>ocean_proximity_enc</th>\n",
              "    </tr>\n",
              "  </thead>\n",
              "  <tbody>\n",
              "    <tr>\n",
              "      <th>0</th>\n",
              "      <td>-122.23</td>\n",
              "      <td>37.88</td>\n",
              "      <td>41.0</td>\n",
              "      <td>8.3252</td>\n",
              "      <td>452600.0</td>\n",
              "      <td>6.821705</td>\n",
              "      <td>6.984127</td>\n",
              "      <td>2.555556</td>\n",
              "      <td>3.0</td>\n",
              "    </tr>\n",
              "    <tr>\n",
              "      <th>1</th>\n",
              "      <td>-122.22</td>\n",
              "      <td>37.86</td>\n",
              "      <td>21.0</td>\n",
              "      <td>8.3014</td>\n",
              "      <td>358500.0</td>\n",
              "      <td>6.418626</td>\n",
              "      <td>6.238137</td>\n",
              "      <td>2.109842</td>\n",
              "      <td>3.0</td>\n",
              "    </tr>\n",
              "    <tr>\n",
              "      <th>2</th>\n",
              "      <td>-122.24</td>\n",
              "      <td>37.85</td>\n",
              "      <td>52.0</td>\n",
              "      <td>7.2574</td>\n",
              "      <td>352100.0</td>\n",
              "      <td>7.721053</td>\n",
              "      <td>8.288136</td>\n",
              "      <td>2.802260</td>\n",
              "      <td>3.0</td>\n",
              "    </tr>\n",
              "    <tr>\n",
              "      <th>3</th>\n",
              "      <td>-122.25</td>\n",
              "      <td>37.85</td>\n",
              "      <td>52.0</td>\n",
              "      <td>5.6431</td>\n",
              "      <td>341300.0</td>\n",
              "      <td>5.421277</td>\n",
              "      <td>5.817352</td>\n",
              "      <td>2.547945</td>\n",
              "      <td>3.0</td>\n",
              "    </tr>\n",
              "    <tr>\n",
              "      <th>4</th>\n",
              "      <td>-122.25</td>\n",
              "      <td>37.85</td>\n",
              "      <td>52.0</td>\n",
              "      <td>3.8462</td>\n",
              "      <td>342200.0</td>\n",
              "      <td>5.810714</td>\n",
              "      <td>6.281853</td>\n",
              "      <td>2.181467</td>\n",
              "      <td>3.0</td>\n",
              "    </tr>\n",
              "  </tbody>\n",
              "</table>\n",
              "</div>"
            ],
            "text/plain": [
              "   longitude  latitude  housing_median_age  median_income  median_house_value  \\\n",
              "0    -122.23     37.88                41.0         8.3252            452600.0   \n",
              "1    -122.22     37.86                21.0         8.3014            358500.0   \n",
              "2    -122.24     37.85                52.0         7.2574            352100.0   \n",
              "3    -122.25     37.85                52.0         5.6431            341300.0   \n",
              "4    -122.25     37.85                52.0         3.8462            342200.0   \n",
              "\n",
              "   rooms_per_bedroom  rooms_per_household  people_per_household  \\\n",
              "0           6.821705             6.984127              2.555556   \n",
              "1           6.418626             6.238137              2.109842   \n",
              "2           7.721053             8.288136              2.802260   \n",
              "3           5.421277             5.817352              2.547945   \n",
              "4           5.810714             6.281853              2.181467   \n",
              "\n",
              "   ocean_proximity_enc  \n",
              "0                  3.0  \n",
              "1                  3.0  \n",
              "2                  3.0  \n",
              "3                  3.0  \n",
              "4                  3.0  "
            ]
          },
          "execution_count": 28,
          "metadata": {},
          "output_type": "execute_result"
        }
      ],
      "source": [
        "housing.head(5) # Display the first # of rows of the DataFrame"
      ]
    },
    {
      "cell_type": "code",
      "execution_count": 29,
      "metadata": {
        "id": "pVWUjQGwwOqC",
        "outputId": "2879185a-4b78-45d5-8c19-47a4b6598b0c"
      },
      "outputs": [
        {
          "data": {
            "text/plain": [
              "<matplotlib.collections.PathCollection at 0x275b0984190>"
            ]
          },
          "execution_count": 29,
          "metadata": {},
          "output_type": "execute_result"
        },
        {
          "data": {
            "image/png": "[encoded data removed]",
            "text/plain": [
              "<Figure size 640x480 with 1 Axes>"
            ]
          },
          "metadata": {},
          "output_type": "display_data"
        }
      ],
      "source": [
        "# Plot based on 'order'\n",
        "import matplotlib.pyplot as plt\n",
        "plt.scatter(x = housing[\"longitude\"], y = housing[\"latitude\"], c = housing.index)\n",
        "# housing.index: Sets the color of each point based on its index value in the DataFrame.\n",
        "#  The index values are used as a continuous variable to create a color gradient, with lower index values corresponding to lighter colors and higher index values corresponding to darker colors."
      ]
    },
    {
      "cell_type": "code",
      "execution_count": 30,
      "metadata": {
        "id": "l1mKts58wOqC"
      },
      "outputs": [],
      "source": [
        "from sklearn.utils import shuffle\n",
        "housing_shuffled = shuffle(housing) # Shuffles the rows of the DataFrame randomly"
      ]
    },
    {
      "cell_type": "code",
      "execution_count": 31,
      "metadata": {
        "id": "THwRPJwFwOqD",
        "outputId": "5d109aea-66af-4aa9-a117-2bac1fc10b25"
      },
      "outputs": [
        {
          "data": {
            "text/html": [
              "<div>\n",
              "<style scoped>\n",
              "    .dataframe tbody tr th:only-of-type {\n",
              "        vertical-align: middle;\n",
              "    }\n",
              "\n",
              "    .dataframe tbody tr th {\n",
              "        vertical-align: top;\n",
              "    }\n",
              "\n",
              "    .dataframe thead th {\n",
              "        text-align: right;\n",
              "    }\n",
              "</style>\n",
              "<table border=\"1\" class=\"dataframe\">\n",
              "  <thead>\n",
              "    <tr style=\"text-align: right;\">\n",
              "      <th></th>\n",
              "      <th>longitude</th>\n",
              "      <th>latitude</th>\n",
              "      <th>housing_median_age</th>\n",
              "      <th>median_income</th>\n",
              "      <th>median_house_value</th>\n",
              "      <th>rooms_per_bedroom</th>\n",
              "      <th>rooms_per_household</th>\n",
              "      <th>people_per_household</th>\n",
              "      <th>ocean_proximity_enc</th>\n",
              "    </tr>\n",
              "  </thead>\n",
              "  <tbody>\n",
              "    <tr>\n",
              "      <th>8853</th>\n",
              "      <td>-118.47</td>\n",
              "      <td>34.01</td>\n",
              "      <td>43.0</td>\n",
              "      <td>2.9167</td>\n",
              "      <td>461100.0</td>\n",
              "      <td>3.815789</td>\n",
              "      <td>4.640000</td>\n",
              "      <td>1.572000</td>\n",
              "      <td>0.0</td>\n",
              "    </tr>\n",
              "    <tr>\n",
              "      <th>19239</th>\n",
              "      <td>-121.01</td>\n",
              "      <td>37.70</td>\n",
              "      <td>12.0</td>\n",
              "      <td>3.2447</td>\n",
              "      <td>142200.0</td>\n",
              "      <td>4.799580</td>\n",
              "      <td>4.936859</td>\n",
              "      <td>2.512682</td>\n",
              "      <td>1.0</td>\n",
              "    </tr>\n",
              "    <tr>\n",
              "      <th>9700</th>\n",
              "      <td>-121.84</td>\n",
              "      <td>36.52</td>\n",
              "      <td>18.0</td>\n",
              "      <td>6.5234</td>\n",
              "      <td>357400.0</td>\n",
              "      <td>5.938086</td>\n",
              "      <td>7.292627</td>\n",
              "      <td>3.023041</td>\n",
              "      <td>4.0</td>\n",
              "    </tr>\n",
              "    <tr>\n",
              "      <th>19446</th>\n",
              "      <td>-120.80</td>\n",
              "      <td>37.55</td>\n",
              "      <td>18.0</td>\n",
              "      <td>3.1641</td>\n",
              "      <td>96300.0</td>\n",
              "      <td>5.379104</td>\n",
              "      <td>5.477204</td>\n",
              "      <td>3.373860</td>\n",
              "      <td>1.0</td>\n",
              "    </tr>\n",
              "    <tr>\n",
              "      <th>17592</th>\n",
              "      <td>-121.84</td>\n",
              "      <td>37.34</td>\n",
              "      <td>27.0</td>\n",
              "      <td>4.2500</td>\n",
              "      <td>162900.0</td>\n",
              "      <td>4.775665</td>\n",
              "      <td>4.775665</td>\n",
              "      <td>5.766160</td>\n",
              "      <td>0.0</td>\n",
              "    </tr>\n",
              "  </tbody>\n",
              "</table>\n",
              "</div>"
            ],
            "text/plain": [
              "       longitude  latitude  housing_median_age  median_income  \\\n",
              "8853     -118.47     34.01                43.0         2.9167   \n",
              "19239    -121.01     37.70                12.0         3.2447   \n",
              "9700     -121.84     36.52                18.0         6.5234   \n",
              "19446    -120.80     37.55                18.0         3.1641   \n",
              "17592    -121.84     37.34                27.0         4.2500   \n",
              "\n",
              "       median_house_value  rooms_per_bedroom  rooms_per_household  \\\n",
              "8853             461100.0           3.815789             4.640000   \n",
              "19239            142200.0           4.799580             4.936859   \n",
              "9700             357400.0           5.938086             7.292627   \n",
              "19446             96300.0           5.379104             5.477204   \n",
              "17592            162900.0           4.775665             4.775665   \n",
              "\n",
              "       people_per_household  ocean_proximity_enc  \n",
              "8853               1.572000                  0.0  \n",
              "19239              2.512682                  1.0  \n",
              "9700               3.023041                  4.0  \n",
              "19446              3.373860                  1.0  \n",
              "17592              5.766160                  0.0  "
            ]
          },
          "execution_count": 31,
          "metadata": {},
          "output_type": "execute_result"
        },
        {
          "data": {
            "image/png": "[encoded data removed]",
            "text/plain": [
              "<Figure size 640x480 with 1 Axes>"
            ]
          },
          "metadata": {},
          "output_type": "display_data"
        }
      ],
      "source": [
        "housing_shuffled.reset_index(inplace = False, drop = True)\n",
        "# reset_index: A method of the DataFrame that resets the index of the DataFrame. By default, it adds a new column to the DataFrame called index, which contains the old index values, and creates a new index that starts from 0 and increments by 1 for each row.\n",
        "# inplace = False: Returns a new DataFrame with the reset index\n",
        "# drop = True: the old index values will be dropped in the new DataFrame column in the DataFrame\n",
        "\n",
        "plt.scatter(x = housing_shuffled[\"longitude\"], y = housing_shuffled[\"latitude\"], c = housing.index)\n",
        "housing_shuffled.head()"
      ]
    },
    {
      "cell_type": "markdown",
      "metadata": {
        "id": "WKTizuqHwOqD"
      },
      "source": [
        "#### 3) Hyper-Parameter Tuning and Cross-validation"
      ]
    },
    {
      "cell_type": "markdown",
      "metadata": {
        "id": "RUqZlHpYwOqD"
      },
      "source": [
        "In the first section, a hyper-parameter value was \"arbitrarily\" choosen for the model. However, this value might not be optimal. Usually, you want to compare the model's expected error for a range of different possible hyper-parameters to choose the best one for the task at hand."
      ]
    },
    {
      "cell_type": "code",
      "execution_count": 32,
      "metadata": {
        "ExecuteTime": {
          "end_time": "2021-03-11T17:40:14.590383Z",
          "start_time": "2021-03-11T17:40:14.576833Z"
        },
        "id": "RZytq8nBwOqD"
      },
      "outputs": [],
      "source": [
        "from sklearn.model_selection import GridSearchCV, KFold"
      ]
    },
    {
      "cell_type": "code",
      "execution_count": 33,
      "metadata": {
        "ExecuteTime": {
          "end_time": "2021-03-11T17:40:14.606147Z",
          "start_time": "2021-03-11T17:40:14.600065Z"
        },
        "id": "u0b8lNcawOqD",
        "outputId": "c7323553-834d-401e-f2cf-f6632ca7cedd"
      },
      "outputs": [
        {
          "data": {
            "text/plain": [
              "array([ 1,  3,  5,  7,  9, 11, 13, 15, 17, 19, 21, 23, 25, 27, 29, 31, 33,\n",
              "       35, 37, 39, 41, 43, 45, 47, 49])"
            ]
          },
          "execution_count": 33,
          "metadata": {},
          "output_type": "execute_result"
        }
      ],
      "source": [
        "knn = KNeighborsRegressor() # Find the best k, default is 5\n",
        "\n",
        "# hyper_parameters = {\"hyper_param_name_1\" : values_param_1, \"hyper_param_name_2\" : value_param_2}\n",
        "hyper_parameters = {\"n_neighbors\" : np.arange(1, 50, 2)} # Includes values 1 to 50, but not 50 in increments of 2\n",
        "hyper_parameters['n_neighbors']"
      ]
    },
    {
      "cell_type": "code",
      "execution_count": 34,
      "metadata": {
        "ExecuteTime": {
          "end_time": "2021-03-11T17:41:50.397197Z",
          "start_time": "2021-03-11T17:40:14.612978Z"
        },
        "id": "RHlPzwVrwOqE",
        "outputId": "075b6844-af3a-4442-ad1e-c0719a65225a"
      },
      "outputs": [
        {
          "data": {
            "text/html": [
              "<style>#sk-container-id-3 {color: black;}#sk-container-id-3 pre{padding: 0;}#sk-container-id-3 div.sk-toggleable {background-color: white;}#sk-container-id-3 label.sk-toggleable__label {cursor: pointer;display: block;width: 100%;margin-bottom: 0;padding: 0.3em;box-sizing: border-box;text-align: center;}#sk-container-id-3 label.sk-toggleable__label-arrow:before {content: \"▸\";float: left;margin-right: 0.25em;color: #696969;}#sk-container-id-3 label.sk-toggleable__label-arrow:hover:before {color: black;}#sk-container-id-3 div.sk-estimator:hover label.sk-toggleable__label-arrow:before {color: black;}#sk-container-id-3 div.sk-toggleable__content {max-height: 0;max-width: 0;overflow: hidden;text-align: left;background-color: #f0f8ff;}#sk-container-id-3 div.sk-toggleable__content pre {margin: 0.2em;color: black;border-radius: 0.25em;background-color: #f0f8ff;}#sk-container-id-3 input.sk-toggleable__control:checked~div.sk-toggleable__content {max-height: 200px;max-width: 100%;overflow: auto;}#sk-container-id-3 input.sk-toggleable__control:checked~label.sk-toggleable__label-arrow:before {content: \"▾\";}#sk-container-id-3 div.sk-estimator input.sk-toggleable__control:checked~label.sk-toggleable__label {background-color: #d4ebff;}#sk-container-id-3 div.sk-label input.sk-toggleable__control:checked~label.sk-toggleable__label {background-color: #d4ebff;}#sk-container-id-3 input.sk-hidden--visually {border: 0;clip: rect(1px 1px 1px 1px);clip: rect(1px, 1px, 1px, 1px);height: 1px;margin: -1px;overflow: hidden;padding: 0;position: absolute;width: 1px;}#sk-container-id-3 div.sk-estimator {font-family: monospace;background-color: #f0f8ff;border: 1px dotted black;border-radius: 0.25em;box-sizing: border-box;margin-bottom: 0.5em;}#sk-container-id-3 div.sk-estimator:hover {background-color: #d4ebff;}#sk-container-id-3 div.sk-parallel-item::after {content: \"\";width: 100%;border-bottom: 1px solid gray;flex-grow: 1;}#sk-container-id-3 div.sk-label:hover label.sk-toggleable__label {background-color: #d4ebff;}#sk-container-id-3 div.sk-serial::before {content: \"\";position: absolute;border-left: 1px solid gray;box-sizing: border-box;top: 0;bottom: 0;left: 50%;z-index: 0;}#sk-container-id-3 div.sk-serial {display: flex;flex-direction: column;align-items: center;background-color: white;padding-right: 0.2em;padding-left: 0.2em;position: relative;}#sk-container-id-3 div.sk-item {position: relative;z-index: 1;}#sk-container-id-3 div.sk-parallel {display: flex;align-items: stretch;justify-content: center;background-color: white;position: relative;}#sk-container-id-3 div.sk-item::before, #sk-container-id-3 div.sk-parallel-item::before {content: \"\";position: absolute;border-left: 1px solid gray;box-sizing: border-box;top: 0;bottom: 0;left: 50%;z-index: -1;}#sk-container-id-3 div.sk-parallel-item {display: flex;flex-direction: column;z-index: 1;position: relative;background-color: white;}#sk-container-id-3 div.sk-parallel-item:first-child::after {align-self: flex-end;width: 50%;}#sk-container-id-3 div.sk-parallel-item:last-child::after {align-self: flex-start;width: 50%;}#sk-container-id-3 div.sk-parallel-item:only-child::after {width: 0;}#sk-container-id-3 div.sk-dashed-wrapped {border: 1px dashed gray;margin: 0 0.4em 0.5em 0.4em;box-sizing: border-box;padding-bottom: 0.4em;background-color: white;}#sk-container-id-3 div.sk-label label {font-family: monospace;font-weight: bold;display: inline-block;line-height: 1.2em;}#sk-container-id-3 div.sk-label-container {text-align: center;}#sk-container-id-3 div.sk-container {/* jupyter's `normalize.less` sets `[hidden] { display: none; }` but bootstrap.min.css set `[hidden] { display: none !important; }` so we also need the `!important` here to be able to override the default hidden behavior on the sphinx rendered scikit-learn.org. See: https://github.com/scikit-learn/scikit-learn/issues/21755 */display: inline-block !important;position: relative;}#sk-container-id-3 div.sk-text-repr-fallback {display: none;}</style><div id=\"sk-container-id-3\" class=\"sk-top-container\"><div class=\"sk-text-repr-fallback\"><pre>GridSearchCV(cv=KFold(n_splits=10, random_state=42, shuffle=True),\n",
              "             estimator=KNeighborsRegressor(),\n",
              "             param_grid={&#x27;n_neighbors&#x27;: array([ 1,  3,  5,  7,  9, 11, 13, 15, 17, 19, 21, 23, 25, 27, 29, 31, 33,\n",
              "       35, 37, 39, 41, 43, 45, 47, 49])},\n",
              "             scoring=&#x27;neg_mean_squared_error&#x27;)</pre><b>In a Jupyter environment, please rerun this cell to show the HTML representation or trust the notebook. <br />On GitHub, the HTML representation is unable to render, please try loading this page with nbviewer.org.</b></div><div class=\"sk-container\" hidden><div class=\"sk-item sk-dashed-wrapped\"><div class=\"sk-label-container\"><div class=\"sk-label sk-toggleable\"><input class=\"sk-toggleable__control sk-hidden--visually\" id=\"sk-estimator-id-3\" type=\"checkbox\" ><label for=\"sk-estimator-id-3\" class=\"sk-toggleable__label sk-toggleable__label-arrow\">GridSearchCV</label><div class=\"sk-toggleable__content\"><pre>GridSearchCV(cv=KFold(n_splits=10, random_state=42, shuffle=True),\n",
              "             estimator=KNeighborsRegressor(),\n",
              "             param_grid={&#x27;n_neighbors&#x27;: array([ 1,  3,  5,  7,  9, 11, 13, 15, 17, 19, 21, 23, 25, 27, 29, 31, 33,\n",
              "       35, 37, 39, 41, 43, 45, 47, 49])},\n",
              "             scoring=&#x27;neg_mean_squared_error&#x27;)</pre></div></div></div><div class=\"sk-parallel\"><div class=\"sk-parallel-item\"><div class=\"sk-item\"><div class=\"sk-label-container\"><div class=\"sk-label sk-toggleable\"><input class=\"sk-toggleable__control sk-hidden--visually\" id=\"sk-estimator-id-4\" type=\"checkbox\" ><label for=\"sk-estimator-id-4\" class=\"sk-toggleable__label sk-toggleable__label-arrow\">estimator: KNeighborsRegressor</label><div class=\"sk-toggleable__content\"><pre>KNeighborsRegressor()</pre></div></div></div><div class=\"sk-serial\"><div class=\"sk-item\"><div class=\"sk-estimator sk-toggleable\"><input class=\"sk-toggleable__control sk-hidden--visually\" id=\"sk-estimator-id-5\" type=\"checkbox\" ><label for=\"sk-estimator-id-5\" class=\"sk-toggleable__label sk-toggleable__label-arrow\">KNeighborsRegressor</label><div class=\"sk-toggleable__content\"><pre>KNeighborsRegressor()</pre></div></div></div></div></div></div></div></div></div></div>"
            ],
            "text/plain": [
              "GridSearchCV(cv=KFold(n_splits=10, random_state=42, shuffle=True),\n",
              "             estimator=KNeighborsRegressor(),\n",
              "             param_grid={'n_neighbors': array([ 1,  3,  5,  7,  9, 11, 13, 15, 17, 19, 21, 23, 25, 27, 29, 31, 33,\n",
              "       35, 37, 39, 41, 43, 45, 47, 49])},\n",
              "             scoring='neg_mean_squared_error')"
            ]
          },
          "execution_count": 34,
          "metadata": {},
          "output_type": "execute_result"
        }
      ],
      "source": [
        "# Create an instance of KNeighborsClassifier\n",
        "knnCV = GridSearchCV(estimator = knn, param_grid = hyper_parameters, scoring = \"neg_mean_squared_error\",\n",
        "                       cv = KFold(n_splits = 10, shuffle = True, random_state = 42))\n",
        "# estimator: Specifies the algorithm or model to be tuned\n",
        "#  param_grid: A dictionary that contains the hyperparameters to be tuned and the possible values for each hyperparameter\n",
        "#   scoring: Used for cross-validation. \"neg_mean_squared_error\" is the negative mean squared error.\n",
        "#    cv: The dataset is split into 'folds' equal parts, and the model is trained and evaluated 10 times, each time using a different fold as the test set\n",
        "#    This data is shuffled and set randomly at 42\n",
        "\n",
        "knnCV.fit(X, y)\n",
        "# X: Feature matrix\n",
        "#  y:Target array\n",
        "#   Cross-validation is a technique used to evaluate the performance of a model by splitting the data into multiple subsets and training the model on different subsets while using the remaining subset for validation.\n",
        "#   This helps to reduce overfitting and provides a more accurate estimate of the model's performance."
      ]
    },
    {
      "cell_type": "code",
      "execution_count": 35,
      "metadata": {
        "ExecuteTime": {
          "end_time": "2021-03-11T17:41:50.501157Z",
          "start_time": "2021-03-11T17:41:50.400219Z"
        },
        "id": "-uJpYvfpwOqE",
        "outputId": "2fd1579c-7c0a-41fe-e879-956a4932bf74"
      },
      "outputs": [
        {
          "data": {
            "text/html": [
              "<div>\n",
              "<style scoped>\n",
              "    .dataframe tbody tr th:only-of-type {\n",
              "        vertical-align: middle;\n",
              "    }\n",
              "\n",
              "    .dataframe tbody tr th {\n",
              "        vertical-align: top;\n",
              "    }\n",
              "\n",
              "    .dataframe thead th {\n",
              "        text-align: right;\n",
              "    }\n",
              "</style>\n",
              "<table border=\"1\" class=\"dataframe\">\n",
              "  <thead>\n",
              "    <tr style=\"text-align: right;\">\n",
              "      <th></th>\n",
              "      <th>mean_fit_time</th>\n",
              "      <th>std_fit_time</th>\n",
              "      <th>mean_score_time</th>\n",
              "      <th>std_score_time</th>\n",
              "      <th>param_n_neighbors</th>\n",
              "      <th>params</th>\n",
              "      <th>split0_test_score</th>\n",
              "      <th>split1_test_score</th>\n",
              "      <th>split2_test_score</th>\n",
              "      <th>split3_test_score</th>\n",
              "      <th>split4_test_score</th>\n",
              "      <th>split5_test_score</th>\n",
              "      <th>split6_test_score</th>\n",
              "      <th>split7_test_score</th>\n",
              "      <th>split8_test_score</th>\n",
              "      <th>split9_test_score</th>\n",
              "      <th>mean_test_score</th>\n",
              "      <th>std_test_score</th>\n",
              "      <th>rank_test_score</th>\n",
              "    </tr>\n",
              "  </thead>\n",
              "  <tbody>\n",
              "    <tr>\n",
              "      <th>0</th>\n",
              "      <td>0.023485</td>\n",
              "      <td>0.006593</td>\n",
              "      <td>0.026016</td>\n",
              "      <td>0.006926</td>\n",
              "      <td>1</td>\n",
              "      <td>{'n_neighbors': 1}</td>\n",
              "      <td>-5.962824e+09</td>\n",
              "      <td>-5.805951e+09</td>\n",
              "      <td>-5.505987e+09</td>\n",
              "      <td>-5.393661e+09</td>\n",
              "      <td>-6.071132e+09</td>\n",
              "      <td>-5.003925e+09</td>\n",
              "      <td>-5.655918e+09</td>\n",
              "      <td>-5.372738e+09</td>\n",
              "      <td>-5.361991e+09</td>\n",
              "      <td>-5.357522e+09</td>\n",
              "      <td>-5.549165e+09</td>\n",
              "      <td>3.077531e+08</td>\n",
              "      <td>25</td>\n",
              "    </tr>\n",
              "    <tr>\n",
              "      <th>1</th>\n",
              "      <td>0.023454</td>\n",
              "      <td>0.012316</td>\n",
              "      <td>0.045845</td>\n",
              "      <td>0.010476</td>\n",
              "      <td>3</td>\n",
              "      <td>{'n_neighbors': 3}</td>\n",
              "      <td>-4.076306e+09</td>\n",
              "      <td>-4.220124e+09</td>\n",
              "      <td>-3.740752e+09</td>\n",
              "      <td>-3.491043e+09</td>\n",
              "      <td>-4.415999e+09</td>\n",
              "      <td>-3.901215e+09</td>\n",
              "      <td>-3.863660e+09</td>\n",
              "      <td>-3.670299e+09</td>\n",
              "      <td>-3.873148e+09</td>\n",
              "      <td>-4.087633e+09</td>\n",
              "      <td>-3.934018e+09</td>\n",
              "      <td>2.590102e+08</td>\n",
              "      <td>15</td>\n",
              "    </tr>\n",
              "    <tr>\n",
              "      <th>2</th>\n",
              "      <td>0.015522</td>\n",
              "      <td>0.000961</td>\n",
              "      <td>0.048254</td>\n",
              "      <td>0.005545</td>\n",
              "      <td>5</td>\n",
              "      <td>{'n_neighbors': 5}</td>\n",
              "      <td>-3.712941e+09</td>\n",
              "      <td>-3.951274e+09</td>\n",
              "      <td>-3.508852e+09</td>\n",
              "      <td>-3.384041e+09</td>\n",
              "      <td>-4.183014e+09</td>\n",
              "      <td>-3.682175e+09</td>\n",
              "      <td>-3.582584e+09</td>\n",
              "      <td>-3.543996e+09</td>\n",
              "      <td>-3.732309e+09</td>\n",
              "      <td>-3.843882e+09</td>\n",
              "      <td>-3.712507e+09</td>\n",
              "      <td>2.217204e+08</td>\n",
              "      <td>8</td>\n",
              "    </tr>\n",
              "    <tr>\n",
              "      <th>3</th>\n",
              "      <td>0.019918</td>\n",
              "      <td>0.006058</td>\n",
              "      <td>0.050009</td>\n",
              "      <td>0.005722</td>\n",
              "      <td>7</td>\n",
              "      <td>{'n_neighbors': 7}</td>\n",
              "      <td>-3.598421e+09</td>\n",
              "      <td>-3.834024e+09</td>\n",
              "      <td>-3.476763e+09</td>\n",
              "      <td>-3.295310e+09</td>\n",
              "      <td>-3.962255e+09</td>\n",
              "      <td>-3.536895e+09</td>\n",
              "      <td>-3.448622e+09</td>\n",
              "      <td>-3.462484e+09</td>\n",
              "      <td>-3.679101e+09</td>\n",
              "      <td>-3.825782e+09</td>\n",
              "      <td>-3.611966e+09</td>\n",
              "      <td>1.989051e+08</td>\n",
              "      <td>4</td>\n",
              "    </tr>\n",
              "    <tr>\n",
              "      <th>4</th>\n",
              "      <td>0.019029</td>\n",
              "      <td>0.008147</td>\n",
              "      <td>0.053269</td>\n",
              "      <td>0.006577</td>\n",
              "      <td>9</td>\n",
              "      <td>{'n_neighbors': 9}</td>\n",
              "      <td>-3.560413e+09</td>\n",
              "      <td>-3.835742e+09</td>\n",
              "      <td>-3.429328e+09</td>\n",
              "      <td>-3.247473e+09</td>\n",
              "      <td>-3.932631e+09</td>\n",
              "      <td>-3.492733e+09</td>\n",
              "      <td>-3.437045e+09</td>\n",
              "      <td>-3.461650e+09</td>\n",
              "      <td>-3.648237e+09</td>\n",
              "      <td>-3.840511e+09</td>\n",
              "      <td>-3.588576e+09</td>\n",
              "      <td>2.091069e+08</td>\n",
              "      <td>2</td>\n",
              "    </tr>\n",
              "    <tr>\n",
              "      <th>5</th>\n",
              "      <td>0.014699</td>\n",
              "      <td>0.003307</td>\n",
              "      <td>0.062325</td>\n",
              "      <td>0.005917</td>\n",
              "      <td>11</td>\n",
              "      <td>{'n_neighbors': 11}</td>\n",
              "      <td>-3.569051e+09</td>\n",
              "      <td>-3.870278e+09</td>\n",
              "      <td>-3.449428e+09</td>\n",
              "      <td>-3.214827e+09</td>\n",
              "      <td>-3.944521e+09</td>\n",
              "      <td>-3.467606e+09</td>\n",
              "      <td>-3.423869e+09</td>\n",
              "      <td>-3.433867e+09</td>\n",
              "      <td>-3.621768e+09</td>\n",
              "      <td>-3.814540e+09</td>\n",
              "      <td>-3.580975e+09</td>\n",
              "      <td>2.197191e+08</td>\n",
              "      <td>1</td>\n",
              "    </tr>\n",
              "    <tr>\n",
              "      <th>6</th>\n",
              "      <td>0.018512</td>\n",
              "      <td>0.006792</td>\n",
              "      <td>0.061626</td>\n",
              "      <td>0.005435</td>\n",
              "      <td>13</td>\n",
              "      <td>{'n_neighbors': 13}</td>\n",
              "      <td>-3.627692e+09</td>\n",
              "      <td>-3.867957e+09</td>\n",
              "      <td>-3.445297e+09</td>\n",
              "      <td>-3.232929e+09</td>\n",
              "      <td>-3.968973e+09</td>\n",
              "      <td>-3.480309e+09</td>\n",
              "      <td>-3.424080e+09</td>\n",
              "      <td>-3.495412e+09</td>\n",
              "      <td>-3.640957e+09</td>\n",
              "      <td>-3.830491e+09</td>\n",
              "      <td>-3.601410e+09</td>\n",
              "      <td>2.187187e+08</td>\n",
              "      <td>3</td>\n",
              "    </tr>\n",
              "    <tr>\n",
              "      <th>7</th>\n",
              "      <td>0.018178</td>\n",
              "      <td>0.006763</td>\n",
              "      <td>0.068036</td>\n",
              "      <td>0.007949</td>\n",
              "      <td>15</td>\n",
              "      <td>{'n_neighbors': 15}</td>\n",
              "      <td>-3.654890e+09</td>\n",
              "      <td>-3.862485e+09</td>\n",
              "      <td>-3.489598e+09</td>\n",
              "      <td>-3.236655e+09</td>\n",
              "      <td>-4.015141e+09</td>\n",
              "      <td>-3.486632e+09</td>\n",
              "      <td>-3.472264e+09</td>\n",
              "      <td>-3.522880e+09</td>\n",
              "      <td>-3.663278e+09</td>\n",
              "      <td>-3.843659e+09</td>\n",
              "      <td>-3.624748e+09</td>\n",
              "      <td>2.192778e+08</td>\n",
              "      <td>5</td>\n",
              "    </tr>\n",
              "    <tr>\n",
              "      <th>8</th>\n",
              "      <td>0.019783</td>\n",
              "      <td>0.006322</td>\n",
              "      <td>0.067863</td>\n",
              "      <td>0.007485</td>\n",
              "      <td>17</td>\n",
              "      <td>{'n_neighbors': 17}</td>\n",
              "      <td>-3.742394e+09</td>\n",
              "      <td>-3.875076e+09</td>\n",
              "      <td>-3.543702e+09</td>\n",
              "      <td>-3.257253e+09</td>\n",
              "      <td>-4.031921e+09</td>\n",
              "      <td>-3.498933e+09</td>\n",
              "      <td>-3.499052e+09</td>\n",
              "      <td>-3.542257e+09</td>\n",
              "      <td>-3.670730e+09</td>\n",
              "      <td>-3.869323e+09</td>\n",
              "      <td>-3.653064e+09</td>\n",
              "      <td>2.182342e+08</td>\n",
              "      <td>6</td>\n",
              "    </tr>\n",
              "    <tr>\n",
              "      <th>9</th>\n",
              "      <td>0.019626</td>\n",
              "      <td>0.005814</td>\n",
              "      <td>0.071270</td>\n",
              "      <td>0.007139</td>\n",
              "      <td>19</td>\n",
              "      <td>{'n_neighbors': 19}</td>\n",
              "      <td>-3.779585e+09</td>\n",
              "      <td>-3.900660e+09</td>\n",
              "      <td>-3.569520e+09</td>\n",
              "      <td>-3.302560e+09</td>\n",
              "      <td>-4.096853e+09</td>\n",
              "      <td>-3.550747e+09</td>\n",
              "      <td>-3.507046e+09</td>\n",
              "      <td>-3.568455e+09</td>\n",
              "      <td>-3.731594e+09</td>\n",
              "      <td>-3.893715e+09</td>\n",
              "      <td>-3.690074e+09</td>\n",
              "      <td>2.221316e+08</td>\n",
              "      <td>7</td>\n",
              "    </tr>\n",
              "    <tr>\n",
              "      <th>10</th>\n",
              "      <td>0.017741</td>\n",
              "      <td>0.005076</td>\n",
              "      <td>0.080151</td>\n",
              "      <td>0.009649</td>\n",
              "      <td>21</td>\n",
              "      <td>{'n_neighbors': 21}</td>\n",
              "      <td>-3.816676e+09</td>\n",
              "      <td>-3.920902e+09</td>\n",
              "      <td>-3.625158e+09</td>\n",
              "      <td>-3.350656e+09</td>\n",
              "      <td>-4.126189e+09</td>\n",
              "      <td>-3.618707e+09</td>\n",
              "      <td>-3.543971e+09</td>\n",
              "      <td>-3.626012e+09</td>\n",
              "      <td>-3.794230e+09</td>\n",
              "      <td>-3.926540e+09</td>\n",
              "      <td>-3.734904e+09</td>\n",
              "      <td>2.135731e+08</td>\n",
              "      <td>9</td>\n",
              "    </tr>\n",
              "    <tr>\n",
              "      <th>11</th>\n",
              "      <td>0.018528</td>\n",
              "      <td>0.006054</td>\n",
              "      <td>0.075077</td>\n",
              "      <td>0.007281</td>\n",
              "      <td>23</td>\n",
              "      <td>{'n_neighbors': 23}</td>\n",
              "      <td>-3.851759e+09</td>\n",
              "      <td>-3.963665e+09</td>\n",
              "      <td>-3.693864e+09</td>\n",
              "      <td>-3.410320e+09</td>\n",
              "      <td>-4.137936e+09</td>\n",
              "      <td>-3.641610e+09</td>\n",
              "      <td>-3.565001e+09</td>\n",
              "      <td>-3.669257e+09</td>\n",
              "      <td>-3.820916e+09</td>\n",
              "      <td>-3.965190e+09</td>\n",
              "      <td>-3.771952e+09</td>\n",
              "      <td>2.059236e+08</td>\n",
              "      <td>10</td>\n",
              "    </tr>\n",
              "    <tr>\n",
              "      <th>12</th>\n",
              "      <td>0.015569</td>\n",
              "      <td>0.007756</td>\n",
              "      <td>0.083661</td>\n",
              "      <td>0.009869</td>\n",
              "      <td>25</td>\n",
              "      <td>{'n_neighbors': 25}</td>\n",
              "      <td>-3.915472e+09</td>\n",
              "      <td>-3.984087e+09</td>\n",
              "      <td>-3.765637e+09</td>\n",
              "      <td>-3.463832e+09</td>\n",
              "      <td>-4.185101e+09</td>\n",
              "      <td>-3.677891e+09</td>\n",
              "      <td>-3.585802e+09</td>\n",
              "      <td>-3.711660e+09</td>\n",
              "      <td>-3.884621e+09</td>\n",
              "      <td>-4.004269e+09</td>\n",
              "      <td>-3.817837e+09</td>\n",
              "      <td>2.059164e+08</td>\n",
              "      <td>11</td>\n",
              "    </tr>\n",
              "    <tr>\n",
              "      <th>13</th>\n",
              "      <td>0.018245</td>\n",
              "      <td>0.005323</td>\n",
              "      <td>0.077413</td>\n",
              "      <td>0.007353</td>\n",
              "      <td>27</td>\n",
              "      <td>{'n_neighbors': 27}</td>\n",
              "      <td>-3.947132e+09</td>\n",
              "      <td>-4.007213e+09</td>\n",
              "      <td>-3.794132e+09</td>\n",
              "      <td>-3.508664e+09</td>\n",
              "      <td>-4.224192e+09</td>\n",
              "      <td>-3.710880e+09</td>\n",
              "      <td>-3.604535e+09</td>\n",
              "      <td>-3.756576e+09</td>\n",
              "      <td>-3.932790e+09</td>\n",
              "      <td>-4.037576e+09</td>\n",
              "      <td>-3.852369e+09</td>\n",
              "      <td>2.059417e+08</td>\n",
              "      <td>12</td>\n",
              "    </tr>\n",
              "    <tr>\n",
              "      <th>14</th>\n",
              "      <td>0.022340</td>\n",
              "      <td>0.007729</td>\n",
              "      <td>0.077667</td>\n",
              "      <td>0.007907</td>\n",
              "      <td>29</td>\n",
              "      <td>{'n_neighbors': 29}</td>\n",
              "      <td>-3.995918e+09</td>\n",
              "      <td>-4.045694e+09</td>\n",
              "      <td>-3.812799e+09</td>\n",
              "      <td>-3.549596e+09</td>\n",
              "      <td>-4.252473e+09</td>\n",
              "      <td>-3.738740e+09</td>\n",
              "      <td>-3.616101e+09</td>\n",
              "      <td>-3.809086e+09</td>\n",
              "      <td>-3.981454e+09</td>\n",
              "      <td>-4.069107e+09</td>\n",
              "      <td>-3.887097e+09</td>\n",
              "      <td>2.082034e+08</td>\n",
              "      <td>13</td>\n",
              "    </tr>\n",
              "    <tr>\n",
              "      <th>15</th>\n",
              "      <td>0.016827</td>\n",
              "      <td>0.000496</td>\n",
              "      <td>0.083298</td>\n",
              "      <td>0.000221</td>\n",
              "      <td>31</td>\n",
              "      <td>{'n_neighbors': 31}</td>\n",
              "      <td>-4.032845e+09</td>\n",
              "      <td>-4.086527e+09</td>\n",
              "      <td>-3.832552e+09</td>\n",
              "      <td>-3.586293e+09</td>\n",
              "      <td>-4.274120e+09</td>\n",
              "      <td>-3.775382e+09</td>\n",
              "      <td>-3.648332e+09</td>\n",
              "      <td>-3.849972e+09</td>\n",
              "      <td>-4.017268e+09</td>\n",
              "      <td>-4.094324e+09</td>\n",
              "      <td>-3.919761e+09</td>\n",
              "      <td>2.059964e+08</td>\n",
              "      <td>14</td>\n",
              "    </tr>\n",
              "    <tr>\n",
              "      <th>16</th>\n",
              "      <td>0.021073</td>\n",
              "      <td>0.006725</td>\n",
              "      <td>0.083670</td>\n",
              "      <td>0.006131</td>\n",
              "      <td>33</td>\n",
              "      <td>{'n_neighbors': 33}</td>\n",
              "      <td>-4.058597e+09</td>\n",
              "      <td>-4.121938e+09</td>\n",
              "      <td>-3.879775e+09</td>\n",
              "      <td>-3.631728e+09</td>\n",
              "      <td>-4.301579e+09</td>\n",
              "      <td>-3.809864e+09</td>\n",
              "      <td>-3.662976e+09</td>\n",
              "      <td>-3.887059e+09</td>\n",
              "      <td>-4.048392e+09</td>\n",
              "      <td>-4.128523e+09</td>\n",
              "      <td>-3.953043e+09</td>\n",
              "      <td>2.046054e+08</td>\n",
              "      <td>16</td>\n",
              "    </tr>\n",
              "    <tr>\n",
              "      <th>17</th>\n",
              "      <td>0.017412</td>\n",
              "      <td>0.001672</td>\n",
              "      <td>0.087497</td>\n",
              "      <td>0.006656</td>\n",
              "      <td>35</td>\n",
              "      <td>{'n_neighbors': 35}</td>\n",
              "      <td>-4.093209e+09</td>\n",
              "      <td>-4.152623e+09</td>\n",
              "      <td>-3.887531e+09</td>\n",
              "      <td>-3.633001e+09</td>\n",
              "      <td>-4.333388e+09</td>\n",
              "      <td>-3.847237e+09</td>\n",
              "      <td>-3.689533e+09</td>\n",
              "      <td>-3.925852e+09</td>\n",
              "      <td>-4.085188e+09</td>\n",
              "      <td>-4.166061e+09</td>\n",
              "      <td>-3.981362e+09</td>\n",
              "      <td>2.114359e+08</td>\n",
              "      <td>17</td>\n",
              "    </tr>\n",
              "    <tr>\n",
              "      <th>18</th>\n",
              "      <td>0.017185</td>\n",
              "      <td>0.006391</td>\n",
              "      <td>0.087703</td>\n",
              "      <td>0.007550</td>\n",
              "      <td>37</td>\n",
              "      <td>{'n_neighbors': 37}</td>\n",
              "      <td>-4.121076e+09</td>\n",
              "      <td>-4.163631e+09</td>\n",
              "      <td>-3.908516e+09</td>\n",
              "      <td>-3.655288e+09</td>\n",
              "      <td>-4.362126e+09</td>\n",
              "      <td>-3.884819e+09</td>\n",
              "      <td>-3.708318e+09</td>\n",
              "      <td>-3.965909e+09</td>\n",
              "      <td>-4.132298e+09</td>\n",
              "      <td>-4.201089e+09</td>\n",
              "      <td>-4.010307e+09</td>\n",
              "      <td>2.135765e+08</td>\n",
              "      <td>18</td>\n",
              "    </tr>\n",
              "    <tr>\n",
              "      <th>19</th>\n",
              "      <td>0.025634</td>\n",
              "      <td>0.007983</td>\n",
              "      <td>0.085943</td>\n",
              "      <td>0.007344</td>\n",
              "      <td>39</td>\n",
              "      <td>{'n_neighbors': 39}</td>\n",
              "      <td>-4.158578e+09</td>\n",
              "      <td>-4.193972e+09</td>\n",
              "      <td>-3.939691e+09</td>\n",
              "      <td>-3.683896e+09</td>\n",
              "      <td>-4.391360e+09</td>\n",
              "      <td>-3.908804e+09</td>\n",
              "      <td>-3.720337e+09</td>\n",
              "      <td>-4.002967e+09</td>\n",
              "      <td>-4.176509e+09</td>\n",
              "      <td>-4.230752e+09</td>\n",
              "      <td>-4.040687e+09</td>\n",
              "      <td>2.176874e+08</td>\n",
              "      <td>19</td>\n",
              "    </tr>\n",
              "    <tr>\n",
              "      <th>20</th>\n",
              "      <td>0.021079</td>\n",
              "      <td>0.007017</td>\n",
              "      <td>0.095239</td>\n",
              "      <td>0.010254</td>\n",
              "      <td>41</td>\n",
              "      <td>{'n_neighbors': 41}</td>\n",
              "      <td>-4.185352e+09</td>\n",
              "      <td>-4.215277e+09</td>\n",
              "      <td>-3.945643e+09</td>\n",
              "      <td>-3.715030e+09</td>\n",
              "      <td>-4.407323e+09</td>\n",
              "      <td>-3.955716e+09</td>\n",
              "      <td>-3.758487e+09</td>\n",
              "      <td>-4.040201e+09</td>\n",
              "      <td>-4.217152e+09</td>\n",
              "      <td>-4.251009e+09</td>\n",
              "      <td>-4.069119e+09</td>\n",
              "      <td>2.133227e+08</td>\n",
              "      <td>20</td>\n",
              "    </tr>\n",
              "    <tr>\n",
              "      <th>21</th>\n",
              "      <td>0.017217</td>\n",
              "      <td>0.002726</td>\n",
              "      <td>0.094330</td>\n",
              "      <td>0.007364</td>\n",
              "      <td>43</td>\n",
              "      <td>{'n_neighbors': 43}</td>\n",
              "      <td>-4.216573e+09</td>\n",
              "      <td>-4.245941e+09</td>\n",
              "      <td>-3.972737e+09</td>\n",
              "      <td>-3.729879e+09</td>\n",
              "      <td>-4.440713e+09</td>\n",
              "      <td>-3.962526e+09</td>\n",
              "      <td>-3.784985e+09</td>\n",
              "      <td>-4.091250e+09</td>\n",
              "      <td>-4.273616e+09</td>\n",
              "      <td>-4.289820e+09</td>\n",
              "      <td>-4.100804e+09</td>\n",
              "      <td>2.210287e+08</td>\n",
              "      <td>21</td>\n",
              "    </tr>\n",
              "    <tr>\n",
              "      <th>22</th>\n",
              "      <td>0.020112</td>\n",
              "      <td>0.008220</td>\n",
              "      <td>0.099682</td>\n",
              "      <td>0.007584</td>\n",
              "      <td>45</td>\n",
              "      <td>{'n_neighbors': 45}</td>\n",
              "      <td>-4.242201e+09</td>\n",
              "      <td>-4.286113e+09</td>\n",
              "      <td>-3.999200e+09</td>\n",
              "      <td>-3.746968e+09</td>\n",
              "      <td>-4.482678e+09</td>\n",
              "      <td>-3.995422e+09</td>\n",
              "      <td>-3.819570e+09</td>\n",
              "      <td>-4.138621e+09</td>\n",
              "      <td>-4.298362e+09</td>\n",
              "      <td>-4.326823e+09</td>\n",
              "      <td>-4.133596e+09</td>\n",
              "      <td>2.250938e+08</td>\n",
              "      <td>22</td>\n",
              "    </tr>\n",
              "    <tr>\n",
              "      <th>23</th>\n",
              "      <td>0.019019</td>\n",
              "      <td>0.003979</td>\n",
              "      <td>0.099201</td>\n",
              "      <td>0.007617</td>\n",
              "      <td>47</td>\n",
              "      <td>{'n_neighbors': 47}</td>\n",
              "      <td>-4.257002e+09</td>\n",
              "      <td>-4.312088e+09</td>\n",
              "      <td>-4.038459e+09</td>\n",
              "      <td>-3.780688e+09</td>\n",
              "      <td>-4.501509e+09</td>\n",
              "      <td>-4.026164e+09</td>\n",
              "      <td>-3.845253e+09</td>\n",
              "      <td>-4.179557e+09</td>\n",
              "      <td>-4.328468e+09</td>\n",
              "      <td>-4.370557e+09</td>\n",
              "      <td>-4.163975e+09</td>\n",
              "      <td>2.230998e+08</td>\n",
              "      <td>23</td>\n",
              "    </tr>\n",
              "    <tr>\n",
              "      <th>24</th>\n",
              "      <td>0.016884</td>\n",
              "      <td>0.005913</td>\n",
              "      <td>0.101455</td>\n",
              "      <td>0.004863</td>\n",
              "      <td>49</td>\n",
              "      <td>{'n_neighbors': 49}</td>\n",
              "      <td>-4.278828e+09</td>\n",
              "      <td>-4.332446e+09</td>\n",
              "      <td>-4.065026e+09</td>\n",
              "      <td>-3.812514e+09</td>\n",
              "      <td>-4.531429e+09</td>\n",
              "      <td>-4.053344e+09</td>\n",
              "      <td>-3.874083e+09</td>\n",
              "      <td>-4.217054e+09</td>\n",
              "      <td>-4.371347e+09</td>\n",
              "      <td>-4.407284e+09</td>\n",
              "      <td>-4.194336e+09</td>\n",
              "      <td>2.240514e+08</td>\n",
              "      <td>24</td>\n",
              "    </tr>\n",
              "  </tbody>\n",
              "</table>\n",
              "</div>"
            ],
            "text/plain": [
              "    mean_fit_time  std_fit_time  mean_score_time  std_score_time  \\\n",
              "0        0.023485      0.006593         0.026016        0.006926   \n",
              "1        0.023454      0.012316         0.045845        0.010476   \n",
              "2        0.015522      0.000961         0.048254        0.005545   \n",
              "3        0.019918      0.006058         0.050009        0.005722   \n",
              "4        0.019029      0.008147         0.053269        0.006577   \n",
              "5        0.014699      0.003307         0.062325        0.005917   \n",
              "6        0.018512      0.006792         0.061626        0.005435   \n",
              "7        0.018178      0.006763         0.068036        0.007949   \n",
              "8        0.019783      0.006322         0.067863        0.007485   \n",
              "9        0.019626      0.005814         0.071270        0.007139   \n",
              "10       0.017741      0.005076         0.080151        0.009649   \n",
              "11       0.018528      0.006054         0.075077        0.007281   \n",
              "12       0.015569      0.007756         0.083661        0.009869   \n",
              "13       0.018245      0.005323         0.077413        0.007353   \n",
              "14       0.022340      0.007729         0.077667        0.007907   \n",
              "15       0.016827      0.000496         0.083298        0.000221   \n",
              "16       0.021073      0.006725         0.083670        0.006131   \n",
              "17       0.017412      0.001672         0.087497        0.006656   \n",
              "18       0.017185      0.006391         0.087703        0.007550   \n",
              "19       0.025634      0.007983         0.085943        0.007344   \n",
              "20       0.021079      0.007017         0.095239        0.010254   \n",
              "21       0.017217      0.002726         0.094330        0.007364   \n",
              "22       0.020112      0.008220         0.099682        0.007584   \n",
              "23       0.019019      0.003979         0.099201        0.007617   \n",
              "24       0.016884      0.005913         0.101455        0.004863   \n",
              "\n",
              "   param_n_neighbors               params  split0_test_score  \\\n",
              "0                  1   {'n_neighbors': 1}      -5.962824e+09   \n",
              "1                  3   {'n_neighbors': 3}      -4.076306e+09   \n",
              "2                  5   {'n_neighbors': 5}      -3.712941e+09   \n",
              "3                  7   {'n_neighbors': 7}      -3.598421e+09   \n",
              "4                  9   {'n_neighbors': 9}      -3.560413e+09   \n",
              "5                 11  {'n_neighbors': 11}      -3.569051e+09   \n",
              "6                 13  {'n_neighbors': 13}      -3.627692e+09   \n",
              "7                 15  {'n_neighbors': 15}      -3.654890e+09   \n",
              "8                 17  {'n_neighbors': 17}      -3.742394e+09   \n",
              "9                 19  {'n_neighbors': 19}      -3.779585e+09   \n",
              "10                21  {'n_neighbors': 21}      -3.816676e+09   \n",
              "11                23  {'n_neighbors': 23}      -3.851759e+09   \n",
              "12                25  {'n_neighbors': 25}      -3.915472e+09   \n",
              "13                27  {'n_neighbors': 27}      -3.947132e+09   \n",
              "14                29  {'n_neighbors': 29}      -3.995918e+09   \n",
              "15                31  {'n_neighbors': 31}      -4.032845e+09   \n",
              "16                33  {'n_neighbors': 33}      -4.058597e+09   \n",
              "17                35  {'n_neighbors': 35}      -4.093209e+09   \n",
              "18                37  {'n_neighbors': 37}      -4.121076e+09   \n",
              "19                39  {'n_neighbors': 39}      -4.158578e+09   \n",
              "20                41  {'n_neighbors': 41}      -4.185352e+09   \n",
              "21                43  {'n_neighbors': 43}      -4.216573e+09   \n",
              "22                45  {'n_neighbors': 45}      -4.242201e+09   \n",
              "23                47  {'n_neighbors': 47}      -4.257002e+09   \n",
              "24                49  {'n_neighbors': 49}      -4.278828e+09   \n",
              "\n",
              "    split1_test_score  split2_test_score  split3_test_score  \\\n",
              "0       -5.805951e+09      -5.505987e+09      -5.393661e+09   \n",
              "1       -4.220124e+09      -3.740752e+09      -3.491043e+09   \n",
              "2       -3.951274e+09      -3.508852e+09      -3.384041e+09   \n",
              "3       -3.834024e+09      -3.476763e+09      -3.295310e+09   \n",
              "4       -3.835742e+09      -3.429328e+09      -3.247473e+09   \n",
              "5       -3.870278e+09      -3.449428e+09      -3.214827e+09   \n",
              "6       -3.867957e+09      -3.445297e+09      -3.232929e+09   \n",
              "7       -3.862485e+09      -3.489598e+09      -3.236655e+09   \n",
              "8       -3.875076e+09      -3.543702e+09      -3.257253e+09   \n",
              "9       -3.900660e+09      -3.569520e+09      -3.302560e+09   \n",
              "10      -3.920902e+09      -3.625158e+09      -3.350656e+09   \n",
              "11      -3.963665e+09      -3.693864e+09      -3.410320e+09   \n",
              "12      -3.984087e+09      -3.765637e+09      -3.463832e+09   \n",
              "13      -4.007213e+09      -3.794132e+09      -3.508664e+09   \n",
              "14      -4.045694e+09      -3.812799e+09      -3.549596e+09   \n",
              "15      -4.086527e+09      -3.832552e+09      -3.586293e+09   \n",
              "16      -4.121938e+09      -3.879775e+09      -3.631728e+09   \n",
              "17      -4.152623e+09      -3.887531e+09      -3.633001e+09   \n",
              "18      -4.163631e+09      -3.908516e+09      -3.655288e+09   \n",
              "19      -4.193972e+09      -3.939691e+09      -3.683896e+09   \n",
              "20      -4.215277e+09      -3.945643e+09      -3.715030e+09   \n",
              "21      -4.245941e+09      -3.972737e+09      -3.729879e+09   \n",
              "22      -4.286113e+09      -3.999200e+09      -3.746968e+09   \n",
              "23      -4.312088e+09      -4.038459e+09      -3.780688e+09   \n",
              "24      -4.332446e+09      -4.065026e+09      -3.812514e+09   \n",
              "\n",
              "    split4_test_score  split5_test_score  split6_test_score  \\\n",
              "0       -6.071132e+09      -5.003925e+09      -5.655918e+09   \n",
              "1       -4.415999e+09      -3.901215e+09      -3.863660e+09   \n",
              "2       -4.183014e+09      -3.682175e+09      -3.582584e+09   \n",
              "3       -3.962255e+09      -3.536895e+09      -3.448622e+09   \n",
              "4       -3.932631e+09      -3.492733e+09      -3.437045e+09   \n",
              "5       -3.944521e+09      -3.467606e+09      -3.423869e+09   \n",
              "6       -3.968973e+09      -3.480309e+09      -3.424080e+09   \n",
              "7       -4.015141e+09      -3.486632e+09      -3.472264e+09   \n",
              "8       -4.031921e+09      -3.498933e+09      -3.499052e+09   \n",
              "9       -4.096853e+09      -3.550747e+09      -3.507046e+09   \n",
              "10      -4.126189e+09      -3.618707e+09      -3.543971e+09   \n",
              "11      -4.137936e+09      -3.641610e+09      -3.565001e+09   \n",
              "12      -4.185101e+09      -3.677891e+09      -3.585802e+09   \n",
              "13      -4.224192e+09      -3.710880e+09      -3.604535e+09   \n",
              "14      -4.252473e+09      -3.738740e+09      -3.616101e+09   \n",
              "15      -4.274120e+09      -3.775382e+09      -3.648332e+09   \n",
              "16      -4.301579e+09      -3.809864e+09      -3.662976e+09   \n",
              "17      -4.333388e+09      -3.847237e+09      -3.689533e+09   \n",
              "18      -4.362126e+09      -3.884819e+09      -3.708318e+09   \n",
              "19      -4.391360e+09      -3.908804e+09      -3.720337e+09   \n",
              "20      -4.407323e+09      -3.955716e+09      -3.758487e+09   \n",
              "21      -4.440713e+09      -3.962526e+09      -3.784985e+09   \n",
              "22      -4.482678e+09      -3.995422e+09      -3.819570e+09   \n",
              "23      -4.501509e+09      -4.026164e+09      -3.845253e+09   \n",
              "24      -4.531429e+09      -4.053344e+09      -3.874083e+09   \n",
              "\n",
              "    split7_test_score  split8_test_score  split9_test_score  mean_test_score  \\\n",
              "0       -5.372738e+09      -5.361991e+09      -5.357522e+09    -5.549165e+09   \n",
              "1       -3.670299e+09      -3.873148e+09      -4.087633e+09    -3.934018e+09   \n",
              "2       -3.543996e+09      -3.732309e+09      -3.843882e+09    -3.712507e+09   \n",
              "3       -3.462484e+09      -3.679101e+09      -3.825782e+09    -3.611966e+09   \n",
              "4       -3.461650e+09      -3.648237e+09      -3.840511e+09    -3.588576e+09   \n",
              "5       -3.433867e+09      -3.621768e+09      -3.814540e+09    -3.580975e+09   \n",
              "6       -3.495412e+09      -3.640957e+09      -3.830491e+09    -3.601410e+09   \n",
              "7       -3.522880e+09      -3.663278e+09      -3.843659e+09    -3.624748e+09   \n",
              "8       -3.542257e+09      -3.670730e+09      -3.869323e+09    -3.653064e+09   \n",
              "9       -3.568455e+09      -3.731594e+09      -3.893715e+09    -3.690074e+09   \n",
              "10      -3.626012e+09      -3.794230e+09      -3.926540e+09    -3.734904e+09   \n",
              "11      -3.669257e+09      -3.820916e+09      -3.965190e+09    -3.771952e+09   \n",
              "12      -3.711660e+09      -3.884621e+09      -4.004269e+09    -3.817837e+09   \n",
              "13      -3.756576e+09      -3.932790e+09      -4.037576e+09    -3.852369e+09   \n",
              "14      -3.809086e+09      -3.981454e+09      -4.069107e+09    -3.887097e+09   \n",
              "15      -3.849972e+09      -4.017268e+09      -4.094324e+09    -3.919761e+09   \n",
              "16      -3.887059e+09      -4.048392e+09      -4.128523e+09    -3.953043e+09   \n",
              "17      -3.925852e+09      -4.085188e+09      -4.166061e+09    -3.981362e+09   \n",
              "18      -3.965909e+09      -4.132298e+09      -4.201089e+09    -4.010307e+09   \n",
              "19      -4.002967e+09      -4.176509e+09      -4.230752e+09    -4.040687e+09   \n",
              "20      -4.040201e+09      -4.217152e+09      -4.251009e+09    -4.069119e+09   \n",
              "21      -4.091250e+09      -4.273616e+09      -4.289820e+09    -4.100804e+09   \n",
              "22      -4.138621e+09      -4.298362e+09      -4.326823e+09    -4.133596e+09   \n",
              "23      -4.179557e+09      -4.328468e+09      -4.370557e+09    -4.163975e+09   \n",
              "24      -4.217054e+09      -4.371347e+09      -4.407284e+09    -4.194336e+09   \n",
              "\n",
              "    std_test_score  rank_test_score  \n",
              "0     3.077531e+08               25  \n",
              "1     2.590102e+08               15  \n",
              "2     2.217204e+08                8  \n",
              "3     1.989051e+08                4  \n",
              "4     2.091069e+08                2  \n",
              "5     2.197191e+08                1  \n",
              "6     2.187187e+08                3  \n",
              "7     2.192778e+08                5  \n",
              "8     2.182342e+08                6  \n",
              "9     2.221316e+08                7  \n",
              "10    2.135731e+08                9  \n",
              "11    2.059236e+08               10  \n",
              "12    2.059164e+08               11  \n",
              "13    2.059417e+08               12  \n",
              "14    2.082034e+08               13  \n",
              "15    2.059964e+08               14  \n",
              "16    2.046054e+08               16  \n",
              "17    2.114359e+08               17  \n",
              "18    2.135765e+08               18  \n",
              "19    2.176874e+08               19  \n",
              "20    2.133227e+08               20  \n",
              "21    2.210287e+08               21  \n",
              "22    2.250938e+08               22  \n",
              "23    2.230998e+08               23  \n",
              "24    2.240514e+08               24  "
            ]
          },
          "execution_count": 35,
          "metadata": {},
          "output_type": "execute_result"
        }
      ],
      "source": [
        "#knnCV.cv_results_ is a dictionary .. fit time is 10 (use mean_test_score and std_test_score)\n",
        "pd.DataFrame(knnCV.cv_results_) # Contains results from CV\n",
        "\n",
        "# mean_test_score: The mean accuracy score of the KNN classifier on the test data for a particular combination of hyperparameters.\n",
        "#  mean_train_score: The mean accuracy score of the KNN classifier on the training data for a particular combination of hyperparameters.\n",
        "#   std_test_score: The standard deviation of the accuracy score of the KNN classifier on the test data for a particular combination of hyperparameters.\n",
        "#    std_train_score: The standard deviation of the accuracy score of the KNN classifier on the training data for a particular combination of hyperparameters.\n",
        "#     params: A dictionary of the hyperparameters used for that particular combination."
      ]
    },
    {
      "cell_type": "code",
      "execution_count": 36,
      "metadata": {
        "ExecuteTime": {
          "end_time": "2021-03-11T17:41:50.516404Z",
          "start_time": "2021-03-11T17:41:50.505732Z"
        },
        "id": "kRddQJ-4wOqE",
        "outputId": "5cb96941-a947-4054-9929-ee3e8c0b1753"
      },
      "outputs": [
        {
          "data": {
            "text/plain": [
              "11"
            ]
          },
          "execution_count": 36,
          "metadata": {},
          "output_type": "execute_result"
        }
      ],
      "source": [
        "resCV = knnCV.cv_results_ # Results of the cross-validation\n",
        "\n",
        "test_MSEs = -resCV[\"mean_test_score\"]\n",
        "# The negative sign is used because the cross_val_score function in scikit-learn returns negative scores (higher is better),\n",
        "# but we want to work with positive scores (lower is better) for the MSE.\n",
        "std_test_MSEs = resCV[\"std_test_score\"]/ np.sqrt(knnCV.n_splits_) # Variability in the estimated test set MSE due to sampling from the data.\n",
        "k_grid = resCV[\"param_n_neighbors\"].data # An array of the different values of k that were tested\n",
        "\n",
        "index_best = np.argmin(test_MSEs) # Index of the k value with the lowest MSE estimate, find minimum then the index (arg)\n",
        "best_k = k_grid[index_best]\n",
        "best_k # The value of k that gives the lowest estimated test set MSE based on cross-validation"
      ]
    },
    {
      "cell_type": "markdown",
      "metadata": {
        "id": "zRmkugoVwOqF"
      },
      "source": [
        "In general, smaller $k$ values tend to yield more parsimonious models with lower flexibility and variance compared to larger $k$ values.\n",
        "\n",
        "In $k$-nearest neighbor ($k$-NN) algorithm, the parameter $k$ represents the number of nearest neighbors used to classify or predict a new data point. When $k$ is set to a small value, such as $k$=1, the model tends to overfit the training data, meaning it captures noise and random fluctuations in the data, leading to high variance. Conversely, when $k$ is set to a large value, such as $k$=$n$, where $n$ is the total number of data points in the training set, the model tends to underfit the data, leading to high bias and low flexibility.\n",
        "\n",
        "Therefore, a smaller $k$ value strikes a balance between underfitting and overfitting, leading to a more parsimonious model with low flexibility and variance. However, the optimal $k$ value depends on the specific dataset and problem at hand, and it's usually determined by cross-validation or other model selection techniques."
      ]
    },
    {
      "cell_type": "code",
      "execution_count": 37,
      "metadata": {
        "ExecuteTime": {
          "end_time": "2021-03-11T17:41:50.531648Z",
          "start_time": "2021-03-11T17:41:50.520108Z"
        },
        "id": "kdhdh3iYwOqF",
        "outputId": "66e2de4f-6f84-4f43-87da-f96c3ba8a897"
      },
      "outputs": [
        {
          "data": {
            "text/plain": [
              "15"
            ]
          },
          "execution_count": 37,
          "metadata": {},
          "output_type": "execute_result"
        }
      ],
      "source": [
        "threshold = test_MSEs[index_best] + std_test_MSEs[index_best]\n",
        "candidates = k_grid[test_MSEs <= threshold]\n",
        "candidates # 5 points\n",
        "\n",
        "# Pick k that is most parsimonous, 15 because knn models, the larger the neighbors, less flexible\n",
        "one_std_rule_best_k = np.max(candidates) # Chooses the maximum out of the 5 candidates\n",
        "one_std_rule_best_k"
      ]
    },
    {
      "cell_type": "code",
      "execution_count": 38,
      "metadata": {
        "ExecuteTime": {
          "end_time": "2021-03-11T17:41:50.943235Z",
          "start_time": "2021-03-11T17:41:50.534583Z"
        },
        "id": "0WZP_ChvwOqF",
        "outputId": "88735603-e921-470a-c3b4-fa8c5ebdbfb5"
      },
      "outputs": [
        {
          "data": {
            "image/png": "[encoded data removed]",
            "text/plain": [
              "<Figure size 1000x600 with 1 Axes>"
            ]
          },
          "metadata": {},
          "output_type": "display_data"
        }
      ],
      "source": [
        "plt.figure(figsize = (10,6)) # Figure dimensions\n",
        "plt.errorbar(x = k_grid, y = test_MSEs, yerr = std_test_MSEs, fmt = '.', capsize = 3)\n",
        "# yerr: Parameter specifies the size of the error bars.\n",
        "# fmt: Specifies that the data points should be plotted as dots.\n",
        "# capsize: Length of the error bar caps in points.\n",
        "\n",
        "plt.axvline(best_k, ls = 'dotted', color = \"grey\") # Vertical line at the k yielding minimum CV MSE\n",
        "plt.axvline(one_std_rule_best_k, ls = 'dotted', color = \"grey\") # Vertical line at best k value according to 1 std err rule\n",
        "plt.axhline(threshold, ls = \"solid\", color = \"red\") # Create horizontal red line as the threshold\n",
        "\n",
        "plt.title(\"$k$-NN Regressor CV Error\") # Label the plot with a title\n",
        "plt.xlabel('$k$ (Number of Neighbors)') # Label the x-axis\n",
        "plt.ylabel('Mean Squared Error') # Label the y-axis\n",
        "plt.show()"
      ]
    },
    {
      "cell_type": "code",
      "execution_count": 39,
      "metadata": {
        "id": "IsizfZHIwOqF",
        "outputId": "71edab40-03a8-4106-bddc-3bd32dfc429b"
      },
      "outputs": [
        {
          "data": {
            "text/plain": [
              "76810.40920964915"
            ]
          },
          "execution_count": 39,
          "metadata": {},
          "output_type": "execute_result"
        }
      ],
      "source": [
        "mean_squared_error(y_test, y_hat2, squared = False)"
      ]
    },
    {
      "cell_type": "code",
      "execution_count": 40,
      "metadata": {
        "id": "OX3y2ESxwOqG",
        "outputId": "79ba1ab0-963b-4bb8-8412-c4fd71ebd753"
      },
      "outputs": [
        {
          "data": {
            "text/plain": [
              "59841.252196815265"
            ]
          },
          "execution_count": 40,
          "metadata": {},
          "output_type": "execute_result"
        }
      ],
      "source": [
        "np.min(np.sqrt(-resCV['mean_test_score']))"
      ]
    },
    {
      "cell_type": "code",
      "execution_count": 41,
      "metadata": {
        "id": "xayeIN2jwOqG"
      },
      "outputs": [],
      "source": [
        "train_MSEs = [] # Empty list\n",
        "for k in k_grid:\n",
        "    knn = KNeighborsRegressor(n_neighbors = k)\n",
        "    knn.fit(X, y)\n",
        "    train_MSEs.append(mean_squared_error(knn.predict(X), y))\n",
        "# For each value of k in k_grid, a KNeighborsRegressor object is created with that k value.\n",
        "# The model is then trained on the data (X, y) using the fit() method.\n",
        "#  Next, the MSE is computed on the training data.\n",
        "#    MSE is appended to the train_MSEs list, which will contain the MSE for each value of k in k_grid."
      ]
    },
    {
      "cell_type": "code",
      "execution_count": 42,
      "metadata": {
        "id": "oGGnqvzgwOqG",
        "outputId": "849f0568-7e17-48a1-907d-4afff3561415"
      },
      "outputs": [
        {
          "data": {
            "image/png": "[encoded data removed]",
            "text/plain": [
              "<Figure size 1000x600 with 1 Axes>"
            ]
          },
          "metadata": {},
          "output_type": "display_data"
        }
      ],
      "source": [
        "plt.figure(figsize = (10,6)) # Figure dimensions\n",
        "plt.errorbar(x = k_grid, y = test_MSEs, yerr = std_test_MSEs, fmt = '.', capsize = 3,\n",
        "             label = \"Test error\")\n",
        "# yerr: Parameter specifies the size of the error bars.\n",
        "# fmt: Specifies that the data points should be plotted as dots.\n",
        "# capsize: Length of the error bar caps in points.\n",
        "\n",
        "plt.axvline(best_k, ls = 'dotted', color = \"grey\") # Vertical line at the k yielding minimum CV MSE\n",
        "plt.axvline(one_std_rule_best_k, ls = 'dotted', color = \"grey\") # Vertical line at best k value according to 1 std err rule\n",
        "plt.axhline(threshold, ls = \"solid\", color = \"red\") # Create horizontal red line as the threshold\n",
        "\n",
        "plt.plot(k_grid, train_MSEs, label = \"Train Error\") # Plot data generated from last code chunk\n",
        "plt.legend(loc = \"upper right\") # Display legend\n",
        "\n",
        "plt.title(\"$k$-NN Regressor CV and Train Error\") # Label the plot with a title\n",
        "plt.xlabel('$k$ (Number of Neighbors)') # Label the x-axis\n",
        "plt.ylabel('Mean Squared Error') # Label the y-axis\n",
        "plt.show()"
      ]
    },
    {
      "cell_type": "code",
      "execution_count": 43,
      "metadata": {
        "ExecuteTime": {
          "end_time": "2021-03-11T17:41:51.116382Z",
          "start_time": "2021-03-11T17:41:50.949202Z"
        },
        "id": "iCpW-_TBwOqG",
        "outputId": "388ee882-cdd0-41aa-b41b-a27d78ffc29b"
      },
      "outputs": [
        {
          "data": {
            "text/html": [
              "<style>#sk-container-id-4 {color: black;}#sk-container-id-4 pre{padding: 0;}#sk-container-id-4 div.sk-toggleable {background-color: white;}#sk-container-id-4 label.sk-toggleable__label {cursor: pointer;display: block;width: 100%;margin-bottom: 0;padding: 0.3em;box-sizing: border-box;text-align: center;}#sk-container-id-4 label.sk-toggleable__label-arrow:before {content: \"▸\";float: left;margin-right: 0.25em;color: #696969;}#sk-container-id-4 label.sk-toggleable__label-arrow:hover:before {color: black;}#sk-container-id-4 div.sk-estimator:hover label.sk-toggleable__label-arrow:before {color: black;}#sk-container-id-4 div.sk-toggleable__content {max-height: 0;max-width: 0;overflow: hidden;text-align: left;background-color: #f0f8ff;}#sk-container-id-4 div.sk-toggleable__content pre {margin: 0.2em;color: black;border-radius: 0.25em;background-color: #f0f8ff;}#sk-container-id-4 input.sk-toggleable__control:checked~div.sk-toggleable__content {max-height: 200px;max-width: 100%;overflow: auto;}#sk-container-id-4 input.sk-toggleable__control:checked~label.sk-toggleable__label-arrow:before {content: \"▾\";}#sk-container-id-4 div.sk-estimator input.sk-toggleable__control:checked~label.sk-toggleable__label {background-color: #d4ebff;}#sk-container-id-4 div.sk-label input.sk-toggleable__control:checked~label.sk-toggleable__label {background-color: #d4ebff;}#sk-container-id-4 input.sk-hidden--visually {border: 0;clip: rect(1px 1px 1px 1px);clip: rect(1px, 1px, 1px, 1px);height: 1px;margin: -1px;overflow: hidden;padding: 0;position: absolute;width: 1px;}#sk-container-id-4 div.sk-estimator {font-family: monospace;background-color: #f0f8ff;border: 1px dotted black;border-radius: 0.25em;box-sizing: border-box;margin-bottom: 0.5em;}#sk-container-id-4 div.sk-estimator:hover {background-color: #d4ebff;}#sk-container-id-4 div.sk-parallel-item::after {content: \"\";width: 100%;border-bottom: 1px solid gray;flex-grow: 1;}#sk-container-id-4 div.sk-label:hover label.sk-toggleable__label {background-color: #d4ebff;}#sk-container-id-4 div.sk-serial::before {content: \"\";position: absolute;border-left: 1px solid gray;box-sizing: border-box;top: 0;bottom: 0;left: 50%;z-index: 0;}#sk-container-id-4 div.sk-serial {display: flex;flex-direction: column;align-items: center;background-color: white;padding-right: 0.2em;padding-left: 0.2em;position: relative;}#sk-container-id-4 div.sk-item {position: relative;z-index: 1;}#sk-container-id-4 div.sk-parallel {display: flex;align-items: stretch;justify-content: center;background-color: white;position: relative;}#sk-container-id-4 div.sk-item::before, #sk-container-id-4 div.sk-parallel-item::before {content: \"\";position: absolute;border-left: 1px solid gray;box-sizing: border-box;top: 0;bottom: 0;left: 50%;z-index: -1;}#sk-container-id-4 div.sk-parallel-item {display: flex;flex-direction: column;z-index: 1;position: relative;background-color: white;}#sk-container-id-4 div.sk-parallel-item:first-child::after {align-self: flex-end;width: 50%;}#sk-container-id-4 div.sk-parallel-item:last-child::after {align-self: flex-start;width: 50%;}#sk-container-id-4 div.sk-parallel-item:only-child::after {width: 0;}#sk-container-id-4 div.sk-dashed-wrapped {border: 1px dashed gray;margin: 0 0.4em 0.5em 0.4em;box-sizing: border-box;padding-bottom: 0.4em;background-color: white;}#sk-container-id-4 div.sk-label label {font-family: monospace;font-weight: bold;display: inline-block;line-height: 1.2em;}#sk-container-id-4 div.sk-label-container {text-align: center;}#sk-container-id-4 div.sk-container {/* jupyter's `normalize.less` sets `[hidden] { display: none; }` but bootstrap.min.css set `[hidden] { display: none !important; }` so we also need the `!important` here to be able to override the default hidden behavior on the sphinx rendered scikit-learn.org. See: https://github.com/scikit-learn/scikit-learn/issues/21755 */display: inline-block !important;position: relative;}#sk-container-id-4 div.sk-text-repr-fallback {display: none;}</style><div id=\"sk-container-id-4\" class=\"sk-top-container\"><div class=\"sk-text-repr-fallback\"><pre>KNeighborsRegressor(n_neighbors=15)</pre><b>In a Jupyter environment, please rerun this cell to show the HTML representation or trust the notebook. <br />On GitHub, the HTML representation is unable to render, please try loading this page with nbviewer.org.</b></div><div class=\"sk-container\" hidden><div class=\"sk-item\"><div class=\"sk-estimator sk-toggleable\"><input class=\"sk-toggleable__control sk-hidden--visually\" id=\"sk-estimator-id-6\" type=\"checkbox\" checked><label for=\"sk-estimator-id-6\" class=\"sk-toggleable__label sk-toggleable__label-arrow\">KNeighborsRegressor</label><div class=\"sk-toggleable__content\"><pre>KNeighborsRegressor(n_neighbors=15)</pre></div></div></div></div></div>"
            ],
            "text/plain": [
              "KNeighborsRegressor(n_neighbors=15)"
            ]
          },
          "execution_count": 43,
          "metadata": {},
          "output_type": "execute_result"
        }
      ],
      "source": [
        "knn_final = KNeighborsRegressor(n_neighbors = one_std_rule_best_k) # Create an instance and set the parameter to one_std_rule_best_k in this supervised ML algorithm for regression tasks\n",
        "knn_final.fit(X, y) # Estimator that will be used on new data"
      ]
    },
    {
      "cell_type": "markdown",
      "metadata": {
        "id": "91QDb3PwwOqG"
      },
      "source": [
        "#### 4.0) Pipelines and Cross-validation"
      ]
    },
    {
      "cell_type": "markdown",
      "metadata": {
        "id": "2oY7SmxVwOqH"
      },
      "source": [
        "**Motivation**\n",
        "\n",
        "There is one essential detail that has been left-out in the first two parts of this notebook. As $k$-NN relies on euclidean distance to select the nearest points, it is always better to work with standardized data (each variable rescaled to be centered at 0 and have unit variance). That way the same distance along each feature axis is proportional for each variable."
      ]
    },
    {
      "cell_type": "code",
      "execution_count": 44,
      "metadata": {
        "ExecuteTime": {
          "end_time": "2021-03-11T17:41:51.154661Z",
          "start_time": "2021-03-11T17:41:51.117379Z"
        },
        "id": "52YTsG_dwOqH",
        "outputId": "3cd26446-d09b-4aeb-843d-8bfbd753245f"
      },
      "outputs": [
        {
          "name": "stdout",
          "output_type": "stream",
          "text": [
            "Original means: [-119.58051328   35.64056895   28.61501285    3.87069684    4.98214201\n",
            "    5.42498593    3.10022784    1.17117338]\n",
            "Original Variances: [  4.02337913   4.56298874 158.175595     3.60151825   1.37041922\n",
            "   5.56867348 135.72595174   2.02796139]\n"
          ]
        }
      ],
      "source": [
        "from sklearn.preprocessing import StandardScaler\n",
        "\n",
        "# Create the scaler:\n",
        "scaler = StandardScaler()  # Object\n",
        "\n",
        "# Estimate the mean and variances for each variable on the training set only:\n",
        "scaler.fit(X_train)\n",
        "\n",
        "print(\"Original means:\", scaler.mean_)\n",
        "print(\"Original Variances:\", scaler.var_)\n",
        "\n",
        "# Scale the training and test features, using the previously estimated means and variances\n",
        "X_train_std = scaler.transform(X_train)\n",
        "X_test_std = scaler.transform(X_test)"
      ]
    },
    {
      "cell_type": "markdown",
      "metadata": {
        "id": "CS3IY6FawOqH"
      },
      "source": [
        "#### 4.1) Cross-validation with Pipelines"
      ]
    },
    {
      "cell_type": "code",
      "execution_count": 45,
      "metadata": {
        "ExecuteTime": {
          "end_time": "2021-03-11T17:41:51.170375Z",
          "start_time": "2021-03-11T17:41:51.154661Z"
        },
        "id": "VsOBuhFLwOqH"
      },
      "outputs": [],
      "source": [
        "from sklearn.pipeline import Pipeline"
      ]
    },
    {
      "cell_type": "code",
      "execution_count": 46,
      "metadata": {
        "ExecuteTime": {
          "end_time": "2021-03-11T17:41:51.186193Z",
          "start_time": "2021-03-11T17:41:51.174604Z"
        },
        "id": "HBo8dYEPwOqH"
      },
      "outputs": [],
      "source": [
        "knn_pipe = Pipeline([(\"scaler\", StandardScaler()),\n",
        "                     (\"kNN\", KNeighborsRegressor())])\n",
        "# Pipeline consists of two steps:\n",
        "#  1. StandardScaler: This step applies the standard scaling technique to the input features.\n",
        "#  Standard scaling scales each feature to have zero mean and unit variance, which is a common preprocessing step for many machine learning algorithms.\n",
        "#  2. KNeighborsRegressor: This step fits a K-Nearest Neighbors regression model to the scaled input features.\n",
        "#  K-Nearest Neighbors is a non-parametric regression algorithm that predicts the output value for a new input by averaging the output values of the K nearest training examples in the feature space."
      ]
    },
    {
      "cell_type": "code",
      "execution_count": 47,
      "metadata": {
        "ExecuteTime": {
          "end_time": "2021-03-11T17:41:51.983856Z",
          "start_time": "2021-03-11T17:41:51.189631Z"
        },
        "id": "pz0JthcHwOqI"
      },
      "outputs": [],
      "source": [
        "knn_pipe.fit(X, y) # Fit the pipeline on training data\n",
        "pipe_predictions = knn_pipe.predict(X) # Predict with pipeline with test data"
      ]
    },
    {
      "cell_type": "code",
      "execution_count": 48,
      "metadata": {
        "id": "Br61vciwwOqI",
        "outputId": "890f1833-82e7-4eeb-855d-f7d1326d0a11"
      },
      "outputs": [
        {
          "data": {
            "text/plain": [
              "2471694691.546898"
            ]
          },
          "execution_count": 48,
          "metadata": {},
          "output_type": "execute_result"
        }
      ],
      "source": [
        "mean_squared_error(y, pipe_predictions)"
      ]
    },
    {
      "cell_type": "code",
      "execution_count": 49,
      "metadata": {
        "ExecuteTime": {
          "end_time": "2021-03-11T17:41:51.999638Z",
          "start_time": "2021-03-11T17:41:51.986389Z"
        },
        "id": "bOUTM6x9wOqI"
      },
      "outputs": [],
      "source": [
        "#Declare Pipe and grid:\n",
        "knn_pipe = Pipeline([(\"scaler\", StandardScaler()),\n",
        "                     (\"kNN\", KNeighborsRegressor())])\n",
        "\n",
        "hyper_parameters = {\"kNN__n_neighbors\" : np.arange(1,49,2)}\n"
      ]
    },
    {
      "cell_type": "code",
      "execution_count": 50,
      "metadata": {
        "ExecuteTime": {
          "end_time": "2021-03-11T17:44:16.754487Z",
          "start_time": "2021-03-11T17:41:52.001769Z"
        },
        "id": "C6ppsqUnwOqI",
        "outputId": "77f20be0-41dd-4b0d-f123-6d39de1914f5"
      },
      "outputs": [
        {
          "data": {
            "text/html": [
              "<style>#sk-container-id-5 {color: black;}#sk-container-id-5 pre{padding: 0;}#sk-container-id-5 div.sk-toggleable {background-color: white;}#sk-container-id-5 label.sk-toggleable__label {cursor: pointer;display: block;width: 100%;margin-bottom: 0;padding: 0.3em;box-sizing: border-box;text-align: center;}#sk-container-id-5 label.sk-toggleable__label-arrow:before {content: \"▸\";float: left;margin-right: 0.25em;color: #696969;}#sk-container-id-5 label.sk-toggleable__label-arrow:hover:before {color: black;}#sk-container-id-5 div.sk-estimator:hover label.sk-toggleable__label-arrow:before {color: black;}#sk-container-id-5 div.sk-toggleable__content {max-height: 0;max-width: 0;overflow: hidden;text-align: left;background-color: #f0f8ff;}#sk-container-id-5 div.sk-toggleable__content pre {margin: 0.2em;color: black;border-radius: 0.25em;background-color: #f0f8ff;}#sk-container-id-5 input.sk-toggleable__control:checked~div.sk-toggleable__content {max-height: 200px;max-width: 100%;overflow: auto;}#sk-container-id-5 input.sk-toggleable__control:checked~label.sk-toggleable__label-arrow:before {content: \"▾\";}#sk-container-id-5 div.sk-estimator input.sk-toggleable__control:checked~label.sk-toggleable__label {background-color: #d4ebff;}#sk-container-id-5 div.sk-label input.sk-toggleable__control:checked~label.sk-toggleable__label {background-color: #d4ebff;}#sk-container-id-5 input.sk-hidden--visually {border: 0;clip: rect(1px 1px 1px 1px);clip: rect(1px, 1px, 1px, 1px);height: 1px;margin: -1px;overflow: hidden;padding: 0;position: absolute;width: 1px;}#sk-container-id-5 div.sk-estimator {font-family: monospace;background-color: #f0f8ff;border: 1px dotted black;border-radius: 0.25em;box-sizing: border-box;margin-bottom: 0.5em;}#sk-container-id-5 div.sk-estimator:hover {background-color: #d4ebff;}#sk-container-id-5 div.sk-parallel-item::after {content: \"\";width: 100%;border-bottom: 1px solid gray;flex-grow: 1;}#sk-container-id-5 div.sk-label:hover label.sk-toggleable__label {background-color: #d4ebff;}#sk-container-id-5 div.sk-serial::before {content: \"\";position: absolute;border-left: 1px solid gray;box-sizing: border-box;top: 0;bottom: 0;left: 50%;z-index: 0;}#sk-container-id-5 div.sk-serial {display: flex;flex-direction: column;align-items: center;background-color: white;padding-right: 0.2em;padding-left: 0.2em;position: relative;}#sk-container-id-5 div.sk-item {position: relative;z-index: 1;}#sk-container-id-5 div.sk-parallel {display: flex;align-items: stretch;justify-content: center;background-color: white;position: relative;}#sk-container-id-5 div.sk-item::before, #sk-container-id-5 div.sk-parallel-item::before {content: \"\";position: absolute;border-left: 1px solid gray;box-sizing: border-box;top: 0;bottom: 0;left: 50%;z-index: -1;}#sk-container-id-5 div.sk-parallel-item {display: flex;flex-direction: column;z-index: 1;position: relative;background-color: white;}#sk-container-id-5 div.sk-parallel-item:first-child::after {align-self: flex-end;width: 50%;}#sk-container-id-5 div.sk-parallel-item:last-child::after {align-self: flex-start;width: 50%;}#sk-container-id-5 div.sk-parallel-item:only-child::after {width: 0;}#sk-container-id-5 div.sk-dashed-wrapped {border: 1px dashed gray;margin: 0 0.4em 0.5em 0.4em;box-sizing: border-box;padding-bottom: 0.4em;background-color: white;}#sk-container-id-5 div.sk-label label {font-family: monospace;font-weight: bold;display: inline-block;line-height: 1.2em;}#sk-container-id-5 div.sk-label-container {text-align: center;}#sk-container-id-5 div.sk-container {/* jupyter's `normalize.less` sets `[hidden] { display: none; }` but bootstrap.min.css set `[hidden] { display: none !important; }` so we also need the `!important` here to be able to override the default hidden behavior on the sphinx rendered scikit-learn.org. See: https://github.com/scikit-learn/scikit-learn/issues/21755 */display: inline-block !important;position: relative;}#sk-container-id-5 div.sk-text-repr-fallback {display: none;}</style><div id=\"sk-container-id-5\" class=\"sk-top-container\"><div class=\"sk-text-repr-fallback\"><pre>GridSearchCV(cv=KFold(n_splits=10, random_state=1, shuffle=True),\n",
              "             estimator=Pipeline(steps=[(&#x27;scaler&#x27;, StandardScaler()),\n",
              "                                       (&#x27;kNN&#x27;, KNeighborsRegressor())]),\n",
              "             param_grid={&#x27;kNN__n_neighbors&#x27;: array([ 1,  3,  5,  7,  9, 11, 13, 15, 17, 19, 21, 23, 25, 27, 29, 31, 33,\n",
              "       35, 37, 39, 41, 43, 45, 47])},\n",
              "             scoring=&#x27;neg_mean_squared_error&#x27;)</pre><b>In a Jupyter environment, please rerun this cell to show the HTML representation or trust the notebook. <br />On GitHub, the HTML representation is unable to render, please try loading this page with nbviewer.org.</b></div><div class=\"sk-container\" hidden><div class=\"sk-item sk-dashed-wrapped\"><div class=\"sk-label-container\"><div class=\"sk-label sk-toggleable\"><input class=\"sk-toggleable__control sk-hidden--visually\" id=\"sk-estimator-id-7\" type=\"checkbox\" ><label for=\"sk-estimator-id-7\" class=\"sk-toggleable__label sk-toggleable__label-arrow\">GridSearchCV</label><div class=\"sk-toggleable__content\"><pre>GridSearchCV(cv=KFold(n_splits=10, random_state=1, shuffle=True),\n",
              "             estimator=Pipeline(steps=[(&#x27;scaler&#x27;, StandardScaler()),\n",
              "                                       (&#x27;kNN&#x27;, KNeighborsRegressor())]),\n",
              "             param_grid={&#x27;kNN__n_neighbors&#x27;: array([ 1,  3,  5,  7,  9, 11, 13, 15, 17, 19, 21, 23, 25, 27, 29, 31, 33,\n",
              "       35, 37, 39, 41, 43, 45, 47])},\n",
              "             scoring=&#x27;neg_mean_squared_error&#x27;)</pre></div></div></div><div class=\"sk-parallel\"><div class=\"sk-parallel-item\"><div class=\"sk-item\"><div class=\"sk-label-container\"><div class=\"sk-label sk-toggleable\"><input class=\"sk-toggleable__control sk-hidden--visually\" id=\"sk-estimator-id-8\" type=\"checkbox\" ><label for=\"sk-estimator-id-8\" class=\"sk-toggleable__label sk-toggleable__label-arrow\">estimator: Pipeline</label><div class=\"sk-toggleable__content\"><pre>Pipeline(steps=[(&#x27;scaler&#x27;, StandardScaler()), (&#x27;kNN&#x27;, KNeighborsRegressor())])</pre></div></div></div><div class=\"sk-serial\"><div class=\"sk-item\"><div class=\"sk-serial\"><div class=\"sk-item\"><div class=\"sk-estimator sk-toggleable\"><input class=\"sk-toggleable__control sk-hidden--visually\" id=\"sk-estimator-id-9\" type=\"checkbox\" ><label for=\"sk-estimator-id-9\" class=\"sk-toggleable__label sk-toggleable__label-arrow\">StandardScaler</label><div class=\"sk-toggleable__content\"><pre>StandardScaler()</pre></div></div></div><div class=\"sk-item\"><div class=\"sk-estimator sk-toggleable\"><input class=\"sk-toggleable__control sk-hidden--visually\" id=\"sk-estimator-id-10\" type=\"checkbox\" ><label for=\"sk-estimator-id-10\" class=\"sk-toggleable__label sk-toggleable__label-arrow\">KNeighborsRegressor</label><div class=\"sk-toggleable__content\"><pre>KNeighborsRegressor()</pre></div></div></div></div></div></div></div></div></div></div></div></div>"
            ],
            "text/plain": [
              "GridSearchCV(cv=KFold(n_splits=10, random_state=1, shuffle=True),\n",
              "             estimator=Pipeline(steps=[('scaler', StandardScaler()),\n",
              "                                       ('kNN', KNeighborsRegressor())]),\n",
              "             param_grid={'kNN__n_neighbors': array([ 1,  3,  5,  7,  9, 11, 13, 15, 17, 19, 21, 23, 25, 27, 29, 31, 33,\n",
              "       35, 37, 39, 41, 43, 45, 47])},\n",
              "             scoring='neg_mean_squared_error')"
            ]
          },
          "execution_count": 50,
          "metadata": {},
          "output_type": "execute_result"
        }
      ],
      "source": [
        "#Declare and fit the grid search:\n",
        "knn_pipeCV = GridSearchCV(estimator = knn_pipe, param_grid = hyper_parameters, scoring = \"neg_mean_squared_error\",\n",
        "                       cv = KFold(n_splits = 10 , shuffle = True, random_state = 1))\n",
        "\n",
        "# estimator: Specifies the algorithm or model to be tuned\n",
        "#  param_grid: A dictionary that contains the hyperparameters to be tuned and the possible values for each hyperparameter\n",
        "#   scoring: Used for cross-validation. \"neg_mean_squared_error\" is the negative mean squared error.\n",
        "#    cv: The dataset is split into 'folds' equal parts, and the model is trained and evaluated 10 times, each time using a different fold as the test set\n",
        "#    This data is shuffled and set randomly at 42\n",
        "\n",
        "knn_pipeCV.fit(X, y)\n",
        "# X: Feature matrix\n",
        "#  y:Target array\n",
        "#   Cross-validation is a technique used to evaluate the performance of a model by splitting the data into multiple subsets and training the model on different subsets while using the remaining subset for validation.\n",
        "#   This helps to reduce overfitting and provides a more accurate estimate of the model's performance."
      ]
    },
    {
      "cell_type": "code",
      "execution_count": 51,
      "metadata": {
        "ExecuteTime": {
          "end_time": "2021-03-11T17:44:16.769914Z",
          "start_time": "2021-03-11T17:44:16.756406Z"
        },
        "id": "zqjZ3d8NwOqI",
        "outputId": "e043cf7d-9c91-4525-bcc5-ce0b0726fafe"
      },
      "outputs": [
        {
          "data": {
            "text/plain": [
              "9"
            ]
          },
          "execution_count": 51,
          "metadata": {},
          "output_type": "execute_result"
        }
      ],
      "source": [
        "#Compute \"best\" k value and its index:\n",
        "resCV = knn_pipeCV.cv_results_ # Results of the cross-validation\n",
        "\n",
        "test_MSEs = -resCV[\"mean_test_score\"]\n",
        "# The negative sign is used because the cross_val_score function in scikit-learn returns negative scores (higher is better),\n",
        "# but we want to work with positive scores (lower is better) for the MSE.\n",
        "std_test_MSEs = resCV[\"std_test_score\"] / np.sqrt(10) # Variability in the estimated test set MSE due to sampling from the data.\n",
        "k_grid = resCV[\"param_kNN__n_neighbors\"].data  # An array of the different values of k that were tested\n",
        "\n",
        "index_best = np.argmin(test_MSEs) # Index of the k value with the lowest MSE estimate, find minimum then the index (arg)\n",
        "best_k = k_grid[index_best]\n",
        "best_k # The value of k that gives the lowest estimated test set MSE based on cross-validation"
      ]
    },
    {
      "cell_type": "code",
      "execution_count": 52,
      "metadata": {
        "id": "ABFW-uT7wOqI",
        "outputId": "8ef96396-c0ec-44f0-e63b-8d8c49085f69"
      },
      "outputs": [
        {
          "data": {
            "text/html": [
              "<div>\n",
              "<style scoped>\n",
              "    .dataframe tbody tr th:only-of-type {\n",
              "        vertical-align: middle;\n",
              "    }\n",
              "\n",
              "    .dataframe tbody tr th {\n",
              "        vertical-align: top;\n",
              "    }\n",
              "\n",
              "    .dataframe thead th {\n",
              "        text-align: right;\n",
              "    }\n",
              "</style>\n",
              "<table border=\"1\" class=\"dataframe\">\n",
              "  <thead>\n",
              "    <tr style=\"text-align: right;\">\n",
              "      <th></th>\n",
              "      <th>mean_fit_time</th>\n",
              "      <th>std_fit_time</th>\n",
              "      <th>mean_score_time</th>\n",
              "      <th>std_score_time</th>\n",
              "      <th>param_kNN__n_neighbors</th>\n",
              "      <th>params</th>\n",
              "      <th>split0_test_score</th>\n",
              "      <th>split1_test_score</th>\n",
              "      <th>split2_test_score</th>\n",
              "      <th>split3_test_score</th>\n",
              "      <th>split4_test_score</th>\n",
              "      <th>split5_test_score</th>\n",
              "      <th>split6_test_score</th>\n",
              "      <th>split7_test_score</th>\n",
              "      <th>split8_test_score</th>\n",
              "      <th>split9_test_score</th>\n",
              "      <th>mean_test_score</th>\n",
              "      <th>std_test_score</th>\n",
              "      <th>rank_test_score</th>\n",
              "    </tr>\n",
              "  </thead>\n",
              "  <tbody>\n",
              "    <tr>\n",
              "      <th>0</th>\n",
              "      <td>0.020920</td>\n",
              "      <td>0.006179</td>\n",
              "      <td>0.054475</td>\n",
              "      <td>0.006488</td>\n",
              "      <td>1</td>\n",
              "      <td>{'kNN__n_neighbors': 1}</td>\n",
              "      <td>-5.867118e+09</td>\n",
              "      <td>-5.393009e+09</td>\n",
              "      <td>-5.964867e+09</td>\n",
              "      <td>-6.433410e+09</td>\n",
              "      <td>-5.472311e+09</td>\n",
              "      <td>-5.486419e+09</td>\n",
              "      <td>-5.665255e+09</td>\n",
              "      <td>-5.146922e+09</td>\n",
              "      <td>-6.060335e+09</td>\n",
              "      <td>-5.771927e+09</td>\n",
              "      <td>-5.726157e+09</td>\n",
              "      <td>3.553802e+08</td>\n",
              "      <td>24</td>\n",
              "    </tr>\n",
              "    <tr>\n",
              "      <th>1</th>\n",
              "      <td>0.019497</td>\n",
              "      <td>0.006327</td>\n",
              "      <td>0.070198</td>\n",
              "      <td>0.007268</td>\n",
              "      <td>3</td>\n",
              "      <td>{'kNN__n_neighbors': 3}</td>\n",
              "      <td>-4.190561e+09</td>\n",
              "      <td>-3.962058e+09</td>\n",
              "      <td>-4.218548e+09</td>\n",
              "      <td>-4.178971e+09</td>\n",
              "      <td>-4.147111e+09</td>\n",
              "      <td>-3.934364e+09</td>\n",
              "      <td>-4.047449e+09</td>\n",
              "      <td>-3.811258e+09</td>\n",
              "      <td>-4.016145e+09</td>\n",
              "      <td>-4.162982e+09</td>\n",
              "      <td>-4.066945e+09</td>\n",
              "      <td>1.278198e+08</td>\n",
              "      <td>23</td>\n",
              "    </tr>\n",
              "    <tr>\n",
              "      <th>2</th>\n",
              "      <td>0.020842</td>\n",
              "      <td>0.005783</td>\n",
              "      <td>0.083581</td>\n",
              "      <td>0.005625</td>\n",
              "      <td>5</td>\n",
              "      <td>{'kNN__n_neighbors': 5}</td>\n",
              "      <td>-3.829049e+09</td>\n",
              "      <td>-3.631132e+09</td>\n",
              "      <td>-3.957117e+09</td>\n",
              "      <td>-3.962824e+09</td>\n",
              "      <td>-3.847953e+09</td>\n",
              "      <td>-3.676656e+09</td>\n",
              "      <td>-3.832066e+09</td>\n",
              "      <td>-3.563683e+09</td>\n",
              "      <td>-3.682728e+09</td>\n",
              "      <td>-3.843569e+09</td>\n",
              "      <td>-3.782678e+09</td>\n",
              "      <td>1.294585e+08</td>\n",
              "      <td>13</td>\n",
              "    </tr>\n",
              "    <tr>\n",
              "      <th>3</th>\n",
              "      <td>0.024045</td>\n",
              "      <td>0.008194</td>\n",
              "      <td>0.097357</td>\n",
              "      <td>0.010780</td>\n",
              "      <td>7</td>\n",
              "      <td>{'kNN__n_neighbors': 7}</td>\n",
              "      <td>-3.789373e+09</td>\n",
              "      <td>-3.530546e+09</td>\n",
              "      <td>-3.848485e+09</td>\n",
              "      <td>-3.841699e+09</td>\n",
              "      <td>-3.763143e+09</td>\n",
              "      <td>-3.656992e+09</td>\n",
              "      <td>-3.706978e+09</td>\n",
              "      <td>-3.478151e+09</td>\n",
              "      <td>-3.647897e+09</td>\n",
              "      <td>-3.764427e+09</td>\n",
              "      <td>-3.702769e+09</td>\n",
              "      <td>1.186254e+08</td>\n",
              "      <td>5</td>\n",
              "    </tr>\n",
              "    <tr>\n",
              "      <th>4</th>\n",
              "      <td>0.023203</td>\n",
              "      <td>0.005863</td>\n",
              "      <td>0.103262</td>\n",
              "      <td>0.009432</td>\n",
              "      <td>9</td>\n",
              "      <td>{'kNN__n_neighbors': 9}</td>\n",
              "      <td>-3.733033e+09</td>\n",
              "      <td>-3.482355e+09</td>\n",
              "      <td>-3.836875e+09</td>\n",
              "      <td>-3.826706e+09</td>\n",
              "      <td>-3.712384e+09</td>\n",
              "      <td>-3.623981e+09</td>\n",
              "      <td>-3.678720e+09</td>\n",
              "      <td>-3.450836e+09</td>\n",
              "      <td>-3.640092e+09</td>\n",
              "      <td>-3.766023e+09</td>\n",
              "      <td>-3.675101e+09</td>\n",
              "      <td>1.238812e+08</td>\n",
              "      <td>1</td>\n",
              "    </tr>\n",
              "    <tr>\n",
              "      <th>5</th>\n",
              "      <td>0.027303</td>\n",
              "      <td>0.006302</td>\n",
              "      <td>0.107106</td>\n",
              "      <td>0.021744</td>\n",
              "      <td>11</td>\n",
              "      <td>{'kNN__n_neighbors': 11}</td>\n",
              "      <td>-3.734255e+09</td>\n",
              "      <td>-3.480820e+09</td>\n",
              "      <td>-3.877832e+09</td>\n",
              "      <td>-3.842398e+09</td>\n",
              "      <td>-3.728839e+09</td>\n",
              "      <td>-3.612781e+09</td>\n",
              "      <td>-3.676319e+09</td>\n",
              "      <td>-3.424723e+09</td>\n",
              "      <td>-3.638664e+09</td>\n",
              "      <td>-3.807548e+09</td>\n",
              "      <td>-3.682418e+09</td>\n",
              "      <td>1.407583e+08</td>\n",
              "      <td>2</td>\n",
              "    </tr>\n",
              "    <tr>\n",
              "      <th>6</th>\n",
              "      <td>0.018148</td>\n",
              "      <td>0.004651</td>\n",
              "      <td>0.105463</td>\n",
              "      <td>0.007324</td>\n",
              "      <td>13</td>\n",
              "      <td>{'kNN__n_neighbors': 13}</td>\n",
              "      <td>-3.738204e+09</td>\n",
              "      <td>-3.483995e+09</td>\n",
              "      <td>-3.874774e+09</td>\n",
              "      <td>-3.840426e+09</td>\n",
              "      <td>-3.719008e+09</td>\n",
              "      <td>-3.596485e+09</td>\n",
              "      <td>-3.685959e+09</td>\n",
              "      <td>-3.470852e+09</td>\n",
              "      <td>-3.620689e+09</td>\n",
              "      <td>-3.834593e+09</td>\n",
              "      <td>-3.686499e+09</td>\n",
              "      <td>1.359221e+08</td>\n",
              "      <td>3</td>\n",
              "    </tr>\n",
              "    <tr>\n",
              "      <th>7</th>\n",
              "      <td>0.022970</td>\n",
              "      <td>0.007305</td>\n",
              "      <td>0.110001</td>\n",
              "      <td>0.011864</td>\n",
              "      <td>15</td>\n",
              "      <td>{'kNN__n_neighbors': 15}</td>\n",
              "      <td>-3.736233e+09</td>\n",
              "      <td>-3.452941e+09</td>\n",
              "      <td>-3.883904e+09</td>\n",
              "      <td>-3.844169e+09</td>\n",
              "      <td>-3.743345e+09</td>\n",
              "      <td>-3.625596e+09</td>\n",
              "      <td>-3.661183e+09</td>\n",
              "      <td>-3.491728e+09</td>\n",
              "      <td>-3.638024e+09</td>\n",
              "      <td>-3.862512e+09</td>\n",
              "      <td>-3.693963e+09</td>\n",
              "      <td>1.411176e+08</td>\n",
              "      <td>4</td>\n",
              "    </tr>\n",
              "    <tr>\n",
              "      <th>8</th>\n",
              "      <td>0.021498</td>\n",
              "      <td>0.006548</td>\n",
              "      <td>0.111915</td>\n",
              "      <td>0.006216</td>\n",
              "      <td>17</td>\n",
              "      <td>{'kNN__n_neighbors': 17}</td>\n",
              "      <td>-3.754528e+09</td>\n",
              "      <td>-3.447835e+09</td>\n",
              "      <td>-3.906119e+09</td>\n",
              "      <td>-3.873811e+09</td>\n",
              "      <td>-3.758294e+09</td>\n",
              "      <td>-3.655998e+09</td>\n",
              "      <td>-3.674959e+09</td>\n",
              "      <td>-3.479758e+09</td>\n",
              "      <td>-3.663547e+09</td>\n",
              "      <td>-3.876297e+09</td>\n",
              "      <td>-3.709115e+09</td>\n",
              "      <td>1.501008e+08</td>\n",
              "      <td>6</td>\n",
              "    </tr>\n",
              "    <tr>\n",
              "      <th>9</th>\n",
              "      <td>0.025550</td>\n",
              "      <td>0.007519</td>\n",
              "      <td>0.116989</td>\n",
              "      <td>0.007925</td>\n",
              "      <td>19</td>\n",
              "      <td>{'kNN__n_neighbors': 19}</td>\n",
              "      <td>-3.780239e+09</td>\n",
              "      <td>-3.483090e+09</td>\n",
              "      <td>-3.937000e+09</td>\n",
              "      <td>-3.883691e+09</td>\n",
              "      <td>-3.750376e+09</td>\n",
              "      <td>-3.668015e+09</td>\n",
              "      <td>-3.668185e+09</td>\n",
              "      <td>-3.474520e+09</td>\n",
              "      <td>-3.695451e+09</td>\n",
              "      <td>-3.856384e+09</td>\n",
              "      <td>-3.719695e+09</td>\n",
              "      <td>1.481256e+08</td>\n",
              "      <td>7</td>\n",
              "    </tr>\n",
              "    <tr>\n",
              "      <th>10</th>\n",
              "      <td>0.017876</td>\n",
              "      <td>0.005922</td>\n",
              "      <td>0.121846</td>\n",
              "      <td>0.006114</td>\n",
              "      <td>21</td>\n",
              "      <td>{'kNN__n_neighbors': 21}</td>\n",
              "      <td>-3.811535e+09</td>\n",
              "      <td>-3.487525e+09</td>\n",
              "      <td>-3.927873e+09</td>\n",
              "      <td>-3.896388e+09</td>\n",
              "      <td>-3.762893e+09</td>\n",
              "      <td>-3.659563e+09</td>\n",
              "      <td>-3.706480e+09</td>\n",
              "      <td>-3.480807e+09</td>\n",
              "      <td>-3.694691e+09</td>\n",
              "      <td>-3.863153e+09</td>\n",
              "      <td>-3.729091e+09</td>\n",
              "      <td>1.483046e+08</td>\n",
              "      <td>8</td>\n",
              "    </tr>\n",
              "    <tr>\n",
              "      <th>11</th>\n",
              "      <td>0.019348</td>\n",
              "      <td>0.006001</td>\n",
              "      <td>0.125180</td>\n",
              "      <td>0.011086</td>\n",
              "      <td>23</td>\n",
              "      <td>{'kNN__n_neighbors': 23}</td>\n",
              "      <td>-3.822516e+09</td>\n",
              "      <td>-3.499951e+09</td>\n",
              "      <td>-3.948116e+09</td>\n",
              "      <td>-3.919258e+09</td>\n",
              "      <td>-3.745151e+09</td>\n",
              "      <td>-3.670571e+09</td>\n",
              "      <td>-3.702712e+09</td>\n",
              "      <td>-3.515418e+09</td>\n",
              "      <td>-3.709512e+09</td>\n",
              "      <td>-3.893960e+09</td>\n",
              "      <td>-3.742716e+09</td>\n",
              "      <td>1.486984e+08</td>\n",
              "      <td>9</td>\n",
              "    </tr>\n",
              "    <tr>\n",
              "      <th>12</th>\n",
              "      <td>0.021573</td>\n",
              "      <td>0.007073</td>\n",
              "      <td>0.129846</td>\n",
              "      <td>0.010812</td>\n",
              "      <td>25</td>\n",
              "      <td>{'kNN__n_neighbors': 25}</td>\n",
              "      <td>-3.821264e+09</td>\n",
              "      <td>-3.517003e+09</td>\n",
              "      <td>-3.979082e+09</td>\n",
              "      <td>-3.927355e+09</td>\n",
              "      <td>-3.757223e+09</td>\n",
              "      <td>-3.665158e+09</td>\n",
              "      <td>-3.720298e+09</td>\n",
              "      <td>-3.549575e+09</td>\n",
              "      <td>-3.726293e+09</td>\n",
              "      <td>-3.898996e+09</td>\n",
              "      <td>-3.756225e+09</td>\n",
              "      <td>1.462794e+08</td>\n",
              "      <td>10</td>\n",
              "    </tr>\n",
              "    <tr>\n",
              "      <th>13</th>\n",
              "      <td>0.025218</td>\n",
              "      <td>0.007150</td>\n",
              "      <td>0.128626</td>\n",
              "      <td>0.007005</td>\n",
              "      <td>27</td>\n",
              "      <td>{'kNN__n_neighbors': 27}</td>\n",
              "      <td>-3.814075e+09</td>\n",
              "      <td>-3.514835e+09</td>\n",
              "      <td>-4.006647e+09</td>\n",
              "      <td>-3.952612e+09</td>\n",
              "      <td>-3.763814e+09</td>\n",
              "      <td>-3.676985e+09</td>\n",
              "      <td>-3.739013e+09</td>\n",
              "      <td>-3.573838e+09</td>\n",
              "      <td>-3.721322e+09</td>\n",
              "      <td>-3.926830e+09</td>\n",
              "      <td>-3.768997e+09</td>\n",
              "      <td>1.521467e+08</td>\n",
              "      <td>11</td>\n",
              "    </tr>\n",
              "    <tr>\n",
              "      <th>14</th>\n",
              "      <td>0.021606</td>\n",
              "      <td>0.005360</td>\n",
              "      <td>0.136907</td>\n",
              "      <td>0.007776</td>\n",
              "      <td>29</td>\n",
              "      <td>{'kNN__n_neighbors': 29}</td>\n",
              "      <td>-3.829592e+09</td>\n",
              "      <td>-3.518355e+09</td>\n",
              "      <td>-4.029256e+09</td>\n",
              "      <td>-3.954244e+09</td>\n",
              "      <td>-3.793314e+09</td>\n",
              "      <td>-3.677816e+09</td>\n",
              "      <td>-3.749268e+09</td>\n",
              "      <td>-3.594867e+09</td>\n",
              "      <td>-3.727671e+09</td>\n",
              "      <td>-3.939316e+09</td>\n",
              "      <td>-3.781370e+09</td>\n",
              "      <td>1.540602e+08</td>\n",
              "      <td>12</td>\n",
              "    </tr>\n",
              "    <tr>\n",
              "      <th>15</th>\n",
              "      <td>0.020844</td>\n",
              "      <td>0.007957</td>\n",
              "      <td>0.138715</td>\n",
              "      <td>0.007809</td>\n",
              "      <td>31</td>\n",
              "      <td>{'kNN__n_neighbors': 31}</td>\n",
              "      <td>-3.827329e+09</td>\n",
              "      <td>-3.539055e+09</td>\n",
              "      <td>-4.041301e+09</td>\n",
              "      <td>-3.963357e+09</td>\n",
              "      <td>-3.789692e+09</td>\n",
              "      <td>-3.681641e+09</td>\n",
              "      <td>-3.759428e+09</td>\n",
              "      <td>-3.607718e+09</td>\n",
              "      <td>-3.751903e+09</td>\n",
              "      <td>-3.952958e+09</td>\n",
              "      <td>-3.791438e+09</td>\n",
              "      <td>1.521384e+08</td>\n",
              "      <td>14</td>\n",
              "    </tr>\n",
              "    <tr>\n",
              "      <th>16</th>\n",
              "      <td>0.021181</td>\n",
              "      <td>0.008194</td>\n",
              "      <td>0.141820</td>\n",
              "      <td>0.011391</td>\n",
              "      <td>33</td>\n",
              "      <td>{'kNN__n_neighbors': 33}</td>\n",
              "      <td>-3.848395e+09</td>\n",
              "      <td>-3.539261e+09</td>\n",
              "      <td>-4.061646e+09</td>\n",
              "      <td>-3.972883e+09</td>\n",
              "      <td>-3.812567e+09</td>\n",
              "      <td>-3.712496e+09</td>\n",
              "      <td>-3.767645e+09</td>\n",
              "      <td>-3.626299e+09</td>\n",
              "      <td>-3.771544e+09</td>\n",
              "      <td>-3.963927e+09</td>\n",
              "      <td>-3.807666e+09</td>\n",
              "      <td>1.532324e+08</td>\n",
              "      <td>15</td>\n",
              "    </tr>\n",
              "    <tr>\n",
              "      <th>17</th>\n",
              "      <td>0.021952</td>\n",
              "      <td>0.007529</td>\n",
              "      <td>0.145180</td>\n",
              "      <td>0.016457</td>\n",
              "      <td>35</td>\n",
              "      <td>{'kNN__n_neighbors': 35}</td>\n",
              "      <td>-3.859107e+09</td>\n",
              "      <td>-3.557184e+09</td>\n",
              "      <td>-4.058716e+09</td>\n",
              "      <td>-3.990260e+09</td>\n",
              "      <td>-3.828396e+09</td>\n",
              "      <td>-3.734090e+09</td>\n",
              "      <td>-3.776356e+09</td>\n",
              "      <td>-3.651558e+09</td>\n",
              "      <td>-3.776172e+09</td>\n",
              "      <td>-3.963811e+09</td>\n",
              "      <td>-3.819565e+09</td>\n",
              "      <td>1.472767e+08</td>\n",
              "      <td>16</td>\n",
              "    </tr>\n",
              "    <tr>\n",
              "      <th>18</th>\n",
              "      <td>0.023693</td>\n",
              "      <td>0.007083</td>\n",
              "      <td>0.147725</td>\n",
              "      <td>0.009337</td>\n",
              "      <td>37</td>\n",
              "      <td>{'kNN__n_neighbors': 37}</td>\n",
              "      <td>-3.872821e+09</td>\n",
              "      <td>-3.572458e+09</td>\n",
              "      <td>-4.077862e+09</td>\n",
              "      <td>-4.008018e+09</td>\n",
              "      <td>-3.845908e+09</td>\n",
              "      <td>-3.754856e+09</td>\n",
              "      <td>-3.790140e+09</td>\n",
              "      <td>-3.645062e+09</td>\n",
              "      <td>-3.789359e+09</td>\n",
              "      <td>-3.983347e+09</td>\n",
              "      <td>-3.833983e+09</td>\n",
              "      <td>1.509922e+08</td>\n",
              "      <td>17</td>\n",
              "    </tr>\n",
              "    <tr>\n",
              "      <th>19</th>\n",
              "      <td>0.022857</td>\n",
              "      <td>0.007024</td>\n",
              "      <td>0.153966</td>\n",
              "      <td>0.011094</td>\n",
              "      <td>39</td>\n",
              "      <td>{'kNN__n_neighbors': 39}</td>\n",
              "      <td>-3.904504e+09</td>\n",
              "      <td>-3.604067e+09</td>\n",
              "      <td>-4.083593e+09</td>\n",
              "      <td>-4.031735e+09</td>\n",
              "      <td>-3.850445e+09</td>\n",
              "      <td>-3.757993e+09</td>\n",
              "      <td>-3.791675e+09</td>\n",
              "      <td>-3.665275e+09</td>\n",
              "      <td>-3.816504e+09</td>\n",
              "      <td>-4.012536e+09</td>\n",
              "      <td>-3.851833e+09</td>\n",
              "      <td>1.498480e+08</td>\n",
              "      <td>18</td>\n",
              "    </tr>\n",
              "    <tr>\n",
              "      <th>20</th>\n",
              "      <td>0.023087</td>\n",
              "      <td>0.010032</td>\n",
              "      <td>0.153351</td>\n",
              "      <td>0.006865</td>\n",
              "      <td>41</td>\n",
              "      <td>{'kNN__n_neighbors': 41}</td>\n",
              "      <td>-3.913062e+09</td>\n",
              "      <td>-3.614474e+09</td>\n",
              "      <td>-4.096338e+09</td>\n",
              "      <td>-4.044099e+09</td>\n",
              "      <td>-3.853510e+09</td>\n",
              "      <td>-3.780163e+09</td>\n",
              "      <td>-3.805088e+09</td>\n",
              "      <td>-3.677655e+09</td>\n",
              "      <td>-3.830879e+09</td>\n",
              "      <td>-4.028404e+09</td>\n",
              "      <td>-3.864367e+09</td>\n",
              "      <td>1.498484e+08</td>\n",
              "      <td>19</td>\n",
              "    </tr>\n",
              "    <tr>\n",
              "      <th>21</th>\n",
              "      <td>0.022417</td>\n",
              "      <td>0.005560</td>\n",
              "      <td>0.158021</td>\n",
              "      <td>0.014594</td>\n",
              "      <td>43</td>\n",
              "      <td>{'kNN__n_neighbors': 43}</td>\n",
              "      <td>-3.929254e+09</td>\n",
              "      <td>-3.628965e+09</td>\n",
              "      <td>-4.113051e+09</td>\n",
              "      <td>-4.057895e+09</td>\n",
              "      <td>-3.872528e+09</td>\n",
              "      <td>-3.785906e+09</td>\n",
              "      <td>-3.806014e+09</td>\n",
              "      <td>-3.696740e+09</td>\n",
              "      <td>-3.863462e+09</td>\n",
              "      <td>-4.045267e+09</td>\n",
              "      <td>-3.879908e+09</td>\n",
              "      <td>1.506515e+08</td>\n",
              "      <td>20</td>\n",
              "    </tr>\n",
              "    <tr>\n",
              "      <th>22</th>\n",
              "      <td>0.018629</td>\n",
              "      <td>0.006200</td>\n",
              "      <td>0.160556</td>\n",
              "      <td>0.009154</td>\n",
              "      <td>45</td>\n",
              "      <td>{'kNN__n_neighbors': 45}</td>\n",
              "      <td>-3.939336e+09</td>\n",
              "      <td>-3.637417e+09</td>\n",
              "      <td>-4.137081e+09</td>\n",
              "      <td>-4.077656e+09</td>\n",
              "      <td>-3.880022e+09</td>\n",
              "      <td>-3.796352e+09</td>\n",
              "      <td>-3.820749e+09</td>\n",
              "      <td>-3.708930e+09</td>\n",
              "      <td>-3.880788e+09</td>\n",
              "      <td>-4.057736e+09</td>\n",
              "      <td>-3.893607e+09</td>\n",
              "      <td>1.539602e+08</td>\n",
              "      <td>21</td>\n",
              "    </tr>\n",
              "    <tr>\n",
              "      <th>23</th>\n",
              "      <td>0.023269</td>\n",
              "      <td>0.007682</td>\n",
              "      <td>0.160473</td>\n",
              "      <td>0.006484</td>\n",
              "      <td>47</td>\n",
              "      <td>{'kNN__n_neighbors': 47}</td>\n",
              "      <td>-3.955663e+09</td>\n",
              "      <td>-3.642613e+09</td>\n",
              "      <td>-4.161677e+09</td>\n",
              "      <td>-4.079527e+09</td>\n",
              "      <td>-3.887759e+09</td>\n",
              "      <td>-3.799436e+09</td>\n",
              "      <td>-3.841067e+09</td>\n",
              "      <td>-3.718205e+09</td>\n",
              "      <td>-3.906839e+09</td>\n",
              "      <td>-4.066175e+09</td>\n",
              "      <td>-3.905896e+09</td>\n",
              "      <td>1.562530e+08</td>\n",
              "      <td>22</td>\n",
              "    </tr>\n",
              "  </tbody>\n",
              "</table>\n",
              "</div>"
            ],
            "text/plain": [
              "    mean_fit_time  std_fit_time  mean_score_time  std_score_time  \\\n",
              "0        0.020920      0.006179         0.054475        0.006488   \n",
              "1        0.019497      0.006327         0.070198        0.007268   \n",
              "2        0.020842      0.005783         0.083581        0.005625   \n",
              "3        0.024045      0.008194         0.097357        0.010780   \n",
              "4        0.023203      0.005863         0.103262        0.009432   \n",
              "5        0.027303      0.006302         0.107106        0.021744   \n",
              "6        0.018148      0.004651         0.105463        0.007324   \n",
              "7        0.022970      0.007305         0.110001        0.011864   \n",
              "8        0.021498      0.006548         0.111915        0.006216   \n",
              "9        0.025550      0.007519         0.116989        0.007925   \n",
              "10       0.017876      0.005922         0.121846        0.006114   \n",
              "11       0.019348      0.006001         0.125180        0.011086   \n",
              "12       0.021573      0.007073         0.129846        0.010812   \n",
              "13       0.025218      0.007150         0.128626        0.007005   \n",
              "14       0.021606      0.005360         0.136907        0.007776   \n",
              "15       0.020844      0.007957         0.138715        0.007809   \n",
              "16       0.021181      0.008194         0.141820        0.011391   \n",
              "17       0.021952      0.007529         0.145180        0.016457   \n",
              "18       0.023693      0.007083         0.147725        0.009337   \n",
              "19       0.022857      0.007024         0.153966        0.011094   \n",
              "20       0.023087      0.010032         0.153351        0.006865   \n",
              "21       0.022417      0.005560         0.158021        0.014594   \n",
              "22       0.018629      0.006200         0.160556        0.009154   \n",
              "23       0.023269      0.007682         0.160473        0.006484   \n",
              "\n",
              "   param_kNN__n_neighbors                    params  split0_test_score  \\\n",
              "0                       1   {'kNN__n_neighbors': 1}      -5.867118e+09   \n",
              "1                       3   {'kNN__n_neighbors': 3}      -4.190561e+09   \n",
              "2                       5   {'kNN__n_neighbors': 5}      -3.829049e+09   \n",
              "3                       7   {'kNN__n_neighbors': 7}      -3.789373e+09   \n",
              "4                       9   {'kNN__n_neighbors': 9}      -3.733033e+09   \n",
              "5                      11  {'kNN__n_neighbors': 11}      -3.734255e+09   \n",
              "6                      13  {'kNN__n_neighbors': 13}      -3.738204e+09   \n",
              "7                      15  {'kNN__n_neighbors': 15}      -3.736233e+09   \n",
              "8                      17  {'kNN__n_neighbors': 17}      -3.754528e+09   \n",
              "9                      19  {'kNN__n_neighbors': 19}      -3.780239e+09   \n",
              "10                     21  {'kNN__n_neighbors': 21}      -3.811535e+09   \n",
              "11                     23  {'kNN__n_neighbors': 23}      -3.822516e+09   \n",
              "12                     25  {'kNN__n_neighbors': 25}      -3.821264e+09   \n",
              "13                     27  {'kNN__n_neighbors': 27}      -3.814075e+09   \n",
              "14                     29  {'kNN__n_neighbors': 29}      -3.829592e+09   \n",
              "15                     31  {'kNN__n_neighbors': 31}      -3.827329e+09   \n",
              "16                     33  {'kNN__n_neighbors': 33}      -3.848395e+09   \n",
              "17                     35  {'kNN__n_neighbors': 35}      -3.859107e+09   \n",
              "18                     37  {'kNN__n_neighbors': 37}      -3.872821e+09   \n",
              "19                     39  {'kNN__n_neighbors': 39}      -3.904504e+09   \n",
              "20                     41  {'kNN__n_neighbors': 41}      -3.913062e+09   \n",
              "21                     43  {'kNN__n_neighbors': 43}      -3.929254e+09   \n",
              "22                     45  {'kNN__n_neighbors': 45}      -3.939336e+09   \n",
              "23                     47  {'kNN__n_neighbors': 47}      -3.955663e+09   \n",
              "\n",
              "    split1_test_score  split2_test_score  split3_test_score  \\\n",
              "0       -5.393009e+09      -5.964867e+09      -6.433410e+09   \n",
              "1       -3.962058e+09      -4.218548e+09      -4.178971e+09   \n",
              "2       -3.631132e+09      -3.957117e+09      -3.962824e+09   \n",
              "3       -3.530546e+09      -3.848485e+09      -3.841699e+09   \n",
              "4       -3.482355e+09      -3.836875e+09      -3.826706e+09   \n",
              "5       -3.480820e+09      -3.877832e+09      -3.842398e+09   \n",
              "6       -3.483995e+09      -3.874774e+09      -3.840426e+09   \n",
              "7       -3.452941e+09      -3.883904e+09      -3.844169e+09   \n",
              "8       -3.447835e+09      -3.906119e+09      -3.873811e+09   \n",
              "9       -3.483090e+09      -3.937000e+09      -3.883691e+09   \n",
              "10      -3.487525e+09      -3.927873e+09      -3.896388e+09   \n",
              "11      -3.499951e+09      -3.948116e+09      -3.919258e+09   \n",
              "12      -3.517003e+09      -3.979082e+09      -3.927355e+09   \n",
              "13      -3.514835e+09      -4.006647e+09      -3.952612e+09   \n",
              "14      -3.518355e+09      -4.029256e+09      -3.954244e+09   \n",
              "15      -3.539055e+09      -4.041301e+09      -3.963357e+09   \n",
              "16      -3.539261e+09      -4.061646e+09      -3.972883e+09   \n",
              "17      -3.557184e+09      -4.058716e+09      -3.990260e+09   \n",
              "18      -3.572458e+09      -4.077862e+09      -4.008018e+09   \n",
              "19      -3.604067e+09      -4.083593e+09      -4.031735e+09   \n",
              "20      -3.614474e+09      -4.096338e+09      -4.044099e+09   \n",
              "21      -3.628965e+09      -4.113051e+09      -4.057895e+09   \n",
              "22      -3.637417e+09      -4.137081e+09      -4.077656e+09   \n",
              "23      -3.642613e+09      -4.161677e+09      -4.079527e+09   \n",
              "\n",
              "    split4_test_score  split5_test_score  split6_test_score  \\\n",
              "0       -5.472311e+09      -5.486419e+09      -5.665255e+09   \n",
              "1       -4.147111e+09      -3.934364e+09      -4.047449e+09   \n",
              "2       -3.847953e+09      -3.676656e+09      -3.832066e+09   \n",
              "3       -3.763143e+09      -3.656992e+09      -3.706978e+09   \n",
              "4       -3.712384e+09      -3.623981e+09      -3.678720e+09   \n",
              "5       -3.728839e+09      -3.612781e+09      -3.676319e+09   \n",
              "6       -3.719008e+09      -3.596485e+09      -3.685959e+09   \n",
              "7       -3.743345e+09      -3.625596e+09      -3.661183e+09   \n",
              "8       -3.758294e+09      -3.655998e+09      -3.674959e+09   \n",
              "9       -3.750376e+09      -3.668015e+09      -3.668185e+09   \n",
              "10      -3.762893e+09      -3.659563e+09      -3.706480e+09   \n",
              "11      -3.745151e+09      -3.670571e+09      -3.702712e+09   \n",
              "12      -3.757223e+09      -3.665158e+09      -3.720298e+09   \n",
              "13      -3.763814e+09      -3.676985e+09      -3.739013e+09   \n",
              "14      -3.793314e+09      -3.677816e+09      -3.749268e+09   \n",
              "15      -3.789692e+09      -3.681641e+09      -3.759428e+09   \n",
              "16      -3.812567e+09      -3.712496e+09      -3.767645e+09   \n",
              "17      -3.828396e+09      -3.734090e+09      -3.776356e+09   \n",
              "18      -3.845908e+09      -3.754856e+09      -3.790140e+09   \n",
              "19      -3.850445e+09      -3.757993e+09      -3.791675e+09   \n",
              "20      -3.853510e+09      -3.780163e+09      -3.805088e+09   \n",
              "21      -3.872528e+09      -3.785906e+09      -3.806014e+09   \n",
              "22      -3.880022e+09      -3.796352e+09      -3.820749e+09   \n",
              "23      -3.887759e+09      -3.799436e+09      -3.841067e+09   \n",
              "\n",
              "    split7_test_score  split8_test_score  split9_test_score  mean_test_score  \\\n",
              "0       -5.146922e+09      -6.060335e+09      -5.771927e+09    -5.726157e+09   \n",
              "1       -3.811258e+09      -4.016145e+09      -4.162982e+09    -4.066945e+09   \n",
              "2       -3.563683e+09      -3.682728e+09      -3.843569e+09    -3.782678e+09   \n",
              "3       -3.478151e+09      -3.647897e+09      -3.764427e+09    -3.702769e+09   \n",
              "4       -3.450836e+09      -3.640092e+09      -3.766023e+09    -3.675101e+09   \n",
              "5       -3.424723e+09      -3.638664e+09      -3.807548e+09    -3.682418e+09   \n",
              "6       -3.470852e+09      -3.620689e+09      -3.834593e+09    -3.686499e+09   \n",
              "7       -3.491728e+09      -3.638024e+09      -3.862512e+09    -3.693963e+09   \n",
              "8       -3.479758e+09      -3.663547e+09      -3.876297e+09    -3.709115e+09   \n",
              "9       -3.474520e+09      -3.695451e+09      -3.856384e+09    -3.719695e+09   \n",
              "10      -3.480807e+09      -3.694691e+09      -3.863153e+09    -3.729091e+09   \n",
              "11      -3.515418e+09      -3.709512e+09      -3.893960e+09    -3.742716e+09   \n",
              "12      -3.549575e+09      -3.726293e+09      -3.898996e+09    -3.756225e+09   \n",
              "13      -3.573838e+09      -3.721322e+09      -3.926830e+09    -3.768997e+09   \n",
              "14      -3.594867e+09      -3.727671e+09      -3.939316e+09    -3.781370e+09   \n",
              "15      -3.607718e+09      -3.751903e+09      -3.952958e+09    -3.791438e+09   \n",
              "16      -3.626299e+09      -3.771544e+09      -3.963927e+09    -3.807666e+09   \n",
              "17      -3.651558e+09      -3.776172e+09      -3.963811e+09    -3.819565e+09   \n",
              "18      -3.645062e+09      -3.789359e+09      -3.983347e+09    -3.833983e+09   \n",
              "19      -3.665275e+09      -3.816504e+09      -4.012536e+09    -3.851833e+09   \n",
              "20      -3.677655e+09      -3.830879e+09      -4.028404e+09    -3.864367e+09   \n",
              "21      -3.696740e+09      -3.863462e+09      -4.045267e+09    -3.879908e+09   \n",
              "22      -3.708930e+09      -3.880788e+09      -4.057736e+09    -3.893607e+09   \n",
              "23      -3.718205e+09      -3.906839e+09      -4.066175e+09    -3.905896e+09   \n",
              "\n",
              "    std_test_score  rank_test_score  \n",
              "0     3.553802e+08               24  \n",
              "1     1.278198e+08               23  \n",
              "2     1.294585e+08               13  \n",
              "3     1.186254e+08                5  \n",
              "4     1.238812e+08                1  \n",
              "5     1.407583e+08                2  \n",
              "6     1.359221e+08                3  \n",
              "7     1.411176e+08                4  \n",
              "8     1.501008e+08                6  \n",
              "9     1.481256e+08                7  \n",
              "10    1.483046e+08                8  \n",
              "11    1.486984e+08                9  \n",
              "12    1.462794e+08               10  \n",
              "13    1.521467e+08               11  \n",
              "14    1.540602e+08               12  \n",
              "15    1.521384e+08               14  \n",
              "16    1.532324e+08               15  \n",
              "17    1.472767e+08               16  \n",
              "18    1.509922e+08               17  \n",
              "19    1.498480e+08               18  \n",
              "20    1.498484e+08               19  \n",
              "21    1.506515e+08               20  \n",
              "22    1.539602e+08               21  \n",
              "23    1.562530e+08               22  "
            ]
          },
          "execution_count": 52,
          "metadata": {},
          "output_type": "execute_result"
        }
      ],
      "source": [
        "# resCV is a dictionary .. fit time is 10 (use mean_test_score and std_test_score)\n",
        "pd.DataFrame(resCV)\n",
        "\n",
        "# mean_test_score: The mean accuracy score of the KNN classifier on the test data for a particular combination of hyperparameters.\n",
        "#  mean_train_score: The mean accuracy score of the KNN classifier on the training data for a particular combination of hyperparameters.\n",
        "#   std_test_score: The standard deviation of the accuracy score of the KNN classifier on the test data for a particular combination of hyperparameters.\n",
        "#    std_train_score: The standard deviation of the accuracy score of the KNN classifier on the training data for a particular combination of hyperparameters.\n",
        "#     params: A dictionary of the hyperparameters used for that particular combination."
      ]
    },
    {
      "cell_type": "code",
      "execution_count": 53,
      "metadata": {
        "ExecuteTime": {
          "end_time": "2021-03-11T17:44:16.786264Z",
          "start_time": "2021-03-11T17:44:16.773155Z"
        },
        "id": "CgZnjcJUwOqI"
      },
      "outputs": [],
      "source": [
        "# Compute best k based on one std error rule (another way):\n",
        "one_std_rule_best_k = np.max(k_grid[test_MSEs <= test_MSEs[index_best] + std_test_MSEs[index_best]])"
      ]
    },
    {
      "cell_type": "code",
      "execution_count": 54,
      "metadata": {
        "ExecuteTime": {
          "end_time": "2021-03-11T17:44:17.180534Z",
          "start_time": "2021-03-11T17:44:16.789396Z"
        },
        "id": "U9R4n5VywOqI",
        "outputId": "aae08462-84e5-4c16-91b1-74b8ae2e666b"
      },
      "outputs": [
        {
          "data": {
            "image/png": "[encoded data removed]",
            "text/plain": [
              "<Figure size 1000x600 with 1 Axes>"
            ]
          },
          "metadata": {},
          "output_type": "display_data"
        }
      ],
      "source": [
        "#Plot the grid-search results:\n",
        "plt.figure(figsize = (10,6)) # Figure dimensions\n",
        "plt.errorbar(x = k_grid, y = test_MSEs, yerr = std_test_MSEs, fmt = 'o', capsize = 3)\n",
        "# yerr: Parameter specifies the size of the error bars.\n",
        "# fmt: Specifies that the data points should be plotted as dots.\n",
        "# capsize: Length of the error bar caps in points.\n",
        "\n",
        "plt.axvline(best_k, ls = 'dotted', color = \"grey\") # Vertical line at the k yielding minimum CV MSE\n",
        "plt.axvline(one_std_rule_best_k, ls = 'dotted', color = \"grey\") # Vertical line at best k value according to 1 std err rule\n",
        "\n",
        "plt.title(\"$k$-NN Regressor CV Error\")  # Label the plot with a title\n",
        "plt.xlabel('$k$ (Number of Neighbors)') # Label the x-axis\n",
        "plt.ylabel('Mean Squared Error') # Label the y-axis\n",
        "plt.show()"
      ]
    },
    {
      "cell_type": "code",
      "execution_count": 55,
      "metadata": {
        "ExecuteTime": {
          "end_time": "2021-03-11T17:44:17.352097Z",
          "start_time": "2021-03-11T17:44:17.183787Z"
        },
        "id": "aAZAtXbRwOqJ",
        "outputId": "6cf4e76a-7374-4755-cad3-39ee094f88a2"
      },
      "outputs": [
        {
          "data": {
            "text/html": [
              "<style>#sk-container-id-6 {color: black;}#sk-container-id-6 pre{padding: 0;}#sk-container-id-6 div.sk-toggleable {background-color: white;}#sk-container-id-6 label.sk-toggleable__label {cursor: pointer;display: block;width: 100%;margin-bottom: 0;padding: 0.3em;box-sizing: border-box;text-align: center;}#sk-container-id-6 label.sk-toggleable__label-arrow:before {content: \"▸\";float: left;margin-right: 0.25em;color: #696969;}#sk-container-id-6 label.sk-toggleable__label-arrow:hover:before {color: black;}#sk-container-id-6 div.sk-estimator:hover label.sk-toggleable__label-arrow:before {color: black;}#sk-container-id-6 div.sk-toggleable__content {max-height: 0;max-width: 0;overflow: hidden;text-align: left;background-color: #f0f8ff;}#sk-container-id-6 div.sk-toggleable__content pre {margin: 0.2em;color: black;border-radius: 0.25em;background-color: #f0f8ff;}#sk-container-id-6 input.sk-toggleable__control:checked~div.sk-toggleable__content {max-height: 200px;max-width: 100%;overflow: auto;}#sk-container-id-6 input.sk-toggleable__control:checked~label.sk-toggleable__label-arrow:before {content: \"▾\";}#sk-container-id-6 div.sk-estimator input.sk-toggleable__control:checked~label.sk-toggleable__label {background-color: #d4ebff;}#sk-container-id-6 div.sk-label input.sk-toggleable__control:checked~label.sk-toggleable__label {background-color: #d4ebff;}#sk-container-id-6 input.sk-hidden--visually {border: 0;clip: rect(1px 1px 1px 1px);clip: rect(1px, 1px, 1px, 1px);height: 1px;margin: -1px;overflow: hidden;padding: 0;position: absolute;width: 1px;}#sk-container-id-6 div.sk-estimator {font-family: monospace;background-color: #f0f8ff;border: 1px dotted black;border-radius: 0.25em;box-sizing: border-box;margin-bottom: 0.5em;}#sk-container-id-6 div.sk-estimator:hover {background-color: #d4ebff;}#sk-container-id-6 div.sk-parallel-item::after {content: \"\";width: 100%;border-bottom: 1px solid gray;flex-grow: 1;}#sk-container-id-6 div.sk-label:hover label.sk-toggleable__label {background-color: #d4ebff;}#sk-container-id-6 div.sk-serial::before {content: \"\";position: absolute;border-left: 1px solid gray;box-sizing: border-box;top: 0;bottom: 0;left: 50%;z-index: 0;}#sk-container-id-6 div.sk-serial {display: flex;flex-direction: column;align-items: center;background-color: white;padding-right: 0.2em;padding-left: 0.2em;position: relative;}#sk-container-id-6 div.sk-item {position: relative;z-index: 1;}#sk-container-id-6 div.sk-parallel {display: flex;align-items: stretch;justify-content: center;background-color: white;position: relative;}#sk-container-id-6 div.sk-item::before, #sk-container-id-6 div.sk-parallel-item::before {content: \"\";position: absolute;border-left: 1px solid gray;box-sizing: border-box;top: 0;bottom: 0;left: 50%;z-index: -1;}#sk-container-id-6 div.sk-parallel-item {display: flex;flex-direction: column;z-index: 1;position: relative;background-color: white;}#sk-container-id-6 div.sk-parallel-item:first-child::after {align-self: flex-end;width: 50%;}#sk-container-id-6 div.sk-parallel-item:last-child::after {align-self: flex-start;width: 50%;}#sk-container-id-6 div.sk-parallel-item:only-child::after {width: 0;}#sk-container-id-6 div.sk-dashed-wrapped {border: 1px dashed gray;margin: 0 0.4em 0.5em 0.4em;box-sizing: border-box;padding-bottom: 0.4em;background-color: white;}#sk-container-id-6 div.sk-label label {font-family: monospace;font-weight: bold;display: inline-block;line-height: 1.2em;}#sk-container-id-6 div.sk-label-container {text-align: center;}#sk-container-id-6 div.sk-container {/* jupyter's `normalize.less` sets `[hidden] { display: none; }` but bootstrap.min.css set `[hidden] { display: none !important; }` so we also need the `!important` here to be able to override the default hidden behavior on the sphinx rendered scikit-learn.org. See: https://github.com/scikit-learn/scikit-learn/issues/21755 */display: inline-block !important;position: relative;}#sk-container-id-6 div.sk-text-repr-fallback {display: none;}</style><div id=\"sk-container-id-6\" class=\"sk-top-container\"><div class=\"sk-text-repr-fallback\"><pre>KNeighborsRegressor(n_neighbors=17)</pre><b>In a Jupyter environment, please rerun this cell to show the HTML representation or trust the notebook. <br />On GitHub, the HTML representation is unable to render, please try loading this page with nbviewer.org.</b></div><div class=\"sk-container\" hidden><div class=\"sk-item\"><div class=\"sk-estimator sk-toggleable\"><input class=\"sk-toggleable__control sk-hidden--visually\" id=\"sk-estimator-id-11\" type=\"checkbox\" checked><label for=\"sk-estimator-id-11\" class=\"sk-toggleable__label sk-toggleable__label-arrow\">KNeighborsRegressor</label><div class=\"sk-toggleable__content\"><pre>KNeighborsRegressor(n_neighbors=17)</pre></div></div></div></div></div>"
            ],
            "text/plain": [
              "KNeighborsRegressor(n_neighbors=17)"
            ]
          },
          "execution_count": 55,
          "metadata": {},
          "output_type": "execute_result"
        }
      ],
      "source": [
        "#Fit the final model:\n",
        "pipe_knn_final = KNeighborsRegressor(n_neighbors=one_std_rule_best_k) # Create an instance and set the parameter to one_std_rule_best_k in this supervised ML algorithm for regression tasks\n",
        "pipe_knn_final.fit(X, y) # Estimator that will be used on new data"
      ]
    }
  ],
  "metadata": {
    "colab": {
      "provenance": []
    },
    "kernelspec": {
      "display_name": "Python 3 (ipykernel)",
      "language": "python",
      "name": "python3"
    },
    "language_info": {
      "codemirror_mode": {
        "name": "ipython",
        "version": 3
      },
      "file_extension": ".py",
      "mimetype": "text/x-python",
      "name": "python",
      "nbconvert_exporter": "python",
      "pygments_lexer": "ipython3",
      "version": "3.11.6"
    },
    "toc": {
      "base_numbering": 1,
      "nav_menu": {},
      "number_sections": false,
      "sideBar": true,
      "skip_h1_title": true,
      "title_cell": "Table of Contents",
      "title_sidebar": "Contents",
      "toc_cell": false,
      "toc_position": {
        "height": "calc(100% - 180px)",
        "left": "10px",
        "top": "150px",
        "width": "216px"
      },
      "toc_section_display": true,
      "toc_window_display": true
    },
    "varInspector": {
      "cols": {
        "lenName": 16,
        "lenType": 16,
        "lenVar": 40
      },
      "kernels_config": {
        "python": {
          "delete_cmd_postfix": "",
          "delete_cmd_prefix": "del ",
          "library": "var_list.py",
          "varRefreshCmd": "print(var_dic_list())"
        },
        "r": {
          "delete_cmd_postfix": ") ",
          "delete_cmd_prefix": "rm(",
          "library": "var_list.r",
          "varRefreshCmd": "cat(var_dic_list()) "
        }
      },
      "types_to_exclude": [
        "module",
        "function",
        "builtin_function_or_method",
        "instance",
        "_Feature"
      ],
      "window_display": false
    }
  },
  "nbformat": 4,
  "nbformat_minor": 0
}
