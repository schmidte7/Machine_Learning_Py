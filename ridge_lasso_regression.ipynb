{
  "cells": [
    {
      "cell_type": "markdown",
      "metadata": {
        "id": "hBTdAh88wklK"
      },
      "source": [
        "# Ridge and Lasso Regression"
      ]
    },
    {
      "cell_type": "markdown",
      "metadata": {},
      "source": [
        "**Objective**\n",
        "\n",
        "Fit, predict, and cross-validate these two models."
      ]
    },
    {
      "cell_type": "markdown",
      "metadata": {
        "id": "1kHwxTWrwklO"
      },
      "source": [
        "#### 1) Load Data and Create Test Set"
      ]
    },
    {
      "cell_type": "code",
      "execution_count": 1,
      "metadata": {
        "id": "W1g2j4rSwklP"
      },
      "outputs": [],
      "source": [
        "import matplotlib.pyplot as plt\n",
        "import numpy as np\n",
        "import pandas as pd"
      ]
    },
    {
      "cell_type": "code",
      "execution_count": 2,
      "metadata": {
        "ExecuteTime": {
          "end_time": "2021-03-11T17:40:07.020276Z",
          "start_time": "2021-03-11T17:40:05.837658Z"
        },
        "id": "WwUBHNzxwklQ",
        "outputId": "de43aefd-e79f-40fb-940b-39e7e2ee1176"
      },
      "outputs": [
        {
          "data": {
            "text/html": [
              "<div>\n",
              "<style scoped>\n",
              "    .dataframe tbody tr th:only-of-type {\n",
              "        vertical-align: middle;\n",
              "    }\n",
              "\n",
              "    .dataframe tbody tr th {\n",
              "        vertical-align: top;\n",
              "    }\n",
              "\n",
              "    .dataframe thead th {\n",
              "        text-align: right;\n",
              "    }\n",
              "</style>\n",
              "<table border=\"1\" class=\"dataframe\">\n",
              "  <thead>\n",
              "    <tr style=\"text-align: right;\">\n",
              "      <th></th>\n",
              "      <th>median_house_value</th>\n",
              "      <th>ocean_proximity_enc</th>\n",
              "      <th>longitude</th>\n",
              "      <th>latitude</th>\n",
              "      <th>housing_median_age</th>\n",
              "      <th>median_income</th>\n",
              "      <th>rooms_per_bedroom</th>\n",
              "      <th>rooms_per_household</th>\n",
              "      <th>people_per_household</th>\n",
              "      <th>X1</th>\n",
              "      <th>X2</th>\n",
              "    </tr>\n",
              "  </thead>\n",
              "  <tbody>\n",
              "    <tr>\n",
              "      <th>0</th>\n",
              "      <td>452600</td>\n",
              "      <td>3</td>\n",
              "      <td>-122.23</td>\n",
              "      <td>37.88</td>\n",
              "      <td>41</td>\n",
              "      <td>8.3252</td>\n",
              "      <td>6.821705</td>\n",
              "      <td>6.984127</td>\n",
              "      <td>2.555556</td>\n",
              "      <td>4.407574</td>\n",
              "      <td>3.681418</td>\n",
              "    </tr>\n",
              "    <tr>\n",
              "      <th>1</th>\n",
              "      <td>358500</td>\n",
              "      <td>3</td>\n",
              "      <td>-122.22</td>\n",
              "      <td>37.86</td>\n",
              "      <td>21</td>\n",
              "      <td>8.3014</td>\n",
              "      <td>6.418626</td>\n",
              "      <td>6.238137</td>\n",
              "      <td>2.109842</td>\n",
              "      <td>6.973484</td>\n",
              "      <td>7.630216</td>\n",
              "    </tr>\n",
              "    <tr>\n",
              "      <th>2</th>\n",
              "      <td>352100</td>\n",
              "      <td>3</td>\n",
              "      <td>-122.24</td>\n",
              "      <td>37.85</td>\n",
              "      <td>52</td>\n",
              "      <td>7.2574</td>\n",
              "      <td>7.721053</td>\n",
              "      <td>8.288136</td>\n",
              "      <td>2.802260</td>\n",
              "      <td>9.889935</td>\n",
              "      <td>-0.932354</td>\n",
              "    </tr>\n",
              "    <tr>\n",
              "      <th>3</th>\n",
              "      <td>341300</td>\n",
              "      <td>3</td>\n",
              "      <td>-122.25</td>\n",
              "      <td>37.85</td>\n",
              "      <td>52</td>\n",
              "      <td>5.6431</td>\n",
              "      <td>5.421277</td>\n",
              "      <td>5.817352</td>\n",
              "      <td>2.547945</td>\n",
              "      <td>0.729881</td>\n",
              "      <td>6.846393</td>\n",
              "    </tr>\n",
              "    <tr>\n",
              "      <th>4</th>\n",
              "      <td>342200</td>\n",
              "      <td>3</td>\n",
              "      <td>-122.25</td>\n",
              "      <td>37.85</td>\n",
              "      <td>52</td>\n",
              "      <td>3.8462</td>\n",
              "      <td>5.810714</td>\n",
              "      <td>6.281853</td>\n",
              "      <td>2.181467</td>\n",
              "      <td>6.668964</td>\n",
              "      <td>3.878034</td>\n",
              "    </tr>\n",
              "  </tbody>\n",
              "</table>\n",
              "</div>"
            ],
            "text/plain": [
              "   median_house_value  ocean_proximity_enc  longitude  latitude  \\\n",
              "0              452600                    3    -122.23     37.88   \n",
              "1              358500                    3    -122.22     37.86   \n",
              "2              352100                    3    -122.24     37.85   \n",
              "3              341300                    3    -122.25     37.85   \n",
              "4              342200                    3    -122.25     37.85   \n",
              "\n",
              "   housing_median_age  median_income  rooms_per_bedroom  rooms_per_household  \\\n",
              "0                  41         8.3252           6.821705             6.984127   \n",
              "1                  21         8.3014           6.418626             6.238137   \n",
              "2                  52         7.2574           7.721053             8.288136   \n",
              "3                  52         5.6431           5.421277             5.817352   \n",
              "4                  52         3.8462           5.810714             6.281853   \n",
              "\n",
              "   people_per_household        X1        X2  \n",
              "0              2.555556  4.407574  3.681418  \n",
              "1              2.109842  6.973484  7.630216  \n",
              "2              2.802260  9.889935 -0.932354  \n",
              "3              2.547945  0.729881  6.846393  \n",
              "4              2.181467  6.668964  3.878034  "
            ]
          },
          "execution_count": 2,
          "metadata": {},
          "output_type": "execute_result"
        }
      ],
      "source": [
        "housing = pd.read_csv(\"housing_clean_with_X1X2.csv\") # Read in the data, csv\n",
        "housing.head(5) # Display the first # of rows of the DataFrame"
      ]
    },
    {
      "cell_type": "code",
      "execution_count": 3,
      "metadata": {
        "id": "_qWIuRw8wklQ",
        "outputId": "3eef3036-1724-4a32-a06a-fabc801d9c98"
      },
      "outputs": [
        {
          "name": "stdout",
          "output_type": "stream",
          "text": [
            "<class 'pandas.core.frame.DataFrame'>\n",
            "RangeIndex: 20417 entries, 0 to 20416\n",
            "Data columns (total 11 columns):\n",
            " #   Column                Non-Null Count  Dtype  \n",
            "---  ------                --------------  -----  \n",
            " 0   median_house_value    20417 non-null  int64  \n",
            " 1   ocean_proximity_enc   20417 non-null  int64  \n",
            " 2   longitude             20417 non-null  float64\n",
            " 3   latitude              20417 non-null  float64\n",
            " 4   housing_median_age    20417 non-null  int64  \n",
            " 5   median_income         20417 non-null  float64\n",
            " 6   rooms_per_bedroom     20417 non-null  float64\n",
            " 7   rooms_per_household   20417 non-null  float64\n",
            " 8   people_per_household  20417 non-null  float64\n",
            " 9   X1                    20417 non-null  float64\n",
            " 10  X2                    20417 non-null  float64\n",
            "dtypes: float64(8), int64(3)\n",
            "memory usage: 1.7 MB\n"
          ]
        }
      ],
      "source": [
        "housing.shape # Dimensions of Panda/NumPy type objects\n",
        "housing.info() # Prints concise summary of a DataFrame"
      ]
    },
    {
      "cell_type": "code",
      "execution_count": 4,
      "metadata": {
        "id": "nL3vjm8OwklR",
        "outputId": "39b5fd99-d151-4829-fa73-dc4b7e6b74bf"
      },
      "outputs": [
        {
          "data": {
            "text/plain": [
              "(20417, 1)"
            ]
          },
          "execution_count": 4,
          "metadata": {},
          "output_type": "execute_result"
        }
      ],
      "source": [
        "X = housing.drop([\"median_house_value\"], axis = 1) # Remove the response from the other predictor variables\n",
        "y = housing[[\"median_house_value\"]] # Only keep the response variable\n",
        "\n",
        "X.shape # Dimensions of Panda/NumPy type objects\n",
        "y.shape # Dimensions of Panda/NumPy type objects"
      ]
    },
    {
      "cell_type": "code",
      "execution_count": 5,
      "metadata": {
        "id": "2YHlKhPLwklR"
      },
      "outputs": [],
      "source": [
        "from sklearn.model_selection import train_test_split"
      ]
    },
    {
      "cell_type": "code",
      "execution_count": 6,
      "metadata": {
        "ExecuteTime": {
          "end_time": "2021-03-11T17:40:07.132428Z",
          "start_time": "2021-03-11T17:40:07.023280Z"
        },
        "id": "gfMjzxpqwklR"
      },
      "outputs": [],
      "source": [
        "X_train, X_test, y_train, y_test = train_test_split(X, y, test_size = 0.95, random_state = 12)\n",
        "# X and y are the input features (predictors) and target (response) variable separately\n",
        "#  test_size parameter is the porprotion of the data allocated in the test set\n",
        "#   random_state parameter initializes the random number generator to produce the same results each run"
      ]
    },
    {
      "cell_type": "markdown",
      "metadata": {
        "id": "dAIHDnaPwklS"
      },
      "source": [
        "#### 2) Define Models"
      ]
    },
    {
      "cell_type": "code",
      "execution_count": 7,
      "metadata": {
        "id": "NL8_w4OOwklS",
        "outputId": "2e281cfb-e4d4-4cd7-89a7-ee55436296d6"
      },
      "outputs": [
        {
          "data": {
            "text/html": [
              "<div>\n",
              "<style scoped>\n",
              "    .dataframe tbody tr th:only-of-type {\n",
              "        vertical-align: middle;\n",
              "    }\n",
              "\n",
              "    .dataframe tbody tr th {\n",
              "        vertical-align: top;\n",
              "    }\n",
              "\n",
              "    .dataframe thead th {\n",
              "        text-align: right;\n",
              "    }\n",
              "</style>\n",
              "<table border=\"1\" class=\"dataframe\">\n",
              "  <thead>\n",
              "    <tr style=\"text-align: right;\">\n",
              "      <th></th>\n",
              "      <th>median_house_value</th>\n",
              "      <th>ocean_proximity_enc</th>\n",
              "      <th>longitude</th>\n",
              "      <th>latitude</th>\n",
              "      <th>housing_median_age</th>\n",
              "      <th>median_income</th>\n",
              "      <th>rooms_per_bedroom</th>\n",
              "      <th>rooms_per_household</th>\n",
              "      <th>people_per_household</th>\n",
              "      <th>X1</th>\n",
              "      <th>X2</th>\n",
              "    </tr>\n",
              "  </thead>\n",
              "  <tbody>\n",
              "    <tr>\n",
              "      <th>count</th>\n",
              "      <td>20417.000000</td>\n",
              "      <td>20417.000000</td>\n",
              "      <td>20417.000000</td>\n",
              "      <td>20417.000000</td>\n",
              "      <td>20417.000000</td>\n",
              "      <td>20417.000000</td>\n",
              "      <td>20417.000000</td>\n",
              "      <td>20417.000000</td>\n",
              "      <td>20417.000000</td>\n",
              "      <td>20417.000000</td>\n",
              "      <td>20417.000000</td>\n",
              "    </tr>\n",
              "    <tr>\n",
              "      <th>mean</th>\n",
              "      <td>206867.965568</td>\n",
              "      <td>1.166136</td>\n",
              "      <td>-119.570543</td>\n",
              "      <td>35.631614</td>\n",
              "      <td>28.634912</td>\n",
              "      <td>3.870970</td>\n",
              "      <td>4.984592</td>\n",
              "      <td>5.400583</td>\n",
              "      <td>2.937114</td>\n",
              "      <td>4.980824</td>\n",
              "      <td>5.032444</td>\n",
              "    </tr>\n",
              "    <tr>\n",
              "      <th>std</th>\n",
              "      <td>115431.096022</td>\n",
              "      <td>1.420546</td>\n",
              "      <td>2.003755</td>\n",
              "      <td>2.135635</td>\n",
              "      <td>12.591100</td>\n",
              "      <td>1.899041</td>\n",
              "      <td>1.171702</td>\n",
              "      <td>1.885913</td>\n",
              "      <td>0.944461</td>\n",
              "      <td>2.311603</td>\n",
              "      <td>4.010634</td>\n",
              "    </tr>\n",
              "    <tr>\n",
              "      <th>min</th>\n",
              "      <td>14999.000000</td>\n",
              "      <td>0.000000</td>\n",
              "      <td>-124.350000</td>\n",
              "      <td>32.540000</td>\n",
              "      <td>1.000000</td>\n",
              "      <td>0.499900</td>\n",
              "      <td>1.000000</td>\n",
              "      <td>0.846154</td>\n",
              "      <td>0.692308</td>\n",
              "      <td>-3.409768</td>\n",
              "      <td>-11.182254</td>\n",
              "    </tr>\n",
              "    <tr>\n",
              "      <th>25%</th>\n",
              "      <td>119500.000000</td>\n",
              "      <td>0.000000</td>\n",
              "      <td>-121.800000</td>\n",
              "      <td>33.930000</td>\n",
              "      <td>18.000000</td>\n",
              "      <td>2.563700</td>\n",
              "      <td>4.169683</td>\n",
              "      <td>4.441038</td>\n",
              "      <td>2.429238</td>\n",
              "      <td>3.406365</td>\n",
              "      <td>2.320378</td>\n",
              "    </tr>\n",
              "    <tr>\n",
              "      <th>50%</th>\n",
              "      <td>179800.000000</td>\n",
              "      <td>1.000000</td>\n",
              "      <td>-118.490000</td>\n",
              "      <td>34.260000</td>\n",
              "      <td>29.000000</td>\n",
              "      <td>3.536300</td>\n",
              "      <td>4.921739</td>\n",
              "      <td>5.230380</td>\n",
              "      <td>2.817610</td>\n",
              "      <td>4.969657</td>\n",
              "      <td>5.050139</td>\n",
              "    </tr>\n",
              "    <tr>\n",
              "      <th>75%</th>\n",
              "      <td>264700.000000</td>\n",
              "      <td>1.000000</td>\n",
              "      <td>-118.010000</td>\n",
              "      <td>37.710000</td>\n",
              "      <td>37.000000</td>\n",
              "      <td>4.743700</td>\n",
              "      <td>5.700364</td>\n",
              "      <td>6.051613</td>\n",
              "      <td>3.281481</td>\n",
              "      <td>6.558337</td>\n",
              "      <td>7.733056</td>\n",
              "    </tr>\n",
              "    <tr>\n",
              "      <th>max</th>\n",
              "      <td>500001.000000</td>\n",
              "      <td>4.000000</td>\n",
              "      <td>-114.310000</td>\n",
              "      <td>41.950000</td>\n",
              "      <td>52.000000</td>\n",
              "      <td>15.000100</td>\n",
              "      <td>10.000000</td>\n",
              "      <td>47.515152</td>\n",
              "      <td>41.214286</td>\n",
              "      <td>13.331572</td>\n",
              "      <td>20.305780</td>\n",
              "    </tr>\n",
              "  </tbody>\n",
              "</table>\n",
              "</div>"
            ],
            "text/plain": [
              "       median_house_value  ocean_proximity_enc     longitude      latitude  \\\n",
              "count        20417.000000         20417.000000  20417.000000  20417.000000   \n",
              "mean        206867.965568             1.166136   -119.570543     35.631614   \n",
              "std         115431.096022             1.420546      2.003755      2.135635   \n",
              "min          14999.000000             0.000000   -124.350000     32.540000   \n",
              "25%         119500.000000             0.000000   -121.800000     33.930000   \n",
              "50%         179800.000000             1.000000   -118.490000     34.260000   \n",
              "75%         264700.000000             1.000000   -118.010000     37.710000   \n",
              "max         500001.000000             4.000000   -114.310000     41.950000   \n",
              "\n",
              "       housing_median_age  median_income  rooms_per_bedroom  \\\n",
              "count        20417.000000   20417.000000       20417.000000   \n",
              "mean            28.634912       3.870970           4.984592   \n",
              "std             12.591100       1.899041           1.171702   \n",
              "min              1.000000       0.499900           1.000000   \n",
              "25%             18.000000       2.563700           4.169683   \n",
              "50%             29.000000       3.536300           4.921739   \n",
              "75%             37.000000       4.743700           5.700364   \n",
              "max             52.000000      15.000100          10.000000   \n",
              "\n",
              "       rooms_per_household  people_per_household            X1            X2  \n",
              "count         20417.000000          20417.000000  20417.000000  20417.000000  \n",
              "mean              5.400583              2.937114      4.980824      5.032444  \n",
              "std               1.885913              0.944461      2.311603      4.010634  \n",
              "min               0.846154              0.692308     -3.409768    -11.182254  \n",
              "25%               4.441038              2.429238      3.406365      2.320378  \n",
              "50%               5.230380              2.817610      4.969657      5.050139  \n",
              "75%               6.051613              3.281481      6.558337      7.733056  \n",
              "max              47.515152             41.214286     13.331572     20.305780  "
            ]
          },
          "execution_count": 7,
          "metadata": {},
          "output_type": "execute_result"
        }
      ],
      "source": [
        "housing.describe() # Computes summary statistics for DataFrame"
      ]
    },
    {
      "cell_type": "code",
      "execution_count": 8,
      "metadata": {
        "id": "3hUincMOwklS"
      },
      "outputs": [],
      "source": [
        "from sklearn.linear_model import Ridge\n",
        "# A regularization technique that adds a penalty term to the sum of squared errors in the linear regression objective function."
      ]
    },
    {
      "cell_type": "code",
      "execution_count": 9,
      "metadata": {
        "id": "7eY6S-yFwklS"
      },
      "outputs": [],
      "source": [
        "ridge_reg = Ridge(alpha = 0.1, fit_intercept = True) # Creates a Ridge instance\n",
        "# alpha: Controls the strength of the penalty, with larger values of alpha resulting in greater regularization.\n",
        "# A smaller value of alpha allows the model to fit the training data more closely, but may lead to overfitting.\n",
        "#  fit_intercept = True: Intercept included in the regression model"
      ]
    },
    {
      "cell_type": "code",
      "execution_count": 10,
      "metadata": {
        "id": "lOwsCfJDwklT"
      },
      "outputs": [],
      "source": [
        "from sklearn.pipeline import Pipeline\n",
        "from sklearn.preprocessing import StandardScaler\n",
        "\n",
        "ridge_reg_pipe = Pipeline([\n",
        "    ('scaler', StandardScaler()),\n",
        "    ('ridge_reg', ridge_reg) # Make sure the name is exactly the same (STEP for set_params)\n",
        "])\n",
        "\n",
        "# Pipeline consists of two steps:\n",
        "#  1. StandardScaler: This step applies the standard scaling technique to the input features.\n",
        "#  Standard scaling scales each feature to have zero mean and unit variance, which is a common preprocessing step for many machine learning algorithms.\n",
        "#  2. ridge_reg: Used for linear regression with L2 regularization"
      ]
    },
    {
      "cell_type": "code",
      "execution_count": 11,
      "metadata": {
        "id": "CUvvuiwKwklT"
      },
      "outputs": [],
      "source": [
        "from sklearn.linear_model import Lasso\n",
        "lasso = Lasso(alpha = 0.1, fit_intercept = True) # Creates a Lasso instance\n",
        "# alpha: Controls the strength of the penalty, with larger values of alpha resulting in greater regularization.\n",
        "# A smaller value of alpha allows the model to fit the training data more closely, but may lead to overfitting.\n",
        "#  fit_intercept = True: Intercept included in the regression model"
      ]
    },
    {
      "cell_type": "code",
      "execution_count": 12,
      "metadata": {
        "id": "29J3LY4EwklT"
      },
      "outputs": [],
      "source": [
        "lasso_pipe = Pipeline([\n",
        "    ('scaler', StandardScaler()),\n",
        "    ('lasso', lasso)\n",
        "])\n",
        "\n",
        "# Pipeline consists of two steps:\n",
        "#  1. StandardScaler: This step applies the standard scaling technique to the input features.\n",
        "#  Standard scaling scales each feature to have zero mean and unit variance, which is a common preprocessing step for many machine learning algorithms.\n",
        "#  2. lasso_reg: A linear regression technique that performs L1 regularization to shrink some of the coefficients towards zero, effectively performing feature selection."
      ]
    },
    {
      "cell_type": "markdown",
      "metadata": {
        "id": "6n8cuFtGwklT"
      },
      "source": [
        "#### 3) Fit Ridge Regression"
      ]
    },
    {
      "cell_type": "code",
      "execution_count": 13,
      "metadata": {
        "id": "t7NFjMNEwklU",
        "outputId": "b80616ac-a1f8-47dc-cbdd-11900e81d79c"
      },
      "outputs": [
        {
          "data": {
            "text/html": [
              "<style>#sk-container-id-1 {color: black;}#sk-container-id-1 pre{padding: 0;}#sk-container-id-1 div.sk-toggleable {background-color: white;}#sk-container-id-1 label.sk-toggleable__label {cursor: pointer;display: block;width: 100%;margin-bottom: 0;padding: 0.3em;box-sizing: border-box;text-align: center;}#sk-container-id-1 label.sk-toggleable__label-arrow:before {content: \"▸\";float: left;margin-right: 0.25em;color: #696969;}#sk-container-id-1 label.sk-toggleable__label-arrow:hover:before {color: black;}#sk-container-id-1 div.sk-estimator:hover label.sk-toggleable__label-arrow:before {color: black;}#sk-container-id-1 div.sk-toggleable__content {max-height: 0;max-width: 0;overflow: hidden;text-align: left;background-color: #f0f8ff;}#sk-container-id-1 div.sk-toggleable__content pre {margin: 0.2em;color: black;border-radius: 0.25em;background-color: #f0f8ff;}#sk-container-id-1 input.sk-toggleable__control:checked~div.sk-toggleable__content {max-height: 200px;max-width: 100%;overflow: auto;}#sk-container-id-1 input.sk-toggleable__control:checked~label.sk-toggleable__label-arrow:before {content: \"▾\";}#sk-container-id-1 div.sk-estimator input.sk-toggleable__control:checked~label.sk-toggleable__label {background-color: #d4ebff;}#sk-container-id-1 div.sk-label input.sk-toggleable__control:checked~label.sk-toggleable__label {background-color: #d4ebff;}#sk-container-id-1 input.sk-hidden--visually {border: 0;clip: rect(1px 1px 1px 1px);clip: rect(1px, 1px, 1px, 1px);height: 1px;margin: -1px;overflow: hidden;padding: 0;position: absolute;width: 1px;}#sk-container-id-1 div.sk-estimator {font-family: monospace;background-color: #f0f8ff;border: 1px dotted black;border-radius: 0.25em;box-sizing: border-box;margin-bottom: 0.5em;}#sk-container-id-1 div.sk-estimator:hover {background-color: #d4ebff;}#sk-container-id-1 div.sk-parallel-item::after {content: \"\";width: 100%;border-bottom: 1px solid gray;flex-grow: 1;}#sk-container-id-1 div.sk-label:hover label.sk-toggleable__label {background-color: #d4ebff;}#sk-container-id-1 div.sk-serial::before {content: \"\";position: absolute;border-left: 1px solid gray;box-sizing: border-box;top: 0;bottom: 0;left: 50%;z-index: 0;}#sk-container-id-1 div.sk-serial {display: flex;flex-direction: column;align-items: center;background-color: white;padding-right: 0.2em;padding-left: 0.2em;position: relative;}#sk-container-id-1 div.sk-item {position: relative;z-index: 1;}#sk-container-id-1 div.sk-parallel {display: flex;align-items: stretch;justify-content: center;background-color: white;position: relative;}#sk-container-id-1 div.sk-item::before, #sk-container-id-1 div.sk-parallel-item::before {content: \"\";position: absolute;border-left: 1px solid gray;box-sizing: border-box;top: 0;bottom: 0;left: 50%;z-index: -1;}#sk-container-id-1 div.sk-parallel-item {display: flex;flex-direction: column;z-index: 1;position: relative;background-color: white;}#sk-container-id-1 div.sk-parallel-item:first-child::after {align-self: flex-end;width: 50%;}#sk-container-id-1 div.sk-parallel-item:last-child::after {align-self: flex-start;width: 50%;}#sk-container-id-1 div.sk-parallel-item:only-child::after {width: 0;}#sk-container-id-1 div.sk-dashed-wrapped {border: 1px dashed gray;margin: 0 0.4em 0.5em 0.4em;box-sizing: border-box;padding-bottom: 0.4em;background-color: white;}#sk-container-id-1 div.sk-label label {font-family: monospace;font-weight: bold;display: inline-block;line-height: 1.2em;}#sk-container-id-1 div.sk-label-container {text-align: center;}#sk-container-id-1 div.sk-container {/* jupyter's `normalize.less` sets `[hidden] { display: none; }` but bootstrap.min.css set `[hidden] { display: none !important; }` so we also need the `!important` here to be able to override the default hidden behavior on the sphinx rendered scikit-learn.org. See: https://github.com/scikit-learn/scikit-learn/issues/21755 */display: inline-block !important;position: relative;}#sk-container-id-1 div.sk-text-repr-fallback {display: none;}</style><div id=\"sk-container-id-1\" class=\"sk-top-container\"><div class=\"sk-text-repr-fallback\"><pre>Pipeline(steps=[(&#x27;scaler&#x27;, StandardScaler()), (&#x27;ridge_reg&#x27;, Ridge(alpha=0.1))])</pre><b>In a Jupyter environment, please rerun this cell to show the HTML representation or trust the notebook. <br />On GitHub, the HTML representation is unable to render, please try loading this page with nbviewer.org.</b></div><div class=\"sk-container\" hidden><div class=\"sk-item sk-dashed-wrapped\"><div class=\"sk-label-container\"><div class=\"sk-label sk-toggleable\"><input class=\"sk-toggleable__control sk-hidden--visually\" id=\"sk-estimator-id-1\" type=\"checkbox\" ><label for=\"sk-estimator-id-1\" class=\"sk-toggleable__label sk-toggleable__label-arrow\">Pipeline</label><div class=\"sk-toggleable__content\"><pre>Pipeline(steps=[(&#x27;scaler&#x27;, StandardScaler()), (&#x27;ridge_reg&#x27;, Ridge(alpha=0.1))])</pre></div></div></div><div class=\"sk-serial\"><div class=\"sk-item\"><div class=\"sk-estimator sk-toggleable\"><input class=\"sk-toggleable__control sk-hidden--visually\" id=\"sk-estimator-id-2\" type=\"checkbox\" ><label for=\"sk-estimator-id-2\" class=\"sk-toggleable__label sk-toggleable__label-arrow\">StandardScaler</label><div class=\"sk-toggleable__content\"><pre>StandardScaler()</pre></div></div></div><div class=\"sk-item\"><div class=\"sk-estimator sk-toggleable\"><input class=\"sk-toggleable__control sk-hidden--visually\" id=\"sk-estimator-id-3\" type=\"checkbox\" ><label for=\"sk-estimator-id-3\" class=\"sk-toggleable__label sk-toggleable__label-arrow\">Ridge</label><div class=\"sk-toggleable__content\"><pre>Ridge(alpha=0.1)</pre></div></div></div></div></div></div></div>"
            ],
            "text/plain": [
              "Pipeline(steps=[('scaler', StandardScaler()), ('ridge_reg', Ridge(alpha=0.1))])"
            ]
          },
          "execution_count": 13,
          "metadata": {},
          "output_type": "execute_result"
        }
      ],
      "source": [
        "ridge_reg_pipe.fit(X_train, y_train) # Fitting the Ridge regression model to training data"
      ]
    },
    {
      "cell_type": "code",
      "execution_count": 14,
      "metadata": {
        "id": "dFS2tQTYwklU",
        "outputId": "8fd50cb7-e62d-47ee-ce45-faff6026fb1d"
      },
      "outputs": [
        {
          "name": "stdout",
          "output_type": "stream",
          "text": [
            "RMSE on training data: 67636.08948270889\n",
            "RMSE on test data: 69641.95294583413\n"
          ]
        }
      ],
      "source": [
        "from sklearn.metrics import mean_squared_error\n",
        "y_train_pred = ridge_reg_pipe.predict(X_train) # Makes predictions on the test set\n",
        "print(\"RMSE on training data:\", mean_squared_error(y_train, y_train_pred, squared = False)) # Minimize error\n",
        "# np.sqrt(mean_squared_error(y_train, y_train_pred)) ... same output for the code above\n",
        "# Ridge is a linear regression, 1 linear hyperplane\n",
        "\n",
        "# Takes two parameters: the predicted target values and the true target values, and returns the mean squared error between the two arrays.\n",
        "#  The mean squared error is computed as the average of the squared differences between the predicted and true values.\n",
        "#   mean_squared_error(y_true, y_pred)\n",
        "\n",
        "y_test_pred = ridge_reg_pipe.predict(X_test) # Makes predictions on the test set\n",
        "print(\"RMSE on test data:\", mean_squared_error(y_test, y_test_pred, squared = False)) # Minimize error\n",
        "# Error larger on testing MSE because linear regression is approximately predicting the test values\n",
        "# Penalizes values of beta and pushes them down"
      ]
    },
    {
      "cell_type": "markdown",
      "metadata": {
        "id": "GER7HsRiwklU"
      },
      "source": [
        "#### 4) Plot Ridge Regression Coefficients"
      ]
    },
    {
      "cell_type": "code",
      "execution_count": 15,
      "metadata": {
        "id": "maWaNqg-wklU"
      },
      "outputs": [],
      "source": [
        "ridge_reg_grid = 10 ** np.linspace(-2, 6, num = 20) # Geometrically linear spaced data (-2 to 6)\n",
        "# ridge_reg_grid = np.geomspace(1e-2, 1e6, num = 20) ... same output for the code above\n",
        "# np.logspace(-2, 6) ... same output for the code above"
      ]
    },
    {
      "cell_type": "code",
      "execution_count": 16,
      "metadata": {
        "id": "6mB9mNr0wklV",
        "outputId": "90d7143a-2b86-49f3-bef5-c3e162cc5d8c"
      },
      "outputs": [
        {
          "data": {
            "text/html": [
              "<style>#sk-container-id-2 {color: black;}#sk-container-id-2 pre{padding: 0;}#sk-container-id-2 div.sk-toggleable {background-color: white;}#sk-container-id-2 label.sk-toggleable__label {cursor: pointer;display: block;width: 100%;margin-bottom: 0;padding: 0.3em;box-sizing: border-box;text-align: center;}#sk-container-id-2 label.sk-toggleable__label-arrow:before {content: \"▸\";float: left;margin-right: 0.25em;color: #696969;}#sk-container-id-2 label.sk-toggleable__label-arrow:hover:before {color: black;}#sk-container-id-2 div.sk-estimator:hover label.sk-toggleable__label-arrow:before {color: black;}#sk-container-id-2 div.sk-toggleable__content {max-height: 0;max-width: 0;overflow: hidden;text-align: left;background-color: #f0f8ff;}#sk-container-id-2 div.sk-toggleable__content pre {margin: 0.2em;color: black;border-radius: 0.25em;background-color: #f0f8ff;}#sk-container-id-2 input.sk-toggleable__control:checked~div.sk-toggleable__content {max-height: 200px;max-width: 100%;overflow: auto;}#sk-container-id-2 input.sk-toggleable__control:checked~label.sk-toggleable__label-arrow:before {content: \"▾\";}#sk-container-id-2 div.sk-estimator input.sk-toggleable__control:checked~label.sk-toggleable__label {background-color: #d4ebff;}#sk-container-id-2 div.sk-label input.sk-toggleable__control:checked~label.sk-toggleable__label {background-color: #d4ebff;}#sk-container-id-2 input.sk-hidden--visually {border: 0;clip: rect(1px 1px 1px 1px);clip: rect(1px, 1px, 1px, 1px);height: 1px;margin: -1px;overflow: hidden;padding: 0;position: absolute;width: 1px;}#sk-container-id-2 div.sk-estimator {font-family: monospace;background-color: #f0f8ff;border: 1px dotted black;border-radius: 0.25em;box-sizing: border-box;margin-bottom: 0.5em;}#sk-container-id-2 div.sk-estimator:hover {background-color: #d4ebff;}#sk-container-id-2 div.sk-parallel-item::after {content: \"\";width: 100%;border-bottom: 1px solid gray;flex-grow: 1;}#sk-container-id-2 div.sk-label:hover label.sk-toggleable__label {background-color: #d4ebff;}#sk-container-id-2 div.sk-serial::before {content: \"\";position: absolute;border-left: 1px solid gray;box-sizing: border-box;top: 0;bottom: 0;left: 50%;z-index: 0;}#sk-container-id-2 div.sk-serial {display: flex;flex-direction: column;align-items: center;background-color: white;padding-right: 0.2em;padding-left: 0.2em;position: relative;}#sk-container-id-2 div.sk-item {position: relative;z-index: 1;}#sk-container-id-2 div.sk-parallel {display: flex;align-items: stretch;justify-content: center;background-color: white;position: relative;}#sk-container-id-2 div.sk-item::before, #sk-container-id-2 div.sk-parallel-item::before {content: \"\";position: absolute;border-left: 1px solid gray;box-sizing: border-box;top: 0;bottom: 0;left: 50%;z-index: -1;}#sk-container-id-2 div.sk-parallel-item {display: flex;flex-direction: column;z-index: 1;position: relative;background-color: white;}#sk-container-id-2 div.sk-parallel-item:first-child::after {align-self: flex-end;width: 50%;}#sk-container-id-2 div.sk-parallel-item:last-child::after {align-self: flex-start;width: 50%;}#sk-container-id-2 div.sk-parallel-item:only-child::after {width: 0;}#sk-container-id-2 div.sk-dashed-wrapped {border: 1px dashed gray;margin: 0 0.4em 0.5em 0.4em;box-sizing: border-box;padding-bottom: 0.4em;background-color: white;}#sk-container-id-2 div.sk-label label {font-family: monospace;font-weight: bold;display: inline-block;line-height: 1.2em;}#sk-container-id-2 div.sk-label-container {text-align: center;}#sk-container-id-2 div.sk-container {/* jupyter's `normalize.less` sets `[hidden] { display: none; }` but bootstrap.min.css set `[hidden] { display: none !important; }` so we also need the `!important` here to be able to override the default hidden behavior on the sphinx rendered scikit-learn.org. See: https://github.com/scikit-learn/scikit-learn/issues/21755 */display: inline-block !important;position: relative;}#sk-container-id-2 div.sk-text-repr-fallback {display: none;}</style><div id=\"sk-container-id-2\" class=\"sk-top-container\"><div class=\"sk-text-repr-fallback\"><pre>Pipeline(steps=[(&#x27;scaler&#x27;, StandardScaler()), (&#x27;ridge_reg&#x27;, Ridge(alpha=0.01))])</pre><b>In a Jupyter environment, please rerun this cell to show the HTML representation or trust the notebook. <br />On GitHub, the HTML representation is unable to render, please try loading this page with nbviewer.org.</b></div><div class=\"sk-container\" hidden><div class=\"sk-item sk-dashed-wrapped\"><div class=\"sk-label-container\"><div class=\"sk-label sk-toggleable\"><input class=\"sk-toggleable__control sk-hidden--visually\" id=\"sk-estimator-id-4\" type=\"checkbox\" ><label for=\"sk-estimator-id-4\" class=\"sk-toggleable__label sk-toggleable__label-arrow\">Pipeline</label><div class=\"sk-toggleable__content\"><pre>Pipeline(steps=[(&#x27;scaler&#x27;, StandardScaler()), (&#x27;ridge_reg&#x27;, Ridge(alpha=0.01))])</pre></div></div></div><div class=\"sk-serial\"><div class=\"sk-item\"><div class=\"sk-estimator sk-toggleable\"><input class=\"sk-toggleable__control sk-hidden--visually\" id=\"sk-estimator-id-5\" type=\"checkbox\" ><label for=\"sk-estimator-id-5\" class=\"sk-toggleable__label sk-toggleable__label-arrow\">StandardScaler</label><div class=\"sk-toggleable__content\"><pre>StandardScaler()</pre></div></div></div><div class=\"sk-item\"><div class=\"sk-estimator sk-toggleable\"><input class=\"sk-toggleable__control sk-hidden--visually\" id=\"sk-estimator-id-6\" type=\"checkbox\" ><label for=\"sk-estimator-id-6\" class=\"sk-toggleable__label sk-toggleable__label-arrow\">Ridge</label><div class=\"sk-toggleable__content\"><pre>Ridge(alpha=0.01)</pre></div></div></div></div></div></div></div>"
            ],
            "text/plain": [
              "Pipeline(steps=[('scaler', StandardScaler()), ('ridge_reg', Ridge(alpha=0.01))])"
            ]
          },
          "execution_count": 16,
          "metadata": {},
          "output_type": "execute_result"
        }
      ],
      "source": [
        "ridge_reg_grid # Array that contains different values of regularization parameter 'alpha'\n",
        "ridge_reg_pipe.set_params(ridge_reg__alpha = ridge_reg_grid[0]) # Sets the value of alpha for the Ridge Regression model inside the pipeline to be the first value in ridge_reg_grid.\n",
        "ridge_reg_pipe.fit(X_train, y_train) # Fits the Ridge Regression model"
      ]
    },
    {
      "cell_type": "code",
      "execution_count": 17,
      "metadata": {
        "id": "ySdreVBywklV"
      },
      "outputs": [],
      "source": [
        "coefs = [] # Empty list\n",
        "for alpha in ridge_reg_grid: # Loop though all possibilities of alpha\n",
        "    #print(alpha)\n",
        "    ridge_reg_pipe.set_params(ridge_reg__alpha = alpha) # This is the step is with __, changing alpha\n",
        "    ridge_reg_pipe.fit(X_train, y_train) # Fits the Ridge Regression model\n",
        "    coefs.append(ridge_reg_pipe.named_steps['ridge_reg'].coef_[0]) # Saves the coefficient values for the Ridge Regression model inside the pipeline to the list"
      ]
    },
    {
      "cell_type": "code",
      "execution_count": 18,
      "metadata": {
        "id": "3UOmLlvEwklV",
        "outputId": "d51e4c17-f434-491c-b0f9-050dcce07030",
        "scrolled": true
      },
      "outputs": [
        {
          "data": {
            "image/png": "[encoded data removed]",
            "text/plain": [
              "<Figure size 640x480 with 1 Axes>"
            ]
          },
          "metadata": {},
          "output_type": "display_data"
        }
      ],
      "source": [
        "plt.plot(np.log(ridge_reg_grid), coefs, ); # Creates a line plot of the coefficients again the log of alpha paramaters\n",
        "plt.xlabel(\"$\\\\alpha$\", fontsize = 12) # Label x-axis with font size\n",
        "plt.legend(X_train.columns, loc = \"upper right\", bbox_to_anchor = (1.5, 1)); # Include a legend with specifications\n",
        "plt.show()\n",
        "# Choice of alpha was good, in the end they converge to 0. Penalized to 0 if the alpha was larger\n",
        "# x1 and x2 does not seem very useful\n",
        "# Purple line converges slowly to 0. Lasso goes to 0 and Ridge gets closer to 0"
      ]
    },
    {
      "cell_type": "markdown",
      "metadata": {
        "id": "NFKiiDY_wkla"
      },
      "source": [
        "#### 5) Fit Lasso Regression"
      ]
    },
    {
      "cell_type": "code",
      "execution_count": 19,
      "metadata": {
        "id": "MksM-7Bkwkla",
        "outputId": "f691a44b-3e54-4be0-989f-89b2e5073b3d"
      },
      "outputs": [
        {
          "data": {
            "text/html": [
              "<style>#sk-container-id-3 {color: black;}#sk-container-id-3 pre{padding: 0;}#sk-container-id-3 div.sk-toggleable {background-color: white;}#sk-container-id-3 label.sk-toggleable__label {cursor: pointer;display: block;width: 100%;margin-bottom: 0;padding: 0.3em;box-sizing: border-box;text-align: center;}#sk-container-id-3 label.sk-toggleable__label-arrow:before {content: \"▸\";float: left;margin-right: 0.25em;color: #696969;}#sk-container-id-3 label.sk-toggleable__label-arrow:hover:before {color: black;}#sk-container-id-3 div.sk-estimator:hover label.sk-toggleable__label-arrow:before {color: black;}#sk-container-id-3 div.sk-toggleable__content {max-height: 0;max-width: 0;overflow: hidden;text-align: left;background-color: #f0f8ff;}#sk-container-id-3 div.sk-toggleable__content pre {margin: 0.2em;color: black;border-radius: 0.25em;background-color: #f0f8ff;}#sk-container-id-3 input.sk-toggleable__control:checked~div.sk-toggleable__content {max-height: 200px;max-width: 100%;overflow: auto;}#sk-container-id-3 input.sk-toggleable__control:checked~label.sk-toggleable__label-arrow:before {content: \"▾\";}#sk-container-id-3 div.sk-estimator input.sk-toggleable__control:checked~label.sk-toggleable__label {background-color: #d4ebff;}#sk-container-id-3 div.sk-label input.sk-toggleable__control:checked~label.sk-toggleable__label {background-color: #d4ebff;}#sk-container-id-3 input.sk-hidden--visually {border: 0;clip: rect(1px 1px 1px 1px);clip: rect(1px, 1px, 1px, 1px);height: 1px;margin: -1px;overflow: hidden;padding: 0;position: absolute;width: 1px;}#sk-container-id-3 div.sk-estimator {font-family: monospace;background-color: #f0f8ff;border: 1px dotted black;border-radius: 0.25em;box-sizing: border-box;margin-bottom: 0.5em;}#sk-container-id-3 div.sk-estimator:hover {background-color: #d4ebff;}#sk-container-id-3 div.sk-parallel-item::after {content: \"\";width: 100%;border-bottom: 1px solid gray;flex-grow: 1;}#sk-container-id-3 div.sk-label:hover label.sk-toggleable__label {background-color: #d4ebff;}#sk-container-id-3 div.sk-serial::before {content: \"\";position: absolute;border-left: 1px solid gray;box-sizing: border-box;top: 0;bottom: 0;left: 50%;z-index: 0;}#sk-container-id-3 div.sk-serial {display: flex;flex-direction: column;align-items: center;background-color: white;padding-right: 0.2em;padding-left: 0.2em;position: relative;}#sk-container-id-3 div.sk-item {position: relative;z-index: 1;}#sk-container-id-3 div.sk-parallel {display: flex;align-items: stretch;justify-content: center;background-color: white;position: relative;}#sk-container-id-3 div.sk-item::before, #sk-container-id-3 div.sk-parallel-item::before {content: \"\";position: absolute;border-left: 1px solid gray;box-sizing: border-box;top: 0;bottom: 0;left: 50%;z-index: -1;}#sk-container-id-3 div.sk-parallel-item {display: flex;flex-direction: column;z-index: 1;position: relative;background-color: white;}#sk-container-id-3 div.sk-parallel-item:first-child::after {align-self: flex-end;width: 50%;}#sk-container-id-3 div.sk-parallel-item:last-child::after {align-self: flex-start;width: 50%;}#sk-container-id-3 div.sk-parallel-item:only-child::after {width: 0;}#sk-container-id-3 div.sk-dashed-wrapped {border: 1px dashed gray;margin: 0 0.4em 0.5em 0.4em;box-sizing: border-box;padding-bottom: 0.4em;background-color: white;}#sk-container-id-3 div.sk-label label {font-family: monospace;font-weight: bold;display: inline-block;line-height: 1.2em;}#sk-container-id-3 div.sk-label-container {text-align: center;}#sk-container-id-3 div.sk-container {/* jupyter's `normalize.less` sets `[hidden] { display: none; }` but bootstrap.min.css set `[hidden] { display: none !important; }` so we also need the `!important` here to be able to override the default hidden behavior on the sphinx rendered scikit-learn.org. See: https://github.com/scikit-learn/scikit-learn/issues/21755 */display: inline-block !important;position: relative;}#sk-container-id-3 div.sk-text-repr-fallback {display: none;}</style><div id=\"sk-container-id-3\" class=\"sk-top-container\"><div class=\"sk-text-repr-fallback\"><pre>Pipeline(steps=[(&#x27;scaler&#x27;, StandardScaler()), (&#x27;lasso&#x27;, Lasso(alpha=0.1))])</pre><b>In a Jupyter environment, please rerun this cell to show the HTML representation or trust the notebook. <br />On GitHub, the HTML representation is unable to render, please try loading this page with nbviewer.org.</b></div><div class=\"sk-container\" hidden><div class=\"sk-item sk-dashed-wrapped\"><div class=\"sk-label-container\"><div class=\"sk-label sk-toggleable\"><input class=\"sk-toggleable__control sk-hidden--visually\" id=\"sk-estimator-id-7\" type=\"checkbox\" ><label for=\"sk-estimator-id-7\" class=\"sk-toggleable__label sk-toggleable__label-arrow\">Pipeline</label><div class=\"sk-toggleable__content\"><pre>Pipeline(steps=[(&#x27;scaler&#x27;, StandardScaler()), (&#x27;lasso&#x27;, Lasso(alpha=0.1))])</pre></div></div></div><div class=\"sk-serial\"><div class=\"sk-item\"><div class=\"sk-estimator sk-toggleable\"><input class=\"sk-toggleable__control sk-hidden--visually\" id=\"sk-estimator-id-8\" type=\"checkbox\" ><label for=\"sk-estimator-id-8\" class=\"sk-toggleable__label sk-toggleable__label-arrow\">StandardScaler</label><div class=\"sk-toggleable__content\"><pre>StandardScaler()</pre></div></div></div><div class=\"sk-item\"><div class=\"sk-estimator sk-toggleable\"><input class=\"sk-toggleable__control sk-hidden--visually\" id=\"sk-estimator-id-9\" type=\"checkbox\" ><label for=\"sk-estimator-id-9\" class=\"sk-toggleable__label sk-toggleable__label-arrow\">Lasso</label><div class=\"sk-toggleable__content\"><pre>Lasso(alpha=0.1)</pre></div></div></div></div></div></div></div>"
            ],
            "text/plain": [
              "Pipeline(steps=[('scaler', StandardScaler()), ('lasso', Lasso(alpha=0.1))])"
            ]
          },
          "execution_count": 19,
          "metadata": {},
          "output_type": "execute_result"
        }
      ],
      "source": [
        "lasso_pipe.fit(X_train, y_train) # Fitting the Lasso regression model to training data"
      ]
    },
    {
      "cell_type": "code",
      "execution_count": 20,
      "metadata": {
        "id": "54iJqP53wkla",
        "outputId": "07fa65d4-da01-47cd-fa58-a318d16a4c7c"
      },
      "outputs": [
        {
          "name": "stdout",
          "output_type": "stream",
          "text": [
            "RMSE on training data: 67636.07112819422\n",
            "RMSE on test data: 69642.05855737998\n"
          ]
        }
      ],
      "source": [
        "from sklearn.metrics import mean_squared_error\n",
        "y_train_pred = lasso_pipe.predict(X_train) # Makes predictions on the test set\n",
        "print(\"RMSE on training data:\", mean_squared_error(y_train, y_train_pred, squared = False)) # Minimize error\n",
        "# np.sqrt(mean_squared_error(y_train, y_train_pred)) ... same output for the code above\n",
        "# Ridge is a linear regression, 1 linear hyperplane\n",
        "\n",
        "# Takes two parameters: the predicted target values and the true target values, and returns the mean squared error between the two arrays.\n",
        "#  The mean squared error is computed as the average of the squared differences between the predicted and true values.\n",
        "#   mean_squared_error(y_true, y_pred)\n",
        "\n",
        "y_test_pred = lasso_pipe.predict(X_test) # Makes predictions on the test set\n",
        "print(\"RMSE on test data:\", mean_squared_error(y_test, y_test_pred, squared = False)) # Minimize error\n",
        "# Error larger on testing MSE because linear regression is approximately predicting the test values\n",
        "# Penalizes values of beta and pushes them down"
      ]
    },
    {
      "cell_type": "markdown",
      "metadata": {
        "id": "WulhgpH1wklb"
      },
      "source": [
        "#### 6) Plot Lasso Coefficients"
      ]
    },
    {
      "cell_type": "code",
      "execution_count": 21,
      "metadata": {
        "id": "3KY1Ka1zwklc"
      },
      "outputs": [],
      "source": [
        "lasso_grid = 10**np.linspace(0, 6, num=30) # Geometrically linear spaced data (-2 to 6)\n",
        "# lasso_grid = np.geomspace(1, 1e6, num=30) ... same output for the code above\n",
        "# lasso_grid = np.logspace(-2, 6) ... same output for the code above"
      ]
    },
    {
      "cell_type": "code",
      "execution_count": 22,
      "metadata": {
        "id": "5i34gMLWwklc"
      },
      "outputs": [],
      "source": [
        "coefs = [] # Empty list\n",
        "for alpha in lasso_grid: # Loop though all possibilities of alpha\n",
        "    lasso_pipe.set_params(lasso__alpha = alpha) # This is the step is with __, changing alpha\n",
        "    lasso_pipe.fit(X_train, y_train) # Fits the Lasso Regression model\n",
        "    coefs.append(lasso_pipe.named_steps['lasso'].coef_) # Saves the coefficient values for the Lasso Regression model inside the pipeline to the list"
      ]
    },
    {
      "cell_type": "code",
      "execution_count": 23,
      "metadata": {
        "id": "79J5mf_iwkld",
        "outputId": "7b4c681a-c073-4bc5-d303-1fe1939f3063"
      },
      "outputs": [
        {
          "data": {
            "text/plain": [
              "<matplotlib.legend.Legend at 0x174315535d0>"
            ]
          },
          "execution_count": 23,
          "metadata": {},
          "output_type": "execute_result"
        },
        {
          "data": {
            "image/png": "[encoded data removed]",
            "text/plain": [
              "<Figure size 640x480 with 1 Axes>"
            ]
          },
          "metadata": {},
          "output_type": "display_data"
        }
      ],
      "source": [
        "plt.plot(np.log10(lasso_grid), coefs) # Creates a line plot of the coefficients again the log of alpha paramaters\n",
        "plt.xlabel(\"$\\\\alpha$\", fontsize = 14); # Label x-axis with font size\n",
        "plt.legend(X_train.columns, loc = 'upper right', bbox_to_anchor = (1.5, 1)) # Include a legend with specifications"
      ]
    },
    {
      "cell_type": "markdown",
      "metadata": {
        "id": "kq4SfQNmwkld"
      },
      "source": [
        "#### 7) Prepare Cross-validation"
      ]
    },
    {
      "cell_type": "code",
      "execution_count": 24,
      "metadata": {
        "id": "gE6B1w5jwkle"
      },
      "outputs": [],
      "source": [
        "from sklearn.model_selection import KFold\n",
        "folds = KFold(n_splits = 10, random_state = 42, shuffle = True) # The data will be randomly shuffled before the cross-validation splits are created.\n",
        "# This helps to prevent bias due to any inherent order in the data."
      ]
    },
    {
      "cell_type": "markdown",
      "metadata": {
        "id": "gfqaXz64wkle"
      },
      "source": [
        "#### 8) Cross-validation for Ridge"
      ]
    },
    {
      "cell_type": "code",
      "execution_count": 25,
      "metadata": {
        "id": "WkpY_tb1wkle",
        "scrolled": true
      },
      "outputs": [],
      "source": [
        "ridge_param_grid = {\"ridge_reg__alpha\" : ridge_reg_grid} # Create hyperparameter, dictionary"
      ]
    },
    {
      "cell_type": "code",
      "execution_count": 26,
      "metadata": {
        "id": "DQMfQisqwkle"
      },
      "outputs": [],
      "source": [
        "from sklearn.model_selection import GridSearchCV"
      ]
    },
    {
      "cell_type": "code",
      "execution_count": 27,
      "metadata": {
        "id": "YJRCCAnvwklf"
      },
      "outputs": [],
      "source": [
        "ridgeCV = GridSearchCV(estimator = ridge_reg_pipe, # Specifies the estimator to be tuned, which is the ridge_reg_pipe pipeline object containing the Ridge regression model\n",
        "                       param_grid = ridge_param_grid, # Parameter specifies the grid of hyperparameters to search over. It should be a dictionary or a list of dictionaries containing the hyperparameters to be tuned and their corresponding values.\n",
        "                       scoring = \"neg_mean_squared_error\", # Parameter specifies the metric to be used for evaluating the performance of the model.\n",
        "                       cv = folds) # Specifies the cross-validation strategy to be used."
      ]
    },
    {
      "cell_type": "code",
      "execution_count": 28,
      "metadata": {
        "id": "08tOOs9Dwklf",
        "outputId": "833d97cc-5bf8-45c0-d39a-510af7577b56"
      },
      "outputs": [
        {
          "data": {
            "text/html": [
              "<style>#sk-container-id-4 {color: black;}#sk-container-id-4 pre{padding: 0;}#sk-container-id-4 div.sk-toggleable {background-color: white;}#sk-container-id-4 label.sk-toggleable__label {cursor: pointer;display: block;width: 100%;margin-bottom: 0;padding: 0.3em;box-sizing: border-box;text-align: center;}#sk-container-id-4 label.sk-toggleable__label-arrow:before {content: \"▸\";float: left;margin-right: 0.25em;color: #696969;}#sk-container-id-4 label.sk-toggleable__label-arrow:hover:before {color: black;}#sk-container-id-4 div.sk-estimator:hover label.sk-toggleable__label-arrow:before {color: black;}#sk-container-id-4 div.sk-toggleable__content {max-height: 0;max-width: 0;overflow: hidden;text-align: left;background-color: #f0f8ff;}#sk-container-id-4 div.sk-toggleable__content pre {margin: 0.2em;color: black;border-radius: 0.25em;background-color: #f0f8ff;}#sk-container-id-4 input.sk-toggleable__control:checked~div.sk-toggleable__content {max-height: 200px;max-width: 100%;overflow: auto;}#sk-container-id-4 input.sk-toggleable__control:checked~label.sk-toggleable__label-arrow:before {content: \"▾\";}#sk-container-id-4 div.sk-estimator input.sk-toggleable__control:checked~label.sk-toggleable__label {background-color: #d4ebff;}#sk-container-id-4 div.sk-label input.sk-toggleable__control:checked~label.sk-toggleable__label {background-color: #d4ebff;}#sk-container-id-4 input.sk-hidden--visually {border: 0;clip: rect(1px 1px 1px 1px);clip: rect(1px, 1px, 1px, 1px);height: 1px;margin: -1px;overflow: hidden;padding: 0;position: absolute;width: 1px;}#sk-container-id-4 div.sk-estimator {font-family: monospace;background-color: #f0f8ff;border: 1px dotted black;border-radius: 0.25em;box-sizing: border-box;margin-bottom: 0.5em;}#sk-container-id-4 div.sk-estimator:hover {background-color: #d4ebff;}#sk-container-id-4 div.sk-parallel-item::after {content: \"\";width: 100%;border-bottom: 1px solid gray;flex-grow: 1;}#sk-container-id-4 div.sk-label:hover label.sk-toggleable__label {background-color: #d4ebff;}#sk-container-id-4 div.sk-serial::before {content: \"\";position: absolute;border-left: 1px solid gray;box-sizing: border-box;top: 0;bottom: 0;left: 50%;z-index: 0;}#sk-container-id-4 div.sk-serial {display: flex;flex-direction: column;align-items: center;background-color: white;padding-right: 0.2em;padding-left: 0.2em;position: relative;}#sk-container-id-4 div.sk-item {position: relative;z-index: 1;}#sk-container-id-4 div.sk-parallel {display: flex;align-items: stretch;justify-content: center;background-color: white;position: relative;}#sk-container-id-4 div.sk-item::before, #sk-container-id-4 div.sk-parallel-item::before {content: \"\";position: absolute;border-left: 1px solid gray;box-sizing: border-box;top: 0;bottom: 0;left: 50%;z-index: -1;}#sk-container-id-4 div.sk-parallel-item {display: flex;flex-direction: column;z-index: 1;position: relative;background-color: white;}#sk-container-id-4 div.sk-parallel-item:first-child::after {align-self: flex-end;width: 50%;}#sk-container-id-4 div.sk-parallel-item:last-child::after {align-self: flex-start;width: 50%;}#sk-container-id-4 div.sk-parallel-item:only-child::after {width: 0;}#sk-container-id-4 div.sk-dashed-wrapped {border: 1px dashed gray;margin: 0 0.4em 0.5em 0.4em;box-sizing: border-box;padding-bottom: 0.4em;background-color: white;}#sk-container-id-4 div.sk-label label {font-family: monospace;font-weight: bold;display: inline-block;line-height: 1.2em;}#sk-container-id-4 div.sk-label-container {text-align: center;}#sk-container-id-4 div.sk-container {/* jupyter's `normalize.less` sets `[hidden] { display: none; }` but bootstrap.min.css set `[hidden] { display: none !important; }` so we also need the `!important` here to be able to override the default hidden behavior on the sphinx rendered scikit-learn.org. See: https://github.com/scikit-learn/scikit-learn/issues/21755 */display: inline-block !important;position: relative;}#sk-container-id-4 div.sk-text-repr-fallback {display: none;}</style><div id=\"sk-container-id-4\" class=\"sk-top-container\"><div class=\"sk-text-repr-fallback\"><pre>GridSearchCV(cv=KFold(n_splits=10, random_state=42, shuffle=True),\n",
              "             estimator=Pipeline(steps=[(&#x27;scaler&#x27;, StandardScaler()),\n",
              "                                       (&#x27;ridge_reg&#x27;, Ridge(alpha=1000000.0))]),\n",
              "             param_grid={&#x27;ridge_reg__alpha&#x27;: array([1.00000000e-02, 2.63665090e-02, 6.95192796e-02, 1.83298071e-01,\n",
              "       4.83293024e-01, 1.27427499e+00, 3.35981829e+00, 8.85866790e+00,\n",
              "       2.33572147e+01, 6.15848211e+01, 1.62377674e+02, 4.28133240e+02,\n",
              "       1.12883789e+03, 2.97635144e+03, 7.84759970e+03, 2.06913808e+04,\n",
              "       5.45559478e+04, 1.43844989e+05, 3.79269019e+05, 1.00000000e+06])},\n",
              "             scoring=&#x27;neg_mean_squared_error&#x27;)</pre><b>In a Jupyter environment, please rerun this cell to show the HTML representation or trust the notebook. <br />On GitHub, the HTML representation is unable to render, please try loading this page with nbviewer.org.</b></div><div class=\"sk-container\" hidden><div class=\"sk-item sk-dashed-wrapped\"><div class=\"sk-label-container\"><div class=\"sk-label sk-toggleable\"><input class=\"sk-toggleable__control sk-hidden--visually\" id=\"sk-estimator-id-10\" type=\"checkbox\" ><label for=\"sk-estimator-id-10\" class=\"sk-toggleable__label sk-toggleable__label-arrow\">GridSearchCV</label><div class=\"sk-toggleable__content\"><pre>GridSearchCV(cv=KFold(n_splits=10, random_state=42, shuffle=True),\n",
              "             estimator=Pipeline(steps=[(&#x27;scaler&#x27;, StandardScaler()),\n",
              "                                       (&#x27;ridge_reg&#x27;, Ridge(alpha=1000000.0))]),\n",
              "             param_grid={&#x27;ridge_reg__alpha&#x27;: array([1.00000000e-02, 2.63665090e-02, 6.95192796e-02, 1.83298071e-01,\n",
              "       4.83293024e-01, 1.27427499e+00, 3.35981829e+00, 8.85866790e+00,\n",
              "       2.33572147e+01, 6.15848211e+01, 1.62377674e+02, 4.28133240e+02,\n",
              "       1.12883789e+03, 2.97635144e+03, 7.84759970e+03, 2.06913808e+04,\n",
              "       5.45559478e+04, 1.43844989e+05, 3.79269019e+05, 1.00000000e+06])},\n",
              "             scoring=&#x27;neg_mean_squared_error&#x27;)</pre></div></div></div><div class=\"sk-parallel\"><div class=\"sk-parallel-item\"><div class=\"sk-item\"><div class=\"sk-label-container\"><div class=\"sk-label sk-toggleable\"><input class=\"sk-toggleable__control sk-hidden--visually\" id=\"sk-estimator-id-11\" type=\"checkbox\" ><label for=\"sk-estimator-id-11\" class=\"sk-toggleable__label sk-toggleable__label-arrow\">estimator: Pipeline</label><div class=\"sk-toggleable__content\"><pre>Pipeline(steps=[(&#x27;scaler&#x27;, StandardScaler()),\n",
              "                (&#x27;ridge_reg&#x27;, Ridge(alpha=1000000.0))])</pre></div></div></div><div class=\"sk-serial\"><div class=\"sk-item\"><div class=\"sk-serial\"><div class=\"sk-item\"><div class=\"sk-estimator sk-toggleable\"><input class=\"sk-toggleable__control sk-hidden--visually\" id=\"sk-estimator-id-12\" type=\"checkbox\" ><label for=\"sk-estimator-id-12\" class=\"sk-toggleable__label sk-toggleable__label-arrow\">StandardScaler</label><div class=\"sk-toggleable__content\"><pre>StandardScaler()</pre></div></div></div><div class=\"sk-item\"><div class=\"sk-estimator sk-toggleable\"><input class=\"sk-toggleable__control sk-hidden--visually\" id=\"sk-estimator-id-13\" type=\"checkbox\" ><label for=\"sk-estimator-id-13\" class=\"sk-toggleable__label sk-toggleable__label-arrow\">Ridge</label><div class=\"sk-toggleable__content\"><pre>Ridge(alpha=1000000.0)</pre></div></div></div></div></div></div></div></div></div></div></div></div>"
            ],
            "text/plain": [
              "GridSearchCV(cv=KFold(n_splits=10, random_state=42, shuffle=True),\n",
              "             estimator=Pipeline(steps=[('scaler', StandardScaler()),\n",
              "                                       ('ridge_reg', Ridge(alpha=1000000.0))]),\n",
              "             param_grid={'ridge_reg__alpha': array([1.00000000e-02, 2.63665090e-02, 6.95192796e-02, 1.83298071e-01,\n",
              "       4.83293024e-01, 1.27427499e+00, 3.35981829e+00, 8.85866790e+00,\n",
              "       2.33572147e+01, 6.15848211e+01, 1.62377674e+02, 4.28133240e+02,\n",
              "       1.12883789e+03, 2.97635144e+03, 7.84759970e+03, 2.06913808e+04,\n",
              "       5.45559478e+04, 1.43844989e+05, 3.79269019e+05, 1.00000000e+06])},\n",
              "             scoring='neg_mean_squared_error')"
            ]
          },
          "execution_count": 28,
          "metadata": {},
          "output_type": "execute_result"
        }
      ],
      "source": [
        "ridgeCV.fit(X_train, y_train) # Fit the Ridge model on training set\n",
        "# See that ridge and lasso work with small data sets"
      ]
    },
    {
      "cell_type": "code",
      "execution_count": 29,
      "metadata": {
        "id": "UuVNhLyOwklf",
        "outputId": "a97561f9-cc3a-4ad4-b91e-51903f6d0e74"
      },
      "outputs": [
        {
          "data": {
            "text/html": [
              "<div>\n",
              "<style scoped>\n",
              "    .dataframe tbody tr th:only-of-type {\n",
              "        vertical-align: middle;\n",
              "    }\n",
              "\n",
              "    .dataframe tbody tr th {\n",
              "        vertical-align: top;\n",
              "    }\n",
              "\n",
              "    .dataframe thead th {\n",
              "        text-align: right;\n",
              "    }\n",
              "</style>\n",
              "<table border=\"1\" class=\"dataframe\">\n",
              "  <thead>\n",
              "    <tr style=\"text-align: right;\">\n",
              "      <th></th>\n",
              "      <th>mean_fit_time</th>\n",
              "      <th>std_fit_time</th>\n",
              "      <th>mean_score_time</th>\n",
              "      <th>std_score_time</th>\n",
              "      <th>param_ridge_reg__alpha</th>\n",
              "      <th>params</th>\n",
              "      <th>split0_test_score</th>\n",
              "      <th>split1_test_score</th>\n",
              "      <th>split2_test_score</th>\n",
              "      <th>split3_test_score</th>\n",
              "      <th>split4_test_score</th>\n",
              "      <th>split5_test_score</th>\n",
              "      <th>split6_test_score</th>\n",
              "      <th>split7_test_score</th>\n",
              "      <th>split8_test_score</th>\n",
              "      <th>split9_test_score</th>\n",
              "      <th>mean_test_score</th>\n",
              "      <th>std_test_score</th>\n",
              "      <th>rank_test_score</th>\n",
              "    </tr>\n",
              "  </thead>\n",
              "  <tbody>\n",
              "    <tr>\n",
              "      <th>0</th>\n",
              "      <td>0.004574</td>\n",
              "      <td>0.003355</td>\n",
              "      <td>0.002049</td>\n",
              "      <td>0.003486</td>\n",
              "      <td>0.01</td>\n",
              "      <td>{'ridge_reg__alpha': 0.01}</td>\n",
              "      <td>-5.644469e+09</td>\n",
              "      <td>-4.638923e+09</td>\n",
              "      <td>-7.962666e+09</td>\n",
              "      <td>-4.723049e+09</td>\n",
              "      <td>-4.479162e+09</td>\n",
              "      <td>-2.946510e+09</td>\n",
              "      <td>-4.748250e+09</td>\n",
              "      <td>-4.135493e+09</td>\n",
              "      <td>-3.448923e+09</td>\n",
              "      <td>-4.497949e+09</td>\n",
              "      <td>-4.722539e+09</td>\n",
              "      <td>1.287894e+09</td>\n",
              "      <td>7</td>\n",
              "    </tr>\n",
              "    <tr>\n",
              "      <th>1</th>\n",
              "      <td>0.003023</td>\n",
              "      <td>0.004149</td>\n",
              "      <td>0.003601</td>\n",
              "      <td>0.003704</td>\n",
              "      <td>0.026367</td>\n",
              "      <td>{'ridge_reg__alpha': 0.026366508987303583}</td>\n",
              "      <td>-5.644290e+09</td>\n",
              "      <td>-4.638754e+09</td>\n",
              "      <td>-7.962858e+09</td>\n",
              "      <td>-4.723164e+09</td>\n",
              "      <td>-4.479401e+09</td>\n",
              "      <td>-2.946344e+09</td>\n",
              "      <td>-4.748286e+09</td>\n",
              "      <td>-4.135310e+09</td>\n",
              "      <td>-3.448960e+09</td>\n",
              "      <td>-4.497838e+09</td>\n",
              "      <td>-4.722520e+09</td>\n",
              "      <td>1.287955e+09</td>\n",
              "      <td>6</td>\n",
              "    </tr>\n",
              "    <tr>\n",
              "      <th>2</th>\n",
              "      <td>0.004776</td>\n",
              "      <td>0.004352</td>\n",
              "      <td>0.001485</td>\n",
              "      <td>0.002868</td>\n",
              "      <td>0.069519</td>\n",
              "      <td>{'ridge_reg__alpha': 0.06951927961775606}</td>\n",
              "      <td>-5.643820e+09</td>\n",
              "      <td>-4.638310e+09</td>\n",
              "      <td>-7.963363e+09</td>\n",
              "      <td>-4.723465e+09</td>\n",
              "      <td>-4.480030e+09</td>\n",
              "      <td>-2.945908e+09</td>\n",
              "      <td>-4.748381e+09</td>\n",
              "      <td>-4.134830e+09</td>\n",
              "      <td>-3.449059e+09</td>\n",
              "      <td>-4.497548e+09</td>\n",
              "      <td>-4.722471e+09</td>\n",
              "      <td>1.288117e+09</td>\n",
              "      <td>5</td>\n",
              "    </tr>\n",
              "    <tr>\n",
              "      <th>3</th>\n",
              "      <td>0.003341</td>\n",
              "      <td>0.004305</td>\n",
              "      <td>0.002154</td>\n",
              "      <td>0.003310</td>\n",
              "      <td>0.183298</td>\n",
              "      <td>{'ridge_reg__alpha': 0.18329807108324356}</td>\n",
              "      <td>-5.642588e+09</td>\n",
              "      <td>-4.637155e+09</td>\n",
              "      <td>-7.964693e+09</td>\n",
              "      <td>-4.724264e+09</td>\n",
              "      <td>-4.481691e+09</td>\n",
              "      <td>-2.944770e+09</td>\n",
              "      <td>-4.748636e+09</td>\n",
              "      <td>-4.133574e+09</td>\n",
              "      <td>-3.449327e+09</td>\n",
              "      <td>-4.496787e+09</td>\n",
              "      <td>-4.722349e+09</td>\n",
              "      <td>1.288542e+09</td>\n",
              "      <td>4</td>\n",
              "    </tr>\n",
              "    <tr>\n",
              "      <th>4</th>\n",
              "      <td>0.004249</td>\n",
              "      <td>0.004243</td>\n",
              "      <td>0.001609</td>\n",
              "      <td>0.001919</td>\n",
              "      <td>0.483293</td>\n",
              "      <td>{'ridge_reg__alpha': 0.4832930238571752}</td>\n",
              "      <td>-5.639396e+09</td>\n",
              "      <td>-4.634209e+09</td>\n",
              "      <td>-7.968176e+09</td>\n",
              "      <td>-4.726388e+09</td>\n",
              "      <td>-4.486073e+09</td>\n",
              "      <td>-2.941841e+09</td>\n",
              "      <td>-4.749337e+09</td>\n",
              "      <td>-4.130342e+09</td>\n",
              "      <td>-3.450074e+09</td>\n",
              "      <td>-4.494825e+09</td>\n",
              "      <td>-4.722066e+09</td>\n",
              "      <td>1.289645e+09</td>\n",
              "      <td>2</td>\n",
              "    </tr>\n",
              "  </tbody>\n",
              "</table>\n",
              "</div>"
            ],
            "text/plain": [
              "   mean_fit_time  std_fit_time  mean_score_time  std_score_time  \\\n",
              "0       0.004574      0.003355         0.002049        0.003486   \n",
              "1       0.003023      0.004149         0.003601        0.003704   \n",
              "2       0.004776      0.004352         0.001485        0.002868   \n",
              "3       0.003341      0.004305         0.002154        0.003310   \n",
              "4       0.004249      0.004243         0.001609        0.001919   \n",
              "\n",
              "  param_ridge_reg__alpha                                      params  \\\n",
              "0                   0.01                  {'ridge_reg__alpha': 0.01}   \n",
              "1               0.026367  {'ridge_reg__alpha': 0.026366508987303583}   \n",
              "2               0.069519   {'ridge_reg__alpha': 0.06951927961775606}   \n",
              "3               0.183298   {'ridge_reg__alpha': 0.18329807108324356}   \n",
              "4               0.483293    {'ridge_reg__alpha': 0.4832930238571752}   \n",
              "\n",
              "   split0_test_score  split1_test_score  split2_test_score  split3_test_score  \\\n",
              "0      -5.644469e+09      -4.638923e+09      -7.962666e+09      -4.723049e+09   \n",
              "1      -5.644290e+09      -4.638754e+09      -7.962858e+09      -4.723164e+09   \n",
              "2      -5.643820e+09      -4.638310e+09      -7.963363e+09      -4.723465e+09   \n",
              "3      -5.642588e+09      -4.637155e+09      -7.964693e+09      -4.724264e+09   \n",
              "4      -5.639396e+09      -4.634209e+09      -7.968176e+09      -4.726388e+09   \n",
              "\n",
              "   split4_test_score  split5_test_score  split6_test_score  split7_test_score  \\\n",
              "0      -4.479162e+09      -2.946510e+09      -4.748250e+09      -4.135493e+09   \n",
              "1      -4.479401e+09      -2.946344e+09      -4.748286e+09      -4.135310e+09   \n",
              "2      -4.480030e+09      -2.945908e+09      -4.748381e+09      -4.134830e+09   \n",
              "3      -4.481691e+09      -2.944770e+09      -4.748636e+09      -4.133574e+09   \n",
              "4      -4.486073e+09      -2.941841e+09      -4.749337e+09      -4.130342e+09   \n",
              "\n",
              "   split8_test_score  split9_test_score  mean_test_score  std_test_score  \\\n",
              "0      -3.448923e+09      -4.497949e+09    -4.722539e+09    1.287894e+09   \n",
              "1      -3.448960e+09      -4.497838e+09    -4.722520e+09    1.287955e+09   \n",
              "2      -3.449059e+09      -4.497548e+09    -4.722471e+09    1.288117e+09   \n",
              "3      -3.449327e+09      -4.496787e+09    -4.722349e+09    1.288542e+09   \n",
              "4      -3.450074e+09      -4.494825e+09    -4.722066e+09    1.289645e+09   \n",
              "\n",
              "   rank_test_score  \n",
              "0                7  \n",
              "1                6  \n",
              "2                5  \n",
              "3                4  \n",
              "4                2  "
            ]
          },
          "execution_count": 29,
          "metadata": {},
          "output_type": "execute_result"
        }
      ],
      "source": [
        "pd.DataFrame(ridgeCV.cv_results_).head(5) # Contains results from CV\n",
        "\n",
        "# mean_test_score: The mean accuracy score of the KNN classifier on the test data for a particular combination of hyperparameters.\n",
        "#  mean_train_score: The mean accuracy score of the KNN classifier on the training data for a particular combination of hyperparameters.\n",
        "#   std_test_score: The standard deviation of the accuracy score of the KNN classifier on the test data for a particular combination of hyperparameters.\n",
        "#    std_train_score: The standard deviation of the accuracy score of the KNN classifier on the training data for a particular combination of hyperparameters.\n",
        "#     params: A dictionary of the hyperparameters used for that particular combination."
      ]
    },
    {
      "cell_type": "code",
      "execution_count": 30,
      "metadata": {
        "id": "3bD4-Friwklf",
        "outputId": "c6954d1e-0991-4777-edb0-b1de006a50da"
      },
      "outputs": [
        {
          "name": "stdout",
          "output_type": "stream",
          "text": [
            "Minimum alpha: 1.2742749857031335\n",
            "1-SD alpha: 61.584821106602604\n",
            "Best score for ridge: 68713.9034607041\n"
          ]
        }
      ],
      "source": [
        "# Choose best model that minimizes cv_err/according to the 1-SE error\n",
        "mean_scores = -ridgeCV.cv_results_[\"mean_test_score\"]\n",
        "# The negative sign is used because the cross_val_score function in scikit-learn returns negative scores (higher is better),\n",
        "# but we want to work with positive scores (lower is better) for the MSE.\n",
        "std_scores = ridgeCV.cv_results_[\"std_test_score\"] / np.sqrt(ridgeCV.n_splits_) # Variability in the estimated test set MSE due to sampling from the data.\n",
        "alphas = ridgeCV.cv_results_[\"param_ridge_reg__alpha\"].data # An array of the different values of alpha that were tested\n",
        "\n",
        "index_best = np.argmin(mean_scores) # Index of the alpha value with the lowest MSE estimate, find minimum then the index (arg)\n",
        "min_alpha_ridge = alphas[index_best] # The value of alpha that corresponds to this minimum mean test score is then obtained by indexing the alphas array using index_best\n",
        "\n",
        "threshold_ridge = mean_scores[index_best] + std_scores[index_best] # Threshold that the mean test score should not exceed, in order to consider the corresponding alpha value as a candidate for selection.\n",
        "one_std_rule_alpha_ridge = np.max(alphas[mean_scores <= threshold_ridge]) # Maximum value of alpha from among the set of alpha values for which the mean test score is less than or equal to the threshold_ridge.\n",
        "\n",
        "print(\"Minimum alpha:\", min_alpha_ridge)\n",
        "print(\"1-SD alpha:\", one_std_rule_alpha_ridge)\n",
        "print(\"Best score for ridge:\", np.sqrt(np.min(mean_scores)))"
      ]
    },
    {
      "cell_type": "code",
      "execution_count": 31,
      "metadata": {
        "id": "dulwLVemwklg",
        "outputId": "e8d4f29c-9d2e-4103-ab11-2757908357d9"
      },
      "outputs": [
        {
          "data": {
            "image/png": "[encoded data removed]",
            "text/plain": [
              "<Figure size 640x480 with 1 Axes>"
            ]
          },
          "metadata": {},
          "output_type": "display_data"
        }
      ],
      "source": [
        "plt.errorbar(np.log10(ridge_reg_grid), y = mean_scores, yerr = std_scores, fmt = 'o', capsize = 3)\n",
        "# yerr: Parameter specifies the size of the error bars.\n",
        "# fmt: Specifies that the data points should be plotted as dots.\n",
        "# capsize: Length of the error bar caps in points.\n",
        "\n",
        "plt.axvline(np.log10(min_alpha_ridge), ls = 'dotted', color = \"grey\") # Vertical line at the alpha yielding minimum CV MSE\n",
        "plt.axvline(np.log10(one_std_rule_alpha_ridge), ls = 'dotted', color = \"grey\")  # Vertical line at best alpha value according to 1 std err rule\n",
        "plt.axhline(threshold_ridge, ls = 'dotted', color = \"grey\") # Create horizontal line as the threshold\n",
        "\n",
        "plt.title(\"Ridge Regressor CV Error\") # Label the plot with a title\n",
        "plt.xlabel('log(alpha)') # Label the x-axis\n",
        "plt.ylabel('Mean Squared Error') # Label the y-axis\n",
        "plt.show()"
      ]
    },
    {
      "cell_type": "markdown",
      "metadata": {
        "id": "80zXhfkawklg"
      },
      "source": [
        "#### 9) Cross-validaton for Lasso"
      ]
    },
    {
      "cell_type": "code",
      "execution_count": 32,
      "metadata": {
        "id": "wzHcv8FFwklg"
      },
      "outputs": [],
      "source": [
        "params_lasso = {\"lasso__alpha\" : lasso_grid} # Create hyperparameter, dictionary"
      ]
    },
    {
      "cell_type": "code",
      "execution_count": 33,
      "metadata": {
        "id": "0H4YKPncwklg"
      },
      "outputs": [],
      "source": [
        "lassoCV = GridSearchCV(estimator = lasso_pipe, # Specifies the estimator to be tuned, which is the ridge_reg_pipe pipeline object containing the Lasso regression model\n",
        "                       param_grid = params_lasso, # Parameter specifies the grid of hyperparameters to search over. It should be a dictionary or a list of dictionaries containing the hyperparameters to be tuned and their corresponding values.\n",
        "                       scoring = \"neg_mean_squared_error\",  # Parameter specifies the metric to be used for evaluating the performance of the model.\n",
        "                       cv = folds)  # Specifies the cross-validation strategy to be used."
      ]
    },
    {
      "cell_type": "code",
      "execution_count": 34,
      "metadata": {
        "id": "Mf40GFpgwklh",
        "outputId": "2d8adc5f-50e7-41e0-a52d-0100aa1cf226"
      },
      "outputs": [
        {
          "data": {
            "text/html": [
              "<style>#sk-container-id-5 {color: black;}#sk-container-id-5 pre{padding: 0;}#sk-container-id-5 div.sk-toggleable {background-color: white;}#sk-container-id-5 label.sk-toggleable__label {cursor: pointer;display: block;width: 100%;margin-bottom: 0;padding: 0.3em;box-sizing: border-box;text-align: center;}#sk-container-id-5 label.sk-toggleable__label-arrow:before {content: \"▸\";float: left;margin-right: 0.25em;color: #696969;}#sk-container-id-5 label.sk-toggleable__label-arrow:hover:before {color: black;}#sk-container-id-5 div.sk-estimator:hover label.sk-toggleable__label-arrow:before {color: black;}#sk-container-id-5 div.sk-toggleable__content {max-height: 0;max-width: 0;overflow: hidden;text-align: left;background-color: #f0f8ff;}#sk-container-id-5 div.sk-toggleable__content pre {margin: 0.2em;color: black;border-radius: 0.25em;background-color: #f0f8ff;}#sk-container-id-5 input.sk-toggleable__control:checked~div.sk-toggleable__content {max-height: 200px;max-width: 100%;overflow: auto;}#sk-container-id-5 input.sk-toggleable__control:checked~label.sk-toggleable__label-arrow:before {content: \"▾\";}#sk-container-id-5 div.sk-estimator input.sk-toggleable__control:checked~label.sk-toggleable__label {background-color: #d4ebff;}#sk-container-id-5 div.sk-label input.sk-toggleable__control:checked~label.sk-toggleable__label {background-color: #d4ebff;}#sk-container-id-5 input.sk-hidden--visually {border: 0;clip: rect(1px 1px 1px 1px);clip: rect(1px, 1px, 1px, 1px);height: 1px;margin: -1px;overflow: hidden;padding: 0;position: absolute;width: 1px;}#sk-container-id-5 div.sk-estimator {font-family: monospace;background-color: #f0f8ff;border: 1px dotted black;border-radius: 0.25em;box-sizing: border-box;margin-bottom: 0.5em;}#sk-container-id-5 div.sk-estimator:hover {background-color: #d4ebff;}#sk-container-id-5 div.sk-parallel-item::after {content: \"\";width: 100%;border-bottom: 1px solid gray;flex-grow: 1;}#sk-container-id-5 div.sk-label:hover label.sk-toggleable__label {background-color: #d4ebff;}#sk-container-id-5 div.sk-serial::before {content: \"\";position: absolute;border-left: 1px solid gray;box-sizing: border-box;top: 0;bottom: 0;left: 50%;z-index: 0;}#sk-container-id-5 div.sk-serial {display: flex;flex-direction: column;align-items: center;background-color: white;padding-right: 0.2em;padding-left: 0.2em;position: relative;}#sk-container-id-5 div.sk-item {position: relative;z-index: 1;}#sk-container-id-5 div.sk-parallel {display: flex;align-items: stretch;justify-content: center;background-color: white;position: relative;}#sk-container-id-5 div.sk-item::before, #sk-container-id-5 div.sk-parallel-item::before {content: \"\";position: absolute;border-left: 1px solid gray;box-sizing: border-box;top: 0;bottom: 0;left: 50%;z-index: -1;}#sk-container-id-5 div.sk-parallel-item {display: flex;flex-direction: column;z-index: 1;position: relative;background-color: white;}#sk-container-id-5 div.sk-parallel-item:first-child::after {align-self: flex-end;width: 50%;}#sk-container-id-5 div.sk-parallel-item:last-child::after {align-self: flex-start;width: 50%;}#sk-container-id-5 div.sk-parallel-item:only-child::after {width: 0;}#sk-container-id-5 div.sk-dashed-wrapped {border: 1px dashed gray;margin: 0 0.4em 0.5em 0.4em;box-sizing: border-box;padding-bottom: 0.4em;background-color: white;}#sk-container-id-5 div.sk-label label {font-family: monospace;font-weight: bold;display: inline-block;line-height: 1.2em;}#sk-container-id-5 div.sk-label-container {text-align: center;}#sk-container-id-5 div.sk-container {/* jupyter's `normalize.less` sets `[hidden] { display: none; }` but bootstrap.min.css set `[hidden] { display: none !important; }` so we also need the `!important` here to be able to override the default hidden behavior on the sphinx rendered scikit-learn.org. See: https://github.com/scikit-learn/scikit-learn/issues/21755 */display: inline-block !important;position: relative;}#sk-container-id-5 div.sk-text-repr-fallback {display: none;}</style><div id=\"sk-container-id-5\" class=\"sk-top-container\"><div class=\"sk-text-repr-fallback\"><pre>GridSearchCV(cv=KFold(n_splits=10, random_state=42, shuffle=True),\n",
              "             estimator=Pipeline(steps=[(&#x27;scaler&#x27;, StandardScaler()),\n",
              "                                       (&#x27;lasso&#x27;, Lasso(alpha=1000000.0))]),\n",
              "             param_grid={&#x27;lasso__alpha&#x27;: array([1.00000000e+00, 1.61026203e+00, 2.59294380e+00, 4.17531894e+00,\n",
              "       6.72335754e+00, 1.08263673e+01, 1.74332882e+01, 2.80721620e+01,\n",
              "       4.52035366e+01, 7.27895384e+01, 1.17210230e+02, 1.88739182e+02,\n",
              "       3.03919538e+02, 4.89390092e+02, 7.88046282e+02, 1.26896100e+03,\n",
              "       2.04335972e+03, 3.29034456e+03, 5.29831691e+03, 8.53167852e+03,\n",
              "       1.37382380e+04, 2.21221629e+04, 3.56224789e+04, 5.73615251e+04,\n",
              "       9.23670857e+04, 1.48735211e+05, 2.39502662e+05, 3.85662042e+05,\n",
              "       6.21016942e+05, 1.00000000e+06])},\n",
              "             scoring=&#x27;neg_mean_squared_error&#x27;)</pre><b>In a Jupyter environment, please rerun this cell to show the HTML representation or trust the notebook. <br />On GitHub, the HTML representation is unable to render, please try loading this page with nbviewer.org.</b></div><div class=\"sk-container\" hidden><div class=\"sk-item sk-dashed-wrapped\"><div class=\"sk-label-container\"><div class=\"sk-label sk-toggleable\"><input class=\"sk-toggleable__control sk-hidden--visually\" id=\"sk-estimator-id-14\" type=\"checkbox\" ><label for=\"sk-estimator-id-14\" class=\"sk-toggleable__label sk-toggleable__label-arrow\">GridSearchCV</label><div class=\"sk-toggleable__content\"><pre>GridSearchCV(cv=KFold(n_splits=10, random_state=42, shuffle=True),\n",
              "             estimator=Pipeline(steps=[(&#x27;scaler&#x27;, StandardScaler()),\n",
              "                                       (&#x27;lasso&#x27;, Lasso(alpha=1000000.0))]),\n",
              "             param_grid={&#x27;lasso__alpha&#x27;: array([1.00000000e+00, 1.61026203e+00, 2.59294380e+00, 4.17531894e+00,\n",
              "       6.72335754e+00, 1.08263673e+01, 1.74332882e+01, 2.80721620e+01,\n",
              "       4.52035366e+01, 7.27895384e+01, 1.17210230e+02, 1.88739182e+02,\n",
              "       3.03919538e+02, 4.89390092e+02, 7.88046282e+02, 1.26896100e+03,\n",
              "       2.04335972e+03, 3.29034456e+03, 5.29831691e+03, 8.53167852e+03,\n",
              "       1.37382380e+04, 2.21221629e+04, 3.56224789e+04, 5.73615251e+04,\n",
              "       9.23670857e+04, 1.48735211e+05, 2.39502662e+05, 3.85662042e+05,\n",
              "       6.21016942e+05, 1.00000000e+06])},\n",
              "             scoring=&#x27;neg_mean_squared_error&#x27;)</pre></div></div></div><div class=\"sk-parallel\"><div class=\"sk-parallel-item\"><div class=\"sk-item\"><div class=\"sk-label-container\"><div class=\"sk-label sk-toggleable\"><input class=\"sk-toggleable__control sk-hidden--visually\" id=\"sk-estimator-id-15\" type=\"checkbox\" ><label for=\"sk-estimator-id-15\" class=\"sk-toggleable__label sk-toggleable__label-arrow\">estimator: Pipeline</label><div class=\"sk-toggleable__content\"><pre>Pipeline(steps=[(&#x27;scaler&#x27;, StandardScaler()),\n",
              "                (&#x27;lasso&#x27;, Lasso(alpha=1000000.0))])</pre></div></div></div><div class=\"sk-serial\"><div class=\"sk-item\"><div class=\"sk-serial\"><div class=\"sk-item\"><div class=\"sk-estimator sk-toggleable\"><input class=\"sk-toggleable__control sk-hidden--visually\" id=\"sk-estimator-id-16\" type=\"checkbox\" ><label for=\"sk-estimator-id-16\" class=\"sk-toggleable__label sk-toggleable__label-arrow\">StandardScaler</label><div class=\"sk-toggleable__content\"><pre>StandardScaler()</pre></div></div></div><div class=\"sk-item\"><div class=\"sk-estimator sk-toggleable\"><input class=\"sk-toggleable__control sk-hidden--visually\" id=\"sk-estimator-id-17\" type=\"checkbox\" ><label for=\"sk-estimator-id-17\" class=\"sk-toggleable__label sk-toggleable__label-arrow\">Lasso</label><div class=\"sk-toggleable__content\"><pre>Lasso(alpha=1000000.0)</pre></div></div></div></div></div></div></div></div></div></div></div></div>"
            ],
            "text/plain": [
              "GridSearchCV(cv=KFold(n_splits=10, random_state=42, shuffle=True),\n",
              "             estimator=Pipeline(steps=[('scaler', StandardScaler()),\n",
              "                                       ('lasso', Lasso(alpha=1000000.0))]),\n",
              "             param_grid={'lasso__alpha': array([1.00000000e+00, 1.61026203e+00, 2.59294380e+00, 4.17531894e+00,\n",
              "       6.72335754e+00, 1.08263673e+01, 1.74332882e+01, 2.80721620e+01,\n",
              "       4.52035366e+01, 7.27895384e+01, 1.17210230e+02, 1.88739182e+02,\n",
              "       3.03919538e+02, 4.89390092e+02, 7.88046282e+02, 1.26896100e+03,\n",
              "       2.04335972e+03, 3.29034456e+03, 5.29831691e+03, 8.53167852e+03,\n",
              "       1.37382380e+04, 2.21221629e+04, 3.56224789e+04, 5.73615251e+04,\n",
              "       9.23670857e+04, 1.48735211e+05, 2.39502662e+05, 3.85662042e+05,\n",
              "       6.21016942e+05, 1.00000000e+06])},\n",
              "             scoring='neg_mean_squared_error')"
            ]
          },
          "execution_count": 34,
          "metadata": {},
          "output_type": "execute_result"
        }
      ],
      "source": [
        "lassoCV.fit(X_train, y_train) # Fit the Ridge model on training set\n",
        "# See that ridge and lasso work with small data sets"
      ]
    },
    {
      "cell_type": "code",
      "execution_count": 35,
      "metadata": {
        "id": "JFLOl_6Rwklh",
        "outputId": "d94cf5c8-750c-4e4d-e250-247aa6064ed3"
      },
      "outputs": [
        {
          "name": "stdout",
          "output_type": "stream",
          "text": [
            "Minimum alpha: 303.9195382313198\n",
            "1-SD alpha: 3290.3445623126677\n",
            "Best score for lasso: 68695.27606312264\n"
          ]
        }
      ],
      "source": [
        "# Choose best model that minimizes cv_err/according to the 1-SE error\n",
        "mean_scores = -lassoCV.cv_results_[\"mean_test_score\"]\n",
        "# The negative sign is used because the cross_val_score function in scikit-learn returns negative scores (higher is better),\n",
        "# but we want to work with positive scores (lower is better) for the MSE.\n",
        "std_scores = lassoCV.cv_results_[\"std_test_score\"] / np.sqrt(lassoCV.n_splits_) # Variability in the estimated test set MSE due to sampling from the data.\n",
        "alphas = lassoCV.cv_results_[\"param_lasso__alpha\"].data # An array of the different values of alpha that were tested\n",
        "\n",
        "index_best = np.argmin(mean_scores) # Index of the alpha value with the lowest MSE estimate, find minimum then the index (arg)\n",
        "min_alpha_lasso = alphas[index_best] # The value of alpha that corresponds to this minimum mean test score is then obtained by indexing the alphas array using index_best\n",
        "\n",
        "threshold_lasso = mean_scores[index_best] + std_scores[index_best] # Threshold that the mean test score should not exceed, in order to consider the corresponding alpha value as a candidate for selection.\n",
        "one_std_rule_alpha_lasso = np.max(alphas[mean_scores <= threshold_lasso]) # Maximum value of alpha from among the set of alpha values for which the mean test score is less than or equal to the threshold_lasso.\n",
        "\n",
        "print(\"Minimum alpha:\", min_alpha_lasso)\n",
        "print(\"1-SD alpha:\", one_std_rule_alpha_lasso)\n",
        "print(\"Best score for lasso:\", np.sqrt(np.min(mean_scores)))"
      ]
    },
    {
      "cell_type": "code",
      "execution_count": 36,
      "metadata": {
        "id": "z1tBlUUbwklh",
        "outputId": "f117029c-faa9-403e-8d31-4e78c3504cb6"
      },
      "outputs": [
        {
          "data": {
            "image/png": "[encoded data removed]",
            "text/plain": [
              "<Figure size 640x480 with 1 Axes>"
            ]
          },
          "metadata": {},
          "output_type": "display_data"
        }
      ],
      "source": [
        "plt.errorbar(x = np.log10(lasso_grid), y = mean_scores, yerr = std_scores, fmt = 'o', capsize = 3)\n",
        "# yerr: Parameter specifies the size of the error bars.\n",
        "# fmt: Specifies that the data points should be plotted as dots.\n",
        "# capsize: Length of the error bar caps in points.\n",
        "\n",
        "plt.axvline(np.log10(min_alpha_lasso), ls = 'dotted', color = \"grey\") # Vertical line at the alpha yielding minimum CV MSE\n",
        "plt.axvline(np.log10(one_std_rule_alpha_lasso), ls = 'dotted', color = \"grey\")  # Vertical line at best alpha value according to 1 std err rule\n",
        "plt.axhline(threshold_lasso, ls = 'dotted', color = \"grey\") # Create horizontal line as the threshold\n",
        "\n",
        "plt.title(\"Lasso Regressor CV Error\") # Label the plot with a title\n",
        "plt.xlabel('log(alpha)') # Label the x-axis\n",
        "plt.ylabel('Mean Squared Error') # Label the y-axis\n",
        "plt.show()"
      ]
    },
    {
      "cell_type": "markdown",
      "metadata": {
        "id": "LT2ZjgViwklh"
      },
      "source": [
        "#### 10) Compute Performance Between the Two Models"
      ]
    },
    {
      "cell_type": "code",
      "execution_count": 37,
      "metadata": {
        "id": "VkupwzClwkli",
        "outputId": "a1405ab2-5ded-4d07-bd0d-08165c108182"
      },
      "outputs": [
        {
          "data": {
            "text/plain": [
              "71436.87849983232"
            ]
          },
          "execution_count": 37,
          "metadata": {},
          "output_type": "execute_result"
        }
      ],
      "source": [
        "# Refit best ridge on whole training data and evaluate on test\n",
        "ridge_reg_pipe.set_params(ridge_reg__alpha = one_std_rule_alpha_ridge)\n",
        "ridge_reg_pipe.fit(X_train, y_train)\n",
        "\n",
        "y_test_pred = ridge_reg_pipe.predict(X_test) # Use the Ridge model to predict on test set\n",
        "mean_squared_error(y_test, y_test_pred, squared = False)\n",
        "# Takes two parameters: the predicted target values and the true target values, and returns the mean squared error between the two arrays.\n",
        "#  The mean squared error is computed as the average of the squared differences between the predicted and true values.\n",
        "#   mean_squared_error(y_true, y_pred)"
      ]
    },
    {
      "cell_type": "code",
      "execution_count": 38,
      "metadata": {
        "id": "_ZbtbYEFwkli",
        "outputId": "ec6057ed-2df4-4a8b-b21c-7e962ff7fbee"
      },
      "outputs": [
        {
          "data": {
            "text/plain": [
              "71748.85385235885"
            ]
          },
          "execution_count": 38,
          "metadata": {},
          "output_type": "execute_result"
        }
      ],
      "source": [
        "# Refit best lasso on whole training data and evaluate on test\n",
        "lasso_pipe.set_params(lasso__alpha = one_std_rule_alpha_lasso)\n",
        "lasso_pipe.fit(X_train, y_train)\n",
        "\n",
        "y_test_pred = lasso_pipe.predict(X_test) # Use the Lasso model to predict on test set\n",
        "mean_squared_error(y_test, y_test_pred, squared = False)\n",
        "# Takes two parameters: the predicted target values and the true target values, and returns the mean squared error between the two arrays.\n",
        "#  The mean squared error is computed as the average of the squared differences between the predicted and true values.\n",
        "#   mean_squared_error(y_true, y_pred)"
      ]
    },
    {
      "cell_type": "code",
      "execution_count": 39,
      "metadata": {
        "id": "3apCxwV2wkli",
        "outputId": "9d5973cc-9e86-418f-a968-b0c2f663cccb"
      },
      "outputs": [
        {
          "data": {
            "text/plain": [
              "['rooms_per_household', 'X1', 'X2']"
            ]
          },
          "execution_count": 39,
          "metadata": {},
          "output_type": "execute_result"
        }
      ],
      "source": [
        "# Show predictor that are kept/ignored by lasso\n",
        "X.columns[lasso_pipe.named_steps['lasso'].coef_ != 0].to_list() # Selecting the column names of a Pandas DataFrame X that have non-zero coefficients in a Lasso regression model\n",
        "X.columns[lasso_pipe.named_steps['lasso'].coef_ == 0].to_list() # Selecting the column names of a Pandas DataFrame X that have zero coefficients in a Lasso regression model"
      ]
    },
    {
      "cell_type": "code",
      "execution_count": 40,
      "metadata": {
        "id": "5PnPj-Jtwklj",
        "outputId": "0a4fbe51-ad88-4827-fbea-7cdbe3cfbd27"
      },
      "outputs": [
        {
          "data": {
            "text/plain": [
              "array([  5364.57662992, -34529.32833244, -42404.10654704,  15101.82587984,\n",
              "        81918.41873228, -10844.70949939,      0.        , -20239.78943827,\n",
              "            0.        ,      0.        ])"
            ]
          },
          "execution_count": 40,
          "metadata": {},
          "output_type": "execute_result"
        }
      ],
      "source": [
        "ridge_reg_pipe.named_steps['ridge_reg'].coef_ # Accessing the coefficients of a Ridge regression model.\n",
        "# Ridge regression is a type of linear regression that includes a penalty term to prevent overfitting.\n",
        "# The coef_ attribute returns an array of coefficients, one for each feature in the dataset, that minimize the sum of squared errors between the predicted and actual values of the target variable.\n",
        "lasso_pipe.named_steps['lasso'].coef_ # Accessing the coefficients of a Lasso regression model.\n",
        "# Lasso regression is another type of linear regression that includes a penalty term to prevent overfitting.\n",
        "# However, unlike Ridge regression, Lasso regression uses the L1 penalty, which has the effect of setting some of the coefficients to exactly zero.\n",
        "# The coef_ attribute returns an array of coefficients, one for each feature in the dataset, that minimize the sum of squared errors subject to the constraint that the absolute value of each coefficient is less than or equal to a specified constant"
      ]
    },
    {
      "cell_type": "code",
      "execution_count": 41,
      "metadata": {
        "id": "gmIU3X2Vwklj",
        "outputId": "b06cc2d2-adfa-43c7-e2e9-8ee1ffdc14ca"
      },
      "outputs": [
        {
          "data": {
            "text/plain": [
              "69642.08569047572"
            ]
          },
          "execution_count": 41,
          "metadata": {},
          "output_type": "execute_result"
        }
      ],
      "source": [
        "# Linear regression\n",
        "from sklearn.linear_model import LinearRegression\n",
        "lin_reg = LinearRegression() # Creates an instance of the LinearRegression class\n",
        "lin_reg.fit(X_train, y_train) # Fits the linear regression model to the training data\n",
        "\n",
        "y_test_pred = lin_reg.predict(X_test) # Generates predicted target variable values for the test set X_test using the trained linear regression model.\n",
        "mean_squared_error(y_test, y_test_pred, squared = False) # Calculates the RMSE between the predicted values y_test_pred and the actual target values y_test."
      ]
    }
  ],
  "metadata": {
    "colab": {
      "provenance": []
    },
    "kernelspec": {
      "display_name": "Python 3 (ipykernel)",
      "language": "python",
      "name": "python3"
    },
    "language_info": {
      "codemirror_mode": {
        "name": "ipython",
        "version": 3
      },
      "file_extension": ".py",
      "mimetype": "text/x-python",
      "name": "python",
      "nbconvert_exporter": "python",
      "pygments_lexer": "ipython3",
      "version": "3.11.6"
    },
    "toc": {
      "base_numbering": 1,
      "nav_menu": {},
      "number_sections": false,
      "sideBar": true,
      "skip_h1_title": true,
      "title_cell": "Table of Contents",
      "title_sidebar": "Contents",
      "toc_cell": false,
      "toc_position": {
        "height": "calc(100% - 180px)",
        "left": "10px",
        "top": "150px",
        "width": "216px"
      },
      "toc_section_display": true,
      "toc_window_display": true
    },
    "varInspector": {
      "cols": {
        "lenName": 16,
        "lenType": 16,
        "lenVar": 40
      },
      "kernels_config": {
        "python": {
          "delete_cmd_postfix": "",
          "delete_cmd_prefix": "del ",
          "library": "var_list.py",
          "varRefreshCmd": "print(var_dic_list())"
        },
        "r": {
          "delete_cmd_postfix": ") ",
          "delete_cmd_prefix": "rm(",
          "library": "var_list.r",
          "varRefreshCmd": "cat(var_dic_list()) "
        }
      },
      "types_to_exclude": [
        "module",
        "function",
        "builtin_function_or_method",
        "instance",
        "_Feature"
      ],
      "window_display": false
    },
    "vscode": {
      "interpreter": {
        "hash": "275c90bd5bb82664c788af040251692cc03dc86a881c38c70c21622899dbd0c4"
      }
    }
  },
  "nbformat": 4,
  "nbformat_minor": 0
}
